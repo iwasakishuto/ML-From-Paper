{
 "cells": [
  {
   "cell_type": "markdown",
   "metadata": {},
   "source": [
    "# Model Estimation\n",
    "I trained this Neighbor Comparison model by my company's lots of images."
   ]
  },
  {
   "cell_type": "markdown",
   "metadata": {},
   "source": [
    "<img src=\"https://image.slidesharecdn.com/deep-reidzhedong-170731023828/95/deep-reid-26-638.jpg?cb=1501473721\">"
   ]
  },
  {
   "cell_type": "markdown",
   "metadata": {},
   "source": [
    "## Load Model"
   ]
  },
  {
   "cell_type": "code",
   "execution_count": 1,
   "metadata": {
    "collapsed": true
   },
   "outputs": [],
   "source": [
    "from main import generate_model"
   ]
  },
  {
   "cell_type": "code",
   "execution_count": 2,
   "metadata": {},
   "outputs": [
    {
     "name": "stdout",
     "output_type": "stream",
     "text": [
      "WARNING:tensorflow:From /Users/iwasakishuto/.pyenv/versions/anaconda3-5.0.1/lib/python3.6/site-packages/tensorflow/python/ops/resource_variable_ops.py:435: colocate_with (from tensorflow.python.framework.ops) is deprecated and will be removed in a future version.\n",
      "Instructions for updating:\n",
      "Colocations handled automatically by placer.\n"
     ]
    }
   ],
   "source": [
    "model = generate_model(print_summary=False)\n",
    "model.load_weights('./weight/checkpoint_06-0.194.weight')"
   ]
  },
  {
   "cell_type": "markdown",
   "metadata": {},
   "source": [
    "<summary>\n",
    "    `model.summary()`\n",
    "    <details>\n",
    "```\n",
    "__________________________________________________________________________________________________\n",
    "Layer (type)                    Output Shape         Param #     Connected to                     \n",
    "==================================================================================================\n",
    "x1_input (InputLayer)           (None, 160, 60, 3)   0                                            \n",
    "__________________________________________________________________________________________________\n",
    "x2_input (InputLayer)           (None, 160, 60, 3)   0                                            \n",
    "__________________________________________________________________________________________________\n",
    "share_conv_1 (Conv2D)           (None, 156, 56, 20)  1520        x1_input[0][0]                   \n",
    "                                                                 x2_input[0][0]                   \n",
    "__________________________________________________________________________________________________\n",
    "max_pooling2d (MaxPooling2D)    (None, 78, 28, 20)   0           share_conv_1[0][0]               \n",
    "__________________________________________________________________________________________________\n",
    "max_pooling2d_1 (MaxPooling2D)  (None, 78, 28, 20)   0           share_conv_1[1][0]               \n",
    "__________________________________________________________________________________________________\n",
    "share_conv_2 (Conv2D)           (None, 74, 24, 25)   12525       max_pooling2d[0][0]              \n",
    "                                                                 max_pooling2d_1[0][0]            \n",
    "__________________________________________________________________________________________________\n",
    "max_pooling2d_2 (MaxPooling2D)  (None, 37, 12, 25)   0           share_conv_2[0][0]               \n",
    "__________________________________________________________________________________________________\n",
    "max_pooling2d_3 (MaxPooling2D)  (None, 37, 12, 25)   0           share_conv_2[1][0]               \n",
    "__________________________________________________________________________________________________\n",
    "lambda_1 (Lambda)               (None, 185, 60, 25)  0           max_pooling2d_3[0][0]            \n",
    "__________________________________________________________________________________________________\n",
    "lambda (Lambda)                 (None, 185, 60, 25)  0           max_pooling2d_2[0][0]            \n",
    "__________________________________________________________________________________________________\n",
    "up_sampling2d (UpSampling2D)    (None, 185, 60, 25)  0           max_pooling2d_2[0][0]            \n",
    "__________________________________________________________________________________________________\n",
    "lambda_3 (Lambda)               (None, 185, 60, 25)  0           lambda_1[0][0]                   \n",
    "__________________________________________________________________________________________________\n",
    "up_sampling2d_1 (UpSampling2D)  (None, 185, 60, 25)  0           max_pooling2d_3[0][0]            \n",
    "__________________________________________________________________________________________________\n",
    "lambda_2 (Lambda)               (None, 185, 60, 25)  0           lambda[0][0]                     \n",
    "__________________________________________________________________________________________________\n",
    "add (Add)                       (None, 185, 60, 25)  0           up_sampling2d[0][0]              \n",
    "                                                                 lambda_3[0][0]                   \n",
    "__________________________________________________________________________________________________\n",
    "add_1 (Add)                     (None, 185, 60, 25)  0           up_sampling2d_1[0][0]            \n",
    "                                                                 lambda_2[0][0]                   \n",
    "__________________________________________________________________________________________________\n",
    "conv_3_1 (Conv2D)               (None, 37, 12, 25)   15650       add[0][0]                        \n",
    "__________________________________________________________________________________________________\n",
    "conv_3_2 (Conv2D)               (None, 37, 12, 25)   15650       add_1[0][0]                      \n",
    "__________________________________________________________________________________________________\n",
    "conv_4_1 (Conv2D)               (None, 35, 10, 25)   5650        conv_3_1[0][0]                   \n",
    "__________________________________________________________________________________________________\n",
    "conv_4_2 (Conv2D)               (None, 35, 10, 25)   5650        conv_3_2[0][0]                   \n",
    "__________________________________________________________________________________________________\n",
    "max_pooling2d_4 (MaxPooling2D)  (None, 18, 5, 25)    0           conv_4_1[0][0]                   \n",
    "__________________________________________________________________________________________________\n",
    "max_pooling2d_5 (MaxPooling2D)  (None, 18, 5, 25)    0           conv_4_2[0][0]                   \n",
    "__________________________________________________________________________________________________\n",
    "concatenate (Concatenate)       (None, 18, 5, 50)    0           max_pooling2d_4[0][0]            \n",
    "                                                                 max_pooling2d_5[0][0]            \n",
    "__________________________________________________________________________________________________\n",
    "flatten (Flatten)               (None, 4500)         0           concatenate[0][0]                \n",
    "__________________________________________________________________________________________________\n",
    "dense (Dense)                   (None, 500)          2250500     flatten[0][0]                    \n",
    "__________________________________________________________________________________________________\n",
    "dense_1 (Dense)                 (None, 2)            1002        dense[0][0]                      \n",
    "==================================================================================================\n",
    "Total params: 2,308,147\n",
    "Trainable params: 2,308,147\n",
    "Non-trainable params: 0\n",
    "__________________________________________________________________________________________________\n",
    "```\n",
    "    </details>\n",
    "</summary>"
   ]
  },
  {
   "cell_type": "markdown",
   "metadata": {},
   "source": [
    "***"
   ]
  },
  {
   "cell_type": "code",
   "execution_count": 4,
   "metadata": {},
   "outputs": [
    {
     "name": "stdout",
     "output_type": "stream",
     "text": [
      "fals-diff-369_1573.png  false-same-1247.png\r\n",
      "fals-diff-369_1585.png  false-same-73_15309.png\r\n"
     ]
    }
   ],
   "source": [
    "! ls img"
   ]
  },
  {
   "cell_type": "code",
   "execution_count": 8,
   "metadata": {},
   "outputs": [
    {
     "name": "stdout",
     "output_type": "stream",
     "text": [
      ".\r\n",
      "├── CNN-for-ReID.py\r\n",
      "├── __pycache__\r\n",
      "│   └── main.cpython-36.pyc\r\n",
      "├── img\r\n",
      "│   ├── fals-diff-369_1573.png\r\n",
      "│   ├── fals-diff-369_1585.png\r\n",
      "│   ├── false-same-1247.png\r\n",
      "│   └── false-same-73_15309.png\r\n",
      "├── main.py\r\n",
      "├── model.ipynb\r\n",
      "├── pair.csv\r\n",
      "├── train_model.ipynb\r\n",
      "└── weight\r\n",
      "    └── checkpoint_06-0.194.weight\r\n",
      "\r\n",
      "3 directories, 11 files\r\n"
     ]
    }
   ],
   "source": [
    "! tree"
   ]
  },
  {
   "cell_type": "code",
   "execution_count": 9,
   "metadata": {},
   "outputs": [
    {
     "name": "stdout",
     "output_type": "stream",
     "text": [
      "Python 3.6.8 :: Anaconda, Inc.\r\n"
     ]
    }
   ],
   "source": [
    "! python --version"
   ]
  },
  {
   "cell_type": "markdown",
   "metadata": {
    "collapsed": true
   },
   "source": [
    "## Define some functions."
   ]
  },
  {
   "cell_type": "code",
   "execution_count": 5,
   "metadata": {
    "collapsed": true
   },
   "outputs": [],
   "source": [
    "from PIL import Image\n",
    "import matplotlib.pyplot as plt\n",
    "% matplotlib inline"
   ]
  },
  {
   "cell_type": "code",
   "execution_count": 24,
   "metadata": {
    "collapsed": true
   },
   "outputs": [],
   "source": [
    "def load_img(path, grayscale=False, target_size=None, keep_aspect_ratio=False, cval=255):\n",
    "    \"\"\"\n",
    "    関数の概要：PIL の形式で画像を読み込む。\n",
    "    @param path             ：画像へのパス\n",
    "    @param grayscale        ：白黒の画像に変換する = True\n",
    "    @param target_size      ：(height, width)で指定する画像サイズ。指定しなければそのまま\n",
    "    @param keep_aspect_ratio：リサイズした時に元画像と同じ比率を保つか。同じならば、画像を中央に置き、cval で padding.\n",
    "    @param cval             ：padding する時のピクセル値。[0,255]\n",
    "    \"\"\"\n",
    "    img = Image.open(path)\n",
    "\n",
    "    if grayscale:\n",
    "        img=img.convert('L')\n",
    "    else:\n",
    "        img=img.convert('RGB') # (元画像が白黒でも、αチャンネルを含んでいても 3ch に変換。)\n",
    "\n",
    "    if target_size:\n",
    "        size=(target_size[1], target_size[0])\n",
    "\n",
    "        if not keep_aspect_ratio:\n",
    "            img = img.resize(size) # 何も考えずに変換。\n",
    "        else:\n",
    "            if img.width > img.height:\n",
    "                if img.width < w:\n",
    "                    size = (img.width, img.width)\n",
    "            else:\n",
    "                if img.height < h:\n",
    "                    size = (img.height, img.height)\n",
    "\n",
    "            img.thumbnail(size, Image.ANTIALIAS)\n",
    "            bcg=Image.new(('L' if grayscale else 'RGB'), size, (cval if grayscale else (cval, cval, cval)))\n",
    "            bcg.paste(img, ((size[0] - img.size[0])//2, \n",
    "                            (size[1] - img.size[1])//2))\n",
    "\n",
    "            if bcg.width < target_size[1]:\n",
    "                bcg = bcg.resize((target_size[1], target_size[0]))\n",
    "            return bcg\n",
    "    return img"
   ]
  },
  {
   "cell_type": "code",
   "execution_count": 41,
   "metadata": {
    "collapsed": true
   },
   "outputs": [],
   "source": [
    "img1 = load_img('img/fals-diff-369_1573.png', target_size=(160, 60), keep_aspect_ratio=False)"
   ]
  },
  {
   "cell_type": "code",
   "execution_count": 52,
   "metadata": {},
   "outputs": [
    {
     "name": "stdout",
     "output_type": "stream",
     "text": [
      "type of img1: <class 'PIL.Image.Image'>\n",
      "size of img1: (60, 160)\n"
     ]
    }
   ],
   "source": [
    "print(\"type of img1: {}\".format(type(img1)))\n",
    "print(\"size of img1: {}\".format(img1.size))"
   ]
  },
  {
   "cell_type": "code",
   "execution_count": 43,
   "metadata": {},
   "outputs": [
    {
     "data": {
      "image/png": "[encoded data removed]",
      "text/plain": [
       "<PIL.Image.Image image mode=RGB size=60x160 at 0x124B5E208>"
      ]
     },
     "execution_count": 43,
     "metadata": {},
     "output_type": "execute_result"
    }
   ],
   "source": [
    "img1"
   ]
  },
  {
   "cell_type": "markdown",
   "metadata": {},
   "source": [
    "***"
   ]
  },
  {
   "cell_type": "code",
   "execution_count": 44,
   "metadata": {
    "collapsed": true
   },
   "outputs": [],
   "source": [
    "from keras_preprocessing.image import img_to_array"
   ]
  },
  {
   "cell_type": "code",
   "execution_count": 45,
   "metadata": {},
   "outputs": [],
   "source": [
    "img2 = img_to_array(img1) / 255"
   ]
  },
  {
   "cell_type": "code",
   "execution_count": 51,
   "metadata": {},
   "outputs": [
    {
     "name": "stdout",
     "output_type": "stream",
     "text": [
      "type  of img2: <class 'numpy.ndarray'>\n",
      "shape of img2: (160, 60, 3)\n"
     ]
    }
   ],
   "source": [
    "print(\"type  of img2: {}\".format(type(img2)))\n",
    "print(\"shape of img2: {}\".format(img2.shape))"
   ]
  },
  {
   "cell_type": "code",
   "execution_count": 33,
   "metadata": {},
   "outputs": [
    {
     "data": {
      "image/png": "[encoded data removed]",
      "text/plain": [
       "<Figure size 432x288 with 1 Axes>"
      ]
     },
     "metadata": {},
     "output_type": "display_data"
    }
   ],
   "source": [
    "plt.imshow(img_2)\n",
    "plt.show()"
   ]
  },
  {
   "cell_type": "markdown",
   "metadata": {},
   "source": [
    "***"
   ]
  },
  {
   "cell_type": "code",
   "execution_count": 36,
   "metadata": {
    "collapsed": true
   },
   "outputs": [],
   "source": [
    "import numpy as np"
   ]
  },
  {
   "cell_type": "code",
   "execution_count": 37,
   "metadata": {
    "collapsed": true
   },
   "outputs": [],
   "source": [
    "def _image_augmentation(image):\n",
    "    \"\"\"\n",
    "    関数の概要：\n",
    "    \"\"\"\n",
    "    x_padding = int(np.round(image.shape[0] * 0.05))\n",
    "    y_padding = int(np.round(image.shape[1] * 0.05))\n",
    "    \n",
    "    padding_shape = x_padding * 2, y_padding * 2\n",
    "    image_shape = np.array(image.shape[:2]) + np.array(padding_shape)\n",
    "    \n",
    "    image_padding = np.zeros((image_shape[0]+padding_shape[0],\n",
    "                              image_shape[1]+padding_shape[1],\n",
    "                              3))\n",
    "    image_padding[x_padding : x_padding+image.shape[0],\n",
    "                  y_padding : y_padding+image.shape[1],\n",
    "                  :] = image\n",
    "\n",
    "    x_translation = np.random.choice(x_padding * 2)\n",
    "    y_translation = np.random.choice(y_padding * 2)\n",
    "    \n",
    "    new_image = image_padding[x_translation : x_translation+image.shape[0],\n",
    "                              y_translation : y_translation+image.shape[1],\n",
    "                              :]\n",
    "\n",
    "    return new_image"
   ]
  },
  {
   "cell_type": "code",
   "execution_count": 57,
   "metadata": {},
   "outputs": [],
   "source": [
    "img3 = _image_augmentation(img2)"
   ]
  },
  {
   "cell_type": "code",
   "execution_count": 58,
   "metadata": {},
   "outputs": [
    {
     "name": "stdout",
     "output_type": "stream",
     "text": [
      "type  of img3: <class 'numpy.ndarray'>\n",
      "shape of img3: (160, 60, 3)\n"
     ]
    }
   ],
   "source": [
    "print(\"type  of img3: {}\".format(type(img3)))\n",
    "print(\"shape of img3: {}\".format(img3.shape))"
   ]
  },
  {
   "cell_type": "code",
   "execution_count": 59,
   "metadata": {},
   "outputs": [
    {
     "data": {
      "image/png": "[encoded data removed]",
      "text/plain": [
       "<Figure size 432x288 with 1 Axes>"
      ]
     },
     "metadata": {},
     "output_type": "display_data"
    }
   ],
   "source": [
    "plt.imshow(img3)\n",
    "plt.show()"
   ]
  },
  {
   "cell_type": "markdown",
   "metadata": {},
   "source": [
    "***"
   ]
  },
  {
   "cell_type": "code",
   "execution_count": 66,
   "metadata": {},
   "outputs": [
    {
     "data": {
      "image/png": "[encoded data removed]",
      "text/plain": [
       "<Figure size 720x1440 with 4 Axes>"
      ]
     },
     "metadata": {},
     "output_type": "display_data"
    }
   ],
   "source": [
    "n = 3\n",
    "plt.figure(figsize=(10,20))\n",
    "\n",
    "for i in range(n):\n",
    "    plt.subplot(1, n+1, i+1)\n",
    "    plt.imshow(_image_augmentation(img2))\n",
    "    plt.title(\"augmented No.{}\".format(i+1))\n",
    "    \n",
    "plt.subplot(1,n+1,n+1)\n",
    "plt.imshow(img2)\n",
    "plt.title(\"original img\")\n",
    "\n",
    "plt.show()"
   ]
  },
  {
   "cell_type": "markdown",
   "metadata": {},
   "source": [
    "<b>We could understand that augmentation was applied at random.</b>"
   ]
  },
  {
   "cell_type": "markdown",
   "metadata": {},
   "source": [
    "***"
   ]
  },
  {
   "cell_type": "markdown",
   "metadata": {},
   "source": [
    "### 評価のデモ"
   ]
  },
  {
   "cell_type": "code",
   "execution_count": null,
   "metadata": {
    "collapsed": true
   },
   "outputs": [],
   "source": []
  },
  {
   "cell_type": "code",
   "execution_count": 4,
   "metadata": {},
   "outputs": [
    {
     "name": "stderr",
     "output_type": "stream",
     "text": [
      "Using TensorFlow backend.\n"
     ]
    },
    {
     "data": {
      "image/png": "[encoded data removed]",
      "text/plain": [
       "<Figure size 432x288 with 1 Axes>"
      ]
     },
     "metadata": {},
     "output_type": "display_data"
    },
    {
     "data": {
      "image/png": "[encoded data removed]",
      "text/plain": [
       "<Figure size 432x288 with 1 Axes>"
      ]
     },
     "metadata": {},
     "output_type": "display_data"
    },
    {
     "name": "stdout",
     "output_type": "stream",
     "text": [
      "[[0.8892328  0.11076722]]\n",
      "same\n"
     ]
    },
    {
     "data": {
      "text/plain": [
       "numpy.ndarray"
      ]
     },
     "execution_count": 4,
     "metadata": {},
     "output_type": "execute_result"
    }
   ],
   "source": [
    "from keras.applications.imagenet_utils import preprocess_input\n",
    "\n",
    "img1 = load_img('test/183.png', target_size=(160, 60), keep_aspect_ratio=False)\n",
    "img2 = load_img('test/13735.png', target_size=(160, 60), keep_aspect_ratio=False)\n",
    "\n",
    "img1 = img_to_array(img1) / 255\n",
    "img2 = img_to_array(img2) / 255\n",
    "\n",
    "img1 = _image_augmentation(img1)\n",
    "img2 = _image_augmentation(img2)\n",
    "\n",
    "plt.imshow(img1)\n",
    "plt.show()\n",
    "plt.imshow(img2)\n",
    "plt.show()\n",
    "\n",
    "img1 = np.expand_dims(img1, 0)\n",
    "img2 = np.expand_dims(img2, 0)\n",
    "img1 = img1.astype('float32')\n",
    "img2 = img2.astype('float32')\n",
    "\n",
    "\n",
    "print(model.predict([img1, img2]))\n",
    "print('same') if model.predict([img1, img2]).argmax() == 0 else print('different')\n",
    "type(img1)"
   ]
  },
  {
   "cell_type": "markdown",
   "metadata": {},
   "source": [
    "### テスト用データ作成のための関数定義"
   ]
  },
  {
   "cell_type": "code",
   "execution_count": 5,
   "metadata": {
    "collapsed": true
   },
   "outputs": [],
   "source": [
    "import os\n",
    "from PIL import Image\n",
    "id_list = os.listdir('images')\n",
    "id_list.remove('.DS_Store')\n",
    "\n",
    "# test data generator\n",
    "\n",
    "def generate_positive_pair(id_list):\n",
    "    pid = np.random.choice(id_list)\n",
    "    dire = './images/' + pid\n",
    "    img_list = os.listdir(dire)\n",
    "    x, y = np.random.choice(img_list, 2, replace=False)\n",
    "    path1 = os.path.join(dire, x)\n",
    "    path2 = os.path.join(dire, y)\n",
    "    img1 = load_img(path1, target_size=(160, 60), keep_aspect_ratio=False)\n",
    "    img2 = load_img(path2, target_size=(160, 60), keep_aspect_ratio=False)\n",
    "    return img1, img2\n",
    "\n",
    "def generate_negative_pair(id_list):\n",
    "    pid1, pid2 = np.random.choice(id_list, 2, replace=False)\n",
    "    dire1 = './images/' + pid1\n",
    "    dire2 = './images/' + pid2\n",
    "    img_list1 = os.listdir(dire1)\n",
    "    img_list2 = os.listdir(dire2)\n",
    "    x = np.random.choice(img_list1)\n",
    "    y = np.random.choice(img_list2)\n",
    "    path1 = os.path.join(dire1, x)\n",
    "    path2 = os.path.join(dire2, y)\n",
    "    img1 = load_img(path1, target_size=(160, 60), keep_aspect_ratio=False)\n",
    "    img2 = load_img(path2, target_size=(160, 60), keep_aspect_ratio=False)\n",
    "    return img1, img2"
   ]
  },
  {
   "cell_type": "code",
   "execution_count": 6,
   "metadata": {},
   "outputs": [
    {
     "data": {
      "image/png": "[encoded data removed]",
      "text/plain": [
       "<Figure size 432x288 with 1 Axes>"
      ]
     },
     "metadata": {},
     "output_type": "display_data"
    },
    {
     "data": {
      "image/png": "[encoded data removed]",
      "text/plain": [
       "<Figure size 432x288 with 1 Axes>"
      ]
     },
     "metadata": {},
     "output_type": "display_data"
    }
   ],
   "source": [
    "x, y = generate_positive_pair(id_list)\n",
    "plt.imshow(x)\n",
    "plt.show()\n",
    "plt.imshow(y)\n",
    "plt.show()"
   ]
  },
  {
   "cell_type": "code",
   "execution_count": 7,
   "metadata": {},
   "outputs": [
    {
     "data": {
      "image/png": "[encoded data removed]",
      "text/plain": [
       "<Figure size 432x288 with 1 Axes>"
      ]
     },
     "metadata": {},
     "output_type": "display_data"
    },
    {
     "data": {
      "image/png": "[encoded data removed]",
      "text/plain": [
       "<Figure size 432x288 with 1 Axes>"
      ]
     },
     "metadata": {},
     "output_type": "display_data"
    }
   ],
   "source": [
    "x, y = generate_negative_pair(id_list)\n",
    "plt.imshow(x)\n",
    "plt.show()\n",
    "plt.imshow(y)\n",
    "plt.show()"
   ]
  },
  {
   "cell_type": "markdown",
   "metadata": {},
   "source": [
    "### 評価\n",
    "ポジティブペア５０００組、ネガティブペア５０００組を用いて定量評価\n",
    "\n",
    "正解率を求める。\n",
    "\n",
    "ポジティブペアに対してはdeta_augmentを施す(ネガに対しては施さない)"
   ]
  },
  {
   "cell_type": "code",
   "execution_count": 8,
   "metadata": {},
   "outputs": [
    {
     "data": {
      "application/vnd.jupyter.widget-view+json": {
       "model_id": "ecfb061cedc646af95ce14f449d6d62b",
       "version_major": 2,
       "version_minor": 0
      },
      "text/plain": [
       "HBox(children=(IntProgress(value=0, max=500), HTML(value='')))"
      ]
     },
     "metadata": {},
     "output_type": "display_data"
    },
    {
     "name": "stdout",
     "output_type": "stream",
     "text": [
      "\n"
     ]
    },
    {
     "data": {
      "application/vnd.jupyter.widget-view+json": {
       "model_id": "15efc423b363411a9c435a55a15bb3f5",
       "version_major": 2,
       "version_minor": 0
      },
      "text/plain": [
       "HBox(children=(IntProgress(value=0, max=500), HTML(value='')))"
      ]
     },
     "metadata": {},
     "output_type": "display_data"
    },
    {
     "name": "stdout",
     "output_type": "stream",
     "text": [
      "\n",
      "acc          :  0.974\n",
      "same       :  0.962\n",
      "different :  0.986\n"
     ]
    }
   ],
   "source": [
    "from tqdm import tqdm_notebook as tqdm\n",
    "\n",
    "acc = 0\n",
    "same = 0\n",
    "different = 0\n",
    "for i in tqdm(range(500)):\n",
    "    x, y = generate_positive_pair(id_list)\n",
    "    x = img_to_array(x) / 255\n",
    "    y = img_to_array(y) / 255\n",
    "    x = _image_augmentation(x)\n",
    "    y = _image_augmentation(y)\n",
    "    x = np.expand_dims(x, 0)\n",
    "    y = np.expand_dims(y, 0)\n",
    "    x = x.astype('float32')\n",
    "    y = y.astype('float32')\n",
    "    result = model.predict([x, y]).argmax()\n",
    "    if result == 0:\n",
    "        acc += 1\n",
    "        same += 1\n",
    "\n",
    "for i in tqdm(range(500)):\n",
    "    x, y = generate_negative_pair(id_list)\n",
    "    x = img_to_array(x) / 255\n",
    "    y = img_to_array(y) / 255\n",
    "    x = _image_augmentation(x)\n",
    "    y = _image_augmentation(y)\n",
    "    x = np.expand_dims(x, 0)\n",
    "    y = np.expand_dims(y, 0)\n",
    "    x = x.astype('float32')\n",
    "    y = y.astype('float32')\n",
    "    result = model.predict([x, y]).argmax()\n",
    "    if result == 1:\n",
    "        acc += 1\n",
    "        different += 1\n",
    "    \n",
    "print('acc          : ',  acc / 1000)\n",
    "print('same       : ', same / 500)\n",
    "print('different : ', different / 500)"
   ]
  },
  {
   "cell_type": "markdown",
   "metadata": {},
   "source": [
    "### 検索\n",
    "pidとtbdからランダムに１枚ずつサンプリングしてDB化"
   ]
  },
  {
   "cell_type": "code",
   "execution_count": 11,
   "metadata": {},
   "outputs": [
    {
     "data": {
      "application/vnd.jupyter.widget-view+json": {
       "model_id": "1da89c5f85404ac5b0e2866f4d8a6325",
       "version_major": 2,
       "version_minor": 0
      },
      "text/plain": [
       "HBox(children=(IntProgress(value=0, max=150), HTML(value='')))"
      ]
     },
     "metadata": {},
     "output_type": "display_data"
    },
    {
     "name": "stdout",
     "output_type": "stream",
     "text": [
      "\n"
     ]
    }
   ],
   "source": [
    "import os\n",
    "pid_list = os.listdir('images_pid')\n",
    "pid_list.remove('.DS_Store')\n",
    "\n",
    "root = './images_pid'\n",
    "img_pid_list = []\n",
    "for dire in tqdm(pid_list):\n",
    "    dir_path = os.path.join(root, dire)\n",
    "    img_list = os.listdir(dir_path)\n",
    "    if '.DS_Store' in img_list:\n",
    "        img_list.remove('.DS_Store')\n",
    "    file = np.random.choice(img_list)\n",
    "    img_path = os.path.join(dir_path, file)\n",
    "    img = load_img(path=img_path, target_size=(160, 60), keep_aspect_ratio=False)\n",
    "    img = img_to_array(img) / 255.\n",
    "    img = _image_augmentation(img)\n",
    "    img_pid_list.append(img) # list of array of img"
   ]
  },
  {
   "cell_type": "code",
   "execution_count": 12,
   "metadata": {},
   "outputs": [
    {
     "data": {
      "application/vnd.jupyter.widget-view+json": {
       "model_id": "d4b301bae8bb44d5ac9dff9081d40ee0",
       "version_major": 2,
       "version_minor": 0
      },
      "text/plain": [
       "HBox(children=(IntProgress(value=0, max=150), HTML(value='')))"
      ]
     },
     "metadata": {},
     "output_type": "display_data"
    },
    {
     "name": "stdout",
     "output_type": "stream",
     "text": [
      "\n"
     ]
    }
   ],
   "source": [
    "tbd_list = os.listdir('images_tbd')\n",
    "tbd_list.remove('.DS_Store')\n",
    "\n",
    "root = './images_tbd'\n",
    "img_tbd_list = []\n",
    "for dire in tqdm(tbd_list):\n",
    "    dir_path = os.path.join(root, dire)\n",
    "    img_list = os.listdir(dir_path)\n",
    "    if '.DS_Store' in img_list:\n",
    "        img_list.remove('.DS_Store')\n",
    "    file = np.random.choice(img_list)\n",
    "    img_path = os.path.join(dir_path, file)\n",
    "    img = load_img(path=img_path, target_size=(160, 60), keep_aspect_ratio=False)\n",
    "    img = img_to_array(img) / 255.\n",
    "    img = _image_augmentation(img)\n",
    "    img_tbd_list.append(img) # list of array of img"
   ]
  },
  {
   "cell_type": "markdown",
   "metadata": {},
   "source": [
    "検索"
   ]
  },
  {
   "cell_type": "code",
   "execution_count": 13,
   "metadata": {
    "scrolled": true
   },
   "outputs": [
    {
     "data": {
      "application/vnd.jupyter.widget-view+json": {
       "model_id": "ca67a8a9700948989268014b4676a1c6",
       "version_major": 2,
       "version_minor": 0
      },
      "text/plain": [
       "HBox(children=(IntProgress(value=1, bar_style='info', max=1), HTML(value='')))"
      ]
     },
     "metadata": {},
     "output_type": "display_data"
    },
    {
     "data": {
      "application/vnd.jupyter.widget-view+json": {
       "model_id": "06bbe3f8a75840ef9c07289fff93bd18",
       "version_major": 2,
       "version_minor": 0
      },
      "text/plain": [
       "HBox(children=(IntProgress(value=1, bar_style='info', max=1), HTML(value='')))"
      ]
     },
     "metadata": {},
     "output_type": "display_data"
    },
    {
     "data": {
      "application/vnd.jupyter.widget-view+json": {
       "model_id": "1222f6ac58084fb5b52cd45838b9fd68",
       "version_major": 2,
       "version_minor": 0
      },
      "text/plain": [
       "HBox(children=(IntProgress(value=1, bar_style='info', max=1), HTML(value='')))"
      ]
     },
     "metadata": {},
     "output_type": "display_data"
    },
    {
     "data": {
      "application/vnd.jupyter.widget-view+json": {
       "model_id": "1f6e1b8a9b954d08a3970098485ec937",
       "version_major": 2,
       "version_minor": 0
      },
      "text/plain": [
       "HBox(children=(IntProgress(value=1, bar_style='info', max=1), HTML(value='')))"
      ]
     },
     "metadata": {},
     "output_type": "display_data"
    },
    {
     "data": {
      "application/vnd.jupyter.widget-view+json": {
       "model_id": "839833d836f44a79876aa31b971b2e87",
       "version_major": 2,
       "version_minor": 0
      },
      "text/plain": [
       "HBox(children=(IntProgress(value=1, bar_style='info', max=1), HTML(value='')))"
      ]
     },
     "metadata": {},
     "output_type": "display_data"
    },
    {
     "data": {
      "application/vnd.jupyter.widget-view+json": {
       "model_id": "5881ca151e9c4e46b4e900ebf45cd780",
       "version_major": 2,
       "version_minor": 0
      },
      "text/plain": [
       "HBox(children=(IntProgress(value=1, bar_style='info', max=1), HTML(value='')))"
      ]
     },
     "metadata": {},
     "output_type": "display_data"
    },
    {
     "data": {
      "application/vnd.jupyter.widget-view+json": {
       "model_id": "0f6993aef8c1443da518475ec2237cb8",
       "version_major": 2,
       "version_minor": 0
      },
      "text/plain": [
       "HBox(children=(IntProgress(value=1, bar_style='info', max=1), HTML(value='')))"
      ]
     },
     "metadata": {},
     "output_type": "display_data"
    },
    {
     "data": {
      "application/vnd.jupyter.widget-view+json": {
       "model_id": "5f982e55b44a41b2a6f61d2e1a792ed8",
       "version_major": 2,
       "version_minor": 0
      },
      "text/plain": [
       "HBox(children=(IntProgress(value=1, bar_style='info', max=1), HTML(value='')))"
      ]
     },
     "metadata": {},
     "output_type": "display_data"
    },
    {
     "data": {
      "application/vnd.jupyter.widget-view+json": {
       "model_id": "88928248d7234972a989a0ba5d3a1055",
       "version_major": 2,
       "version_minor": 0
      },
      "text/plain": [
       "HBox(children=(IntProgress(value=1, bar_style='info', max=1), HTML(value='')))"
      ]
     },
     "metadata": {},
     "output_type": "display_data"
    },
    {
     "data": {
      "application/vnd.jupyter.widget-view+json": {
       "model_id": "b46dd20a61274e618b2a51c49448e16d",
       "version_major": 2,
       "version_minor": 0
      },
      "text/plain": [
       "HBox(children=(IntProgress(value=1, bar_style='info', max=1), HTML(value='')))"
      ]
     },
     "metadata": {},
     "output_type": "display_data"
    },
    {
     "data": {
      "application/vnd.jupyter.widget-view+json": {
       "model_id": "96b67edb635446a9817364eecabfb764",
       "version_major": 2,
       "version_minor": 0
      },
      "text/plain": [
       "HBox(children=(IntProgress(value=1, bar_style='info', max=1), HTML(value='')))"
      ]
     },
     "metadata": {},
     "output_type": "display_data"
    },
    {
     "data": {
      "application/vnd.jupyter.widget-view+json": {
       "model_id": "6cc572e1352247d0b47035f6bab25f82",
       "version_major": 2,
       "version_minor": 0
      },
      "text/plain": [
       "HBox(children=(IntProgress(value=1, bar_style='info', max=1), HTML(value='')))"
      ]
     },
     "metadata": {},
     "output_type": "display_data"
    },
    {
     "data": {
      "application/vnd.jupyter.widget-view+json": {
       "model_id": "d59def3e87db499f9656797c741f90a4",
       "version_major": 2,
       "version_minor": 0
      },
      "text/plain": [
       "HBox(children=(IntProgress(value=1, bar_style='info', max=1), HTML(value='')))"
      ]
     },
     "metadata": {},
     "output_type": "display_data"
    },
    {
     "data": {
      "application/vnd.jupyter.widget-view+json": {
       "model_id": "97261e4b49894b54a90a13066009d59c",
       "version_major": 2,
       "version_minor": 0
      },
      "text/plain": [
       "HBox(children=(IntProgress(value=1, bar_style='info', max=1), HTML(value='')))"
      ]
     },
     "metadata": {},
     "output_type": "display_data"
    },
    {
     "data": {
      "application/vnd.jupyter.widget-view+json": {
       "model_id": "39acd287a9ba46ee917482684ce0ce17",
       "version_major": 2,
       "version_minor": 0
      },
      "text/plain": [
       "HBox(children=(IntProgress(value=1, bar_style='info', max=1), HTML(value='')))"
      ]
     },
     "metadata": {},
     "output_type": "display_data"
    },
    {
     "data": {
      "application/vnd.jupyter.widget-view+json": {
       "model_id": "414debc766ce40ac873cd717a2a4ea4c",
       "version_major": 2,
       "version_minor": 0
      },
      "text/plain": [
       "HBox(children=(IntProgress(value=1, bar_style='info', max=1), HTML(value='')))"
      ]
     },
     "metadata": {},
     "output_type": "display_data"
    },
    {
     "data": {
      "application/vnd.jupyter.widget-view+json": {
       "model_id": "d61b632326a043ca9bb0c14de42f3d8e",
       "version_major": 2,
       "version_minor": 0
      },
      "text/plain": [
       "HBox(children=(IntProgress(value=1, bar_style='info', max=1), HTML(value='')))"
      ]
     },
     "metadata": {},
     "output_type": "display_data"
    },
    {
     "data": {
      "application/vnd.jupyter.widget-view+json": {
       "model_id": "3c2578327efa4c29b83ed08751e22844",
       "version_major": 2,
       "version_minor": 0
      },
      "text/plain": [
       "HBox(children=(IntProgress(value=1, bar_style='info', max=1), HTML(value='')))"
      ]
     },
     "metadata": {},
     "output_type": "display_data"
    },
    {
     "data": {
      "application/vnd.jupyter.widget-view+json": {
       "model_id": "537b6ce443c34ddbbf9710a8aa7456cb",
       "version_major": 2,
       "version_minor": 0
      },
      "text/plain": [
       "HBox(children=(IntProgress(value=1, bar_style='info', max=1), HTML(value='')))"
      ]
     },
     "metadata": {},
     "output_type": "display_data"
    },
    {
     "data": {
      "application/vnd.jupyter.widget-view+json": {
       "model_id": "e2aa0f600d6249988b0c26af4c06fd5a",
       "version_major": 2,
       "version_minor": 0
      },
      "text/plain": [
       "HBox(children=(IntProgress(value=1, bar_style='info', max=1), HTML(value='')))"
      ]
     },
     "metadata": {},
     "output_type": "display_data"
    },
    {
     "data": {
      "application/vnd.jupyter.widget-view+json": {
       "model_id": "347faa3859e04743b7ffb036ff1b170b",
       "version_major": 2,
       "version_minor": 0
      },
      "text/plain": [
       "HBox(children=(IntProgress(value=1, bar_style='info', max=1), HTML(value='')))"
      ]
     },
     "metadata": {},
     "output_type": "display_data"
    },
    {
     "data": {
      "application/vnd.jupyter.widget-view+json": {
       "model_id": "cc9e7d7955ef40d8907cd664377d7fad",
       "version_major": 2,
       "version_minor": 0
      },
      "text/plain": [
       "HBox(children=(IntProgress(value=1, bar_style='info', max=1), HTML(value='')))"
      ]
     },
     "metadata": {},
     "output_type": "display_data"
    },
    {
     "data": {
      "application/vnd.jupyter.widget-view+json": {
       "model_id": "771366ef91f7483384f57b5a834132cf",
       "version_major": 2,
       "version_minor": 0
      },
      "text/plain": [
       "HBox(children=(IntProgress(value=1, bar_style='info', max=1), HTML(value='')))"
      ]
     },
     "metadata": {},
     "output_type": "display_data"
    },
    {
     "data": {
      "application/vnd.jupyter.widget-view+json": {
       "model_id": "ff5d6c333aa04df6a9cc504be4da492b",
       "version_major": 2,
       "version_minor": 0
      },
      "text/plain": [
       "HBox(children=(IntProgress(value=1, bar_style='info', max=1), HTML(value='')))"
      ]
     },
     "metadata": {},
     "output_type": "display_data"
    },
    {
     "data": {
      "application/vnd.jupyter.widget-view+json": {
       "model_id": "66539088fc5d49a4a8012ba68b10860d",
       "version_major": 2,
       "version_minor": 0
      },
      "text/plain": [
       "HBox(children=(IntProgress(value=1, bar_style='info', max=1), HTML(value='')))"
      ]
     },
     "metadata": {},
     "output_type": "display_data"
    },
    {
     "data": {
      "application/vnd.jupyter.widget-view+json": {
       "model_id": "05f888564a984e1e9f2a64ed1795e661",
       "version_major": 2,
       "version_minor": 0
      },
      "text/plain": [
       "HBox(children=(IntProgress(value=1, bar_style='info', max=1), HTML(value='')))"
      ]
     },
     "metadata": {},
     "output_type": "display_data"
    },
    {
     "data": {
      "application/vnd.jupyter.widget-view+json": {
       "model_id": "13eca582585542b4b03c7afa60084835",
       "version_major": 2,
       "version_minor": 0
      },
      "text/plain": [
       "HBox(children=(IntProgress(value=1, bar_style='info', max=1), HTML(value='')))"
      ]
     },
     "metadata": {},
     "output_type": "display_data"
    },
    {
     "data": {
      "application/vnd.jupyter.widget-view+json": {
       "model_id": "8aac1722437540bb9371fbcb1e2357bd",
       "version_major": 2,
       "version_minor": 0
      },
      "text/plain": [
       "HBox(children=(IntProgress(value=1, bar_style='info', max=1), HTML(value='')))"
      ]
     },
     "metadata": {},
     "output_type": "display_data"
    },
    {
     "data": {
      "application/vnd.jupyter.widget-view+json": {
       "model_id": "9ffb59027a504f19bd6c595f9e9b5e54",
       "version_major": 2,
       "version_minor": 0
      },
      "text/plain": [
       "HBox(children=(IntProgress(value=1, bar_style='info', max=1), HTML(value='')))"
      ]
     },
     "metadata": {},
     "output_type": "display_data"
    },
    {
     "data": {
      "application/vnd.jupyter.widget-view+json": {
       "model_id": "b78494c2b140471c8c177849e666df36",
       "version_major": 2,
       "version_minor": 0
      },
      "text/plain": [
       "HBox(children=(IntProgress(value=1, bar_style='info', max=1), HTML(value='')))"
      ]
     },
     "metadata": {},
     "output_type": "display_data"
    },
    {
     "data": {
      "application/vnd.jupyter.widget-view+json": {
       "model_id": "a4f2f1991a7d4d60b842562f0d5d01ce",
       "version_major": 2,
       "version_minor": 0
      },
      "text/plain": [
       "HBox(children=(IntProgress(value=1, bar_style='info', max=1), HTML(value='')))"
      ]
     },
     "metadata": {},
     "output_type": "display_data"
    },
    {
     "data": {
      "application/vnd.jupyter.widget-view+json": {
       "model_id": "4db78df98b4c40b086c4b09e4114b3fe",
       "version_major": 2,
       "version_minor": 0
      },
      "text/plain": [
       "HBox(children=(IntProgress(value=1, bar_style='info', max=1), HTML(value='')))"
      ]
     },
     "metadata": {},
     "output_type": "display_data"
    },
    {
     "data": {
      "application/vnd.jupyter.widget-view+json": {
       "model_id": "616af96b2a704c26a9ba98c3a8558365",
       "version_major": 2,
       "version_minor": 0
      },
      "text/plain": [
       "HBox(children=(IntProgress(value=1, bar_style='info', max=1), HTML(value='')))"
      ]
     },
     "metadata": {},
     "output_type": "display_data"
    },
    {
     "data": {
      "application/vnd.jupyter.widget-view+json": {
       "model_id": "1cd67d1e82e247b9810fdbc50e57d525",
       "version_major": 2,
       "version_minor": 0
      },
      "text/plain": [
       "HBox(children=(IntProgress(value=1, bar_style='info', max=1), HTML(value='')))"
      ]
     },
     "metadata": {},
     "output_type": "display_data"
    },
    {
     "data": {
      "application/vnd.jupyter.widget-view+json": {
       "model_id": "c57bcda2cc7f4cec94da42d5109ed696",
       "version_major": 2,
       "version_minor": 0
      },
      "text/plain": [
       "HBox(children=(IntProgress(value=1, bar_style='info', max=1), HTML(value='')))"
      ]
     },
     "metadata": {},
     "output_type": "display_data"
    },
    {
     "data": {
      "application/vnd.jupyter.widget-view+json": {
       "model_id": "8883ad3148234785906b07739ac75364",
       "version_major": 2,
       "version_minor": 0
      },
      "text/plain": [
       "HBox(children=(IntProgress(value=1, bar_style='info', max=1), HTML(value='')))"
      ]
     },
     "metadata": {},
     "output_type": "display_data"
    },
    {
     "data": {
      "application/vnd.jupyter.widget-view+json": {
       "model_id": "8794b2ad3bab4f0884c3ad2c20474c2d",
       "version_major": 2,
       "version_minor": 0
      },
      "text/plain": [
       "HBox(children=(IntProgress(value=1, bar_style='info', max=1), HTML(value='')))"
      ]
     },
     "metadata": {},
     "output_type": "display_data"
    },
    {
     "data": {
      "application/vnd.jupyter.widget-view+json": {
       "model_id": "bd67ba7c077d47e48efa41ecc1d22046",
       "version_major": 2,
       "version_minor": 0
      },
      "text/plain": [
       "HBox(children=(IntProgress(value=1, bar_style='info', max=1), HTML(value='')))"
      ]
     },
     "metadata": {},
     "output_type": "display_data"
    },
    {
     "data": {
      "application/vnd.jupyter.widget-view+json": {
       "model_id": "b947e74af1b142bfb324d8c79cbe3043",
       "version_major": 2,
       "version_minor": 0
      },
      "text/plain": [
       "HBox(children=(IntProgress(value=1, bar_style='info', max=1), HTML(value='')))"
      ]
     },
     "metadata": {},
     "output_type": "display_data"
    },
    {
     "data": {
      "application/vnd.jupyter.widget-view+json": {
       "model_id": "d5a7de15bf4e4ccca32eede81cd9513b",
       "version_major": 2,
       "version_minor": 0
      },
      "text/plain": [
       "HBox(children=(IntProgress(value=1, bar_style='info', max=1), HTML(value='')))"
      ]
     },
     "metadata": {},
     "output_type": "display_data"
    },
    {
     "data": {
      "application/vnd.jupyter.widget-view+json": {
       "model_id": "3dfdad2121364bb6b3d299f6123c2b7a",
       "version_major": 2,
       "version_minor": 0
      },
      "text/plain": [
       "HBox(children=(IntProgress(value=1, bar_style='info', max=1), HTML(value='')))"
      ]
     },
     "metadata": {},
     "output_type": "display_data"
    },
    {
     "data": {
      "application/vnd.jupyter.widget-view+json": {
       "model_id": "dafcc62ad9334e55a1b47efc2695afe9",
       "version_major": 2,
       "version_minor": 0
      },
      "text/plain": [
       "HBox(children=(IntProgress(value=1, bar_style='info', max=1), HTML(value='')))"
      ]
     },
     "metadata": {},
     "output_type": "display_data"
    },
    {
     "data": {
      "application/vnd.jupyter.widget-view+json": {
       "model_id": "b5986955a8444d5787c5368bf9bf4cd9",
       "version_major": 2,
       "version_minor": 0
      },
      "text/plain": [
       "HBox(children=(IntProgress(value=1, bar_style='info', max=1), HTML(value='')))"
      ]
     },
     "metadata": {},
     "output_type": "display_data"
    },
    {
     "data": {
      "application/vnd.jupyter.widget-view+json": {
       "model_id": "2995b68a2e204a9580f2232f7504c76c",
       "version_major": 2,
       "version_minor": 0
      },
      "text/plain": [
       "HBox(children=(IntProgress(value=1, bar_style='info', max=1), HTML(value='')))"
      ]
     },
     "metadata": {},
     "output_type": "display_data"
    },
    {
     "data": {
      "application/vnd.jupyter.widget-view+json": {
       "model_id": "73aea15bdd1945e5a5f74e9468512743",
       "version_major": 2,
       "version_minor": 0
      },
      "text/plain": [
       "HBox(children=(IntProgress(value=1, bar_style='info', max=1), HTML(value='')))"
      ]
     },
     "metadata": {},
     "output_type": "display_data"
    },
    {
     "data": {
      "application/vnd.jupyter.widget-view+json": {
       "model_id": "499aa546405749a6914359d490c91c81",
       "version_major": 2,
       "version_minor": 0
      },
      "text/plain": [
       "HBox(children=(IntProgress(value=1, bar_style='info', max=1), HTML(value='')))"
      ]
     },
     "metadata": {},
     "output_type": "display_data"
    },
    {
     "data": {
      "application/vnd.jupyter.widget-view+json": {
       "model_id": "a3a5956c2db643c89a8ab941d3264be4",
       "version_major": 2,
       "version_minor": 0
      },
      "text/plain": [
       "HBox(children=(IntProgress(value=1, bar_style='info', max=1), HTML(value='')))"
      ]
     },
     "metadata": {},
     "output_type": "display_data"
    },
    {
     "data": {
      "application/vnd.jupyter.widget-view+json": {
       "model_id": "76af319d3e1c41408e76cda204b136cc",
       "version_major": 2,
       "version_minor": 0
      },
      "text/plain": [
       "HBox(children=(IntProgress(value=1, bar_style='info', max=1), HTML(value='')))"
      ]
     },
     "metadata": {},
     "output_type": "display_data"
    },
    {
     "data": {
      "application/vnd.jupyter.widget-view+json": {
       "model_id": "0de486506501414382e3c428ba639a0a",
       "version_major": 2,
       "version_minor": 0
      },
      "text/plain": [
       "HBox(children=(IntProgress(value=1, bar_style='info', max=1), HTML(value='')))"
      ]
     },
     "metadata": {},
     "output_type": "display_data"
    },
    {
     "data": {
      "application/vnd.jupyter.widget-view+json": {
       "model_id": "a7cced26bea340e79ddebc3b627c5034",
       "version_major": 2,
       "version_minor": 0
      },
      "text/plain": [
       "HBox(children=(IntProgress(value=1, bar_style='info', max=1), HTML(value='')))"
      ]
     },
     "metadata": {},
     "output_type": "display_data"
    },
    {
     "data": {
      "application/vnd.jupyter.widget-view+json": {
       "model_id": "d8c2febed45d443590c421bafaeacd5c",
       "version_major": 2,
       "version_minor": 0
      },
      "text/plain": [
       "HBox(children=(IntProgress(value=1, bar_style='info', max=1), HTML(value='')))"
      ]
     },
     "metadata": {},
     "output_type": "display_data"
    },
    {
     "data": {
      "application/vnd.jupyter.widget-view+json": {
       "model_id": "bf54c2d81dfe41918dacfd20c4880e15",
       "version_major": 2,
       "version_minor": 0
      },
      "text/plain": [
       "HBox(children=(IntProgress(value=1, bar_style='info', max=1), HTML(value='')))"
      ]
     },
     "metadata": {},
     "output_type": "display_data"
    },
    {
     "data": {
      "application/vnd.jupyter.widget-view+json": {
       "model_id": "473ef7a49d324c449926850a0afb3706",
       "version_major": 2,
       "version_minor": 0
      },
      "text/plain": [
       "HBox(children=(IntProgress(value=1, bar_style='info', max=1), HTML(value='')))"
      ]
     },
     "metadata": {},
     "output_type": "display_data"
    },
    {
     "data": {
      "application/vnd.jupyter.widget-view+json": {
       "model_id": "b6e22c6814a047abb7b18b40507c0e94",
       "version_major": 2,
       "version_minor": 0
      },
      "text/plain": [
       "HBox(children=(IntProgress(value=1, bar_style='info', max=1), HTML(value='')))"
      ]
     },
     "metadata": {},
     "output_type": "display_data"
    },
    {
     "data": {
      "application/vnd.jupyter.widget-view+json": {
       "model_id": "3b6b089c88e24de98acaf3b46327204d",
       "version_major": 2,
       "version_minor": 0
      },
      "text/plain": [
       "HBox(children=(IntProgress(value=1, bar_style='info', max=1), HTML(value='')))"
      ]
     },
     "metadata": {},
     "output_type": "display_data"
    },
    {
     "data": {
      "application/vnd.jupyter.widget-view+json": {
       "model_id": "418593b772c0408fae5efee2e0477fb4",
       "version_major": 2,
       "version_minor": 0
      },
      "text/plain": [
       "HBox(children=(IntProgress(value=1, bar_style='info', max=1), HTML(value='')))"
      ]
     },
     "metadata": {},
     "output_type": "display_data"
    },
    {
     "data": {
      "application/vnd.jupyter.widget-view+json": {
       "model_id": "69393a3069cb48a394c533f716553640",
       "version_major": 2,
       "version_minor": 0
      },
      "text/plain": [
       "HBox(children=(IntProgress(value=1, bar_style='info', max=1), HTML(value='')))"
      ]
     },
     "metadata": {},
     "output_type": "display_data"
    },
    {
     "data": {
      "application/vnd.jupyter.widget-view+json": {
       "model_id": "2d6b446ca6c842828c9f1a3b93c6fbff",
       "version_major": 2,
       "version_minor": 0
      },
      "text/plain": [
       "HBox(children=(IntProgress(value=1, bar_style='info', max=1), HTML(value='')))"
      ]
     },
     "metadata": {},
     "output_type": "display_data"
    },
    {
     "data": {
      "application/vnd.jupyter.widget-view+json": {
       "model_id": "67a30dd9c5fc4f42a8a7dd271703ed3c",
       "version_major": 2,
       "version_minor": 0
      },
      "text/plain": [
       "HBox(children=(IntProgress(value=1, bar_style='info', max=1), HTML(value='')))"
      ]
     },
     "metadata": {},
     "output_type": "display_data"
    },
    {
     "data": {
      "application/vnd.jupyter.widget-view+json": {
       "model_id": "dc2130c3324d4aa0a9a239c8ecd71010",
       "version_major": 2,
       "version_minor": 0
      },
      "text/plain": [
       "HBox(children=(IntProgress(value=1, bar_style='info', max=1), HTML(value='')))"
      ]
     },
     "metadata": {},
     "output_type": "display_data"
    },
    {
     "data": {
      "application/vnd.jupyter.widget-view+json": {
       "model_id": "3e7d2e544bf74c0cbd537ee7758f1c2c",
       "version_major": 2,
       "version_minor": 0
      },
      "text/plain": [
       "HBox(children=(IntProgress(value=1, bar_style='info', max=1), HTML(value='')))"
      ]
     },
     "metadata": {},
     "output_type": "display_data"
    },
    {
     "data": {
      "application/vnd.jupyter.widget-view+json": {
       "model_id": "bb9a346aed3d4b06823ce48141b08a4e",
       "version_major": 2,
       "version_minor": 0
      },
      "text/plain": [
       "HBox(children=(IntProgress(value=1, bar_style='info', max=1), HTML(value='')))"
      ]
     },
     "metadata": {},
     "output_type": "display_data"
    },
    {
     "data": {
      "application/vnd.jupyter.widget-view+json": {
       "model_id": "0d911b8c65b44061bf1b41629d8b0f5f",
       "version_major": 2,
       "version_minor": 0
      },
      "text/plain": [
       "HBox(children=(IntProgress(value=1, bar_style='info', max=1), HTML(value='')))"
      ]
     },
     "metadata": {},
     "output_type": "display_data"
    },
    {
     "data": {
      "application/vnd.jupyter.widget-view+json": {
       "model_id": "a353930e0bd14e5c8258609acea6e253",
       "version_major": 2,
       "version_minor": 0
      },
      "text/plain": [
       "HBox(children=(IntProgress(value=1, bar_style='info', max=1), HTML(value='')))"
      ]
     },
     "metadata": {},
     "output_type": "display_data"
    },
    {
     "data": {
      "application/vnd.jupyter.widget-view+json": {
       "model_id": "df4b383de8d94936b53182ef41192e93",
       "version_major": 2,
       "version_minor": 0
      },
      "text/plain": [
       "HBox(children=(IntProgress(value=1, bar_style='info', max=1), HTML(value='')))"
      ]
     },
     "metadata": {},
     "output_type": "display_data"
    },
    {
     "data": {
      "application/vnd.jupyter.widget-view+json": {
       "model_id": "7669902ae6654e75a464dd180804fc17",
       "version_major": 2,
       "version_minor": 0
      },
      "text/plain": [
       "HBox(children=(IntProgress(value=1, bar_style='info', max=1), HTML(value='')))"
      ]
     },
     "metadata": {},
     "output_type": "display_data"
    },
    {
     "data": {
      "application/vnd.jupyter.widget-view+json": {
       "model_id": "feb8f4769401459b90f0a6c18e5de607",
       "version_major": 2,
       "version_minor": 0
      },
      "text/plain": [
       "HBox(children=(IntProgress(value=1, bar_style='info', max=1), HTML(value='')))"
      ]
     },
     "metadata": {},
     "output_type": "display_data"
    },
    {
     "data": {
      "application/vnd.jupyter.widget-view+json": {
       "model_id": "34986d3453b842b198ad22b5631b4bae",
       "version_major": 2,
       "version_minor": 0
      },
      "text/plain": [
       "HBox(children=(IntProgress(value=1, bar_style='info', max=1), HTML(value='')))"
      ]
     },
     "metadata": {},
     "output_type": "display_data"
    },
    {
     "data": {
      "application/vnd.jupyter.widget-view+json": {
       "model_id": "732fcd3799984de88e953caf63fc5dab",
       "version_major": 2,
       "version_minor": 0
      },
      "text/plain": [
       "HBox(children=(IntProgress(value=1, bar_style='info', max=1), HTML(value='')))"
      ]
     },
     "metadata": {},
     "output_type": "display_data"
    },
    {
     "data": {
      "application/vnd.jupyter.widget-view+json": {
       "model_id": "50475db93b404bf99bb9bad8ef5c462b",
       "version_major": 2,
       "version_minor": 0
      },
      "text/plain": [
       "HBox(children=(IntProgress(value=1, bar_style='info', max=1), HTML(value='')))"
      ]
     },
     "metadata": {},
     "output_type": "display_data"
    },
    {
     "data": {
      "application/vnd.jupyter.widget-view+json": {
       "model_id": "a14b85d8c2464233b1d19b8a58873823",
       "version_major": 2,
       "version_minor": 0
      },
      "text/plain": [
       "HBox(children=(IntProgress(value=1, bar_style='info', max=1), HTML(value='')))"
      ]
     },
     "metadata": {},
     "output_type": "display_data"
    },
    {
     "data": {
      "application/vnd.jupyter.widget-view+json": {
       "model_id": "16d2549b7688487ca6b91bd9babb77a7",
       "version_major": 2,
       "version_minor": 0
      },
      "text/plain": [
       "HBox(children=(IntProgress(value=1, bar_style='info', max=1), HTML(value='')))"
      ]
     },
     "metadata": {},
     "output_type": "display_data"
    },
    {
     "data": {
      "application/vnd.jupyter.widget-view+json": {
       "model_id": "59fd9b3c2a0b42f889c59db435f981f9",
       "version_major": 2,
       "version_minor": 0
      },
      "text/plain": [
       "HBox(children=(IntProgress(value=1, bar_style='info', max=1), HTML(value='')))"
      ]
     },
     "metadata": {},
     "output_type": "display_data"
    },
    {
     "data": {
      "application/vnd.jupyter.widget-view+json": {
       "model_id": "fe7ab140d9f04515801b23685ad1563a",
       "version_major": 2,
       "version_minor": 0
      },
      "text/plain": [
       "HBox(children=(IntProgress(value=1, bar_style='info', max=1), HTML(value='')))"
      ]
     },
     "metadata": {},
     "output_type": "display_data"
    },
    {
     "data": {
      "application/vnd.jupyter.widget-view+json": {
       "model_id": "42cf6553517a417185235eed8fcbd61d",
       "version_major": 2,
       "version_minor": 0
      },
      "text/plain": [
       "HBox(children=(IntProgress(value=1, bar_style='info', max=1), HTML(value='')))"
      ]
     },
     "metadata": {},
     "output_type": "display_data"
    },
    {
     "data": {
      "application/vnd.jupyter.widget-view+json": {
       "model_id": "b34328900fbf44908d9db41a0248495f",
       "version_major": 2,
       "version_minor": 0
      },
      "text/plain": [
       "HBox(children=(IntProgress(value=1, bar_style='info', max=1), HTML(value='')))"
      ]
     },
     "metadata": {},
     "output_type": "display_data"
    },
    {
     "data": {
      "application/vnd.jupyter.widget-view+json": {
       "model_id": "3b71e8ea6556448b941ef4f8242a55b4",
       "version_major": 2,
       "version_minor": 0
      },
      "text/plain": [
       "HBox(children=(IntProgress(value=1, bar_style='info', max=1), HTML(value='')))"
      ]
     },
     "metadata": {},
     "output_type": "display_data"
    },
    {
     "data": {
      "application/vnd.jupyter.widget-view+json": {
       "model_id": "a483a47cb2c24e5da4e6831c34a67886",
       "version_major": 2,
       "version_minor": 0
      },
      "text/plain": [
       "HBox(children=(IntProgress(value=1, bar_style='info', max=1), HTML(value='')))"
      ]
     },
     "metadata": {},
     "output_type": "display_data"
    },
    {
     "data": {
      "application/vnd.jupyter.widget-view+json": {
       "model_id": "03f88b5a888b41caa15209f7935536a7",
       "version_major": 2,
       "version_minor": 0
      },
      "text/plain": [
       "HBox(children=(IntProgress(value=1, bar_style='info', max=1), HTML(value='')))"
      ]
     },
     "metadata": {},
     "output_type": "display_data"
    },
    {
     "data": {
      "application/vnd.jupyter.widget-view+json": {
       "model_id": "64553485c61d48eea420e7f09b552aed",
       "version_major": 2,
       "version_minor": 0
      },
      "text/plain": [
       "HBox(children=(IntProgress(value=1, bar_style='info', max=1), HTML(value='')))"
      ]
     },
     "metadata": {},
     "output_type": "display_data"
    },
    {
     "data": {
      "application/vnd.jupyter.widget-view+json": {
       "model_id": "54c0e8b2e1c04b7ea61279dea9164806",
       "version_major": 2,
       "version_minor": 0
      },
      "text/plain": [
       "HBox(children=(IntProgress(value=1, bar_style='info', max=1), HTML(value='')))"
      ]
     },
     "metadata": {},
     "output_type": "display_data"
    },
    {
     "data": {
      "application/vnd.jupyter.widget-view+json": {
       "model_id": "9682b01f2564463da1a21227a1f799ee",
       "version_major": 2,
       "version_minor": 0
      },
      "text/plain": [
       "HBox(children=(IntProgress(value=1, bar_style='info', max=1), HTML(value='')))"
      ]
     },
     "metadata": {},
     "output_type": "display_data"
    },
    {
     "data": {
      "application/vnd.jupyter.widget-view+json": {
       "model_id": "405feeba11c746e781e4a773fcb7329d",
       "version_major": 2,
       "version_minor": 0
      },
      "text/plain": [
       "HBox(children=(IntProgress(value=1, bar_style='info', max=1), HTML(value='')))"
      ]
     },
     "metadata": {},
     "output_type": "display_data"
    },
    {
     "data": {
      "application/vnd.jupyter.widget-view+json": {
       "model_id": "b69ae7e960d4427aa65f3f2e82691313",
       "version_major": 2,
       "version_minor": 0
      },
      "text/plain": [
       "HBox(children=(IntProgress(value=1, bar_style='info', max=1), HTML(value='')))"
      ]
     },
     "metadata": {},
     "output_type": "display_data"
    },
    {
     "data": {
      "application/vnd.jupyter.widget-view+json": {
       "model_id": "a75371ad6a2f44afb49070dd93bfed00",
       "version_major": 2,
       "version_minor": 0
      },
      "text/plain": [
       "HBox(children=(IntProgress(value=1, bar_style='info', max=1), HTML(value='')))"
      ]
     },
     "metadata": {},
     "output_type": "display_data"
    },
    {
     "data": {
      "application/vnd.jupyter.widget-view+json": {
       "model_id": "d81800a9c31048b98e01a4771e41bbc9",
       "version_major": 2,
       "version_minor": 0
      },
      "text/plain": [
       "HBox(children=(IntProgress(value=1, bar_style='info', max=1), HTML(value='')))"
      ]
     },
     "metadata": {},
     "output_type": "display_data"
    },
    {
     "data": {
      "application/vnd.jupyter.widget-view+json": {
       "model_id": "a36c9d84db0741a58e679ae2ee26f4f8",
       "version_major": 2,
       "version_minor": 0
      },
      "text/plain": [
       "HBox(children=(IntProgress(value=1, bar_style='info', max=1), HTML(value='')))"
      ]
     },
     "metadata": {},
     "output_type": "display_data"
    },
    {
     "data": {
      "application/vnd.jupyter.widget-view+json": {
       "model_id": "1c3f824c1a6d41ccb5e150af543f613b",
       "version_major": 2,
       "version_minor": 0
      },
      "text/plain": [
       "HBox(children=(IntProgress(value=1, bar_style='info', max=1), HTML(value='')))"
      ]
     },
     "metadata": {},
     "output_type": "display_data"
    },
    {
     "data": {
      "application/vnd.jupyter.widget-view+json": {
       "model_id": "9fb6e41fac6b4eb98703637a1fe5ad99",
       "version_major": 2,
       "version_minor": 0
      },
      "text/plain": [
       "HBox(children=(IntProgress(value=1, bar_style='info', max=1), HTML(value='')))"
      ]
     },
     "metadata": {},
     "output_type": "display_data"
    },
    {
     "data": {
      "application/vnd.jupyter.widget-view+json": {
       "model_id": "cc3f158572124672830ec41dbadcd223",
       "version_major": 2,
       "version_minor": 0
      },
      "text/plain": [
       "HBox(children=(IntProgress(value=1, bar_style='info', max=1), HTML(value='')))"
      ]
     },
     "metadata": {},
     "output_type": "display_data"
    },
    {
     "data": {
      "application/vnd.jupyter.widget-view+json": {
       "model_id": "4f620ed6a0974c57b1a725e47928cb1f",
       "version_major": 2,
       "version_minor": 0
      },
      "text/plain": [
       "HBox(children=(IntProgress(value=1, bar_style='info', max=1), HTML(value='')))"
      ]
     },
     "metadata": {},
     "output_type": "display_data"
    },
    {
     "data": {
      "application/vnd.jupyter.widget-view+json": {
       "model_id": "cbb34f8e1a7e4919a06c533294e3fbc5",
       "version_major": 2,
       "version_minor": 0
      },
      "text/plain": [
       "HBox(children=(IntProgress(value=1, bar_style='info', max=1), HTML(value='')))"
      ]
     },
     "metadata": {},
     "output_type": "display_data"
    },
    {
     "data": {
      "application/vnd.jupyter.widget-view+json": {
       "model_id": "dce76cd88b254e5a81d1fb7a57ae2a3e",
       "version_major": 2,
       "version_minor": 0
      },
      "text/plain": [
       "HBox(children=(IntProgress(value=1, bar_style='info', max=1), HTML(value='')))"
      ]
     },
     "metadata": {},
     "output_type": "display_data"
    },
    {
     "data": {
      "application/vnd.jupyter.widget-view+json": {
       "model_id": "f340c6a3307e412e834cc959994b3a38",
       "version_major": 2,
       "version_minor": 0
      },
      "text/plain": [
       "HBox(children=(IntProgress(value=1, bar_style='info', max=1), HTML(value='')))"
      ]
     },
     "metadata": {},
     "output_type": "display_data"
    },
    {
     "data": {
      "application/vnd.jupyter.widget-view+json": {
       "model_id": "4692b8b38cb040fca0b871433f6641f7",
       "version_major": 2,
       "version_minor": 0
      },
      "text/plain": [
       "HBox(children=(IntProgress(value=1, bar_style='info', max=1), HTML(value='')))"
      ]
     },
     "metadata": {},
     "output_type": "display_data"
    },
    {
     "data": {
      "application/vnd.jupyter.widget-view+json": {
       "model_id": "8ec835e86ca24dbcb773a69ca8a3e834",
       "version_major": 2,
       "version_minor": 0
      },
      "text/plain": [
       "HBox(children=(IntProgress(value=1, bar_style='info', max=1), HTML(value='')))"
      ]
     },
     "metadata": {},
     "output_type": "display_data"
    },
    {
     "data": {
      "application/vnd.jupyter.widget-view+json": {
       "model_id": "e334da355eb2400597cc4d221369383f",
       "version_major": 2,
       "version_minor": 0
      },
      "text/plain": [
       "HBox(children=(IntProgress(value=1, bar_style='info', max=1), HTML(value='')))"
      ]
     },
     "metadata": {},
     "output_type": "display_data"
    },
    {
     "data": {
      "application/vnd.jupyter.widget-view+json": {
       "model_id": "86f0ebe14add4010a2a3b8c56d7c3b6f",
       "version_major": 2,
       "version_minor": 0
      },
      "text/plain": [
       "HBox(children=(IntProgress(value=1, bar_style='info', max=1), HTML(value='')))"
      ]
     },
     "metadata": {},
     "output_type": "display_data"
    },
    {
     "data": {
      "application/vnd.jupyter.widget-view+json": {
       "model_id": "f90235ad939c472cac5f51757247328b",
       "version_major": 2,
       "version_minor": 0
      },
      "text/plain": [
       "HBox(children=(IntProgress(value=1, bar_style='info', max=1), HTML(value='')))"
      ]
     },
     "metadata": {},
     "output_type": "display_data"
    },
    {
     "data": {
      "application/vnd.jupyter.widget-view+json": {
       "model_id": "fe21538d9ae84b5992f03ea910aa900e",
       "version_major": 2,
       "version_minor": 0
      },
      "text/plain": [
       "HBox(children=(IntProgress(value=1, bar_style='info', max=1), HTML(value='')))"
      ]
     },
     "metadata": {},
     "output_type": "display_data"
    },
    {
     "data": {
      "application/vnd.jupyter.widget-view+json": {
       "model_id": "52393a0df3f54bae800efff12bb054db",
       "version_major": 2,
       "version_minor": 0
      },
      "text/plain": [
       "HBox(children=(IntProgress(value=1, bar_style='info', max=1), HTML(value='')))"
      ]
     },
     "metadata": {},
     "output_type": "display_data"
    },
    {
     "data": {
      "application/vnd.jupyter.widget-view+json": {
       "model_id": "26343b04d24f4a4cbb80c02d1a2cec2c",
       "version_major": 2,
       "version_minor": 0
      },
      "text/plain": [
       "HBox(children=(IntProgress(value=1, bar_style='info', max=1), HTML(value='')))"
      ]
     },
     "metadata": {},
     "output_type": "display_data"
    },
    {
     "data": {
      "application/vnd.jupyter.widget-view+json": {
       "model_id": "08786b8e266a41c1b8a3395484cd587b",
       "version_major": 2,
       "version_minor": 0
      },
      "text/plain": [
       "HBox(children=(IntProgress(value=1, bar_style='info', max=1), HTML(value='')))"
      ]
     },
     "metadata": {},
     "output_type": "display_data"
    },
    {
     "data": {
      "application/vnd.jupyter.widget-view+json": {
       "model_id": "3dd8fc5b62e94e5284509898a0add909",
       "version_major": 2,
       "version_minor": 0
      },
      "text/plain": [
       "HBox(children=(IntProgress(value=1, bar_style='info', max=1), HTML(value='')))"
      ]
     },
     "metadata": {},
     "output_type": "display_data"
    },
    {
     "data": {
      "application/vnd.jupyter.widget-view+json": {
       "model_id": "a28d337764514cfea340b5a39f896f62",
       "version_major": 2,
       "version_minor": 0
      },
      "text/plain": [
       "HBox(children=(IntProgress(value=1, bar_style='info', max=1), HTML(value='')))"
      ]
     },
     "metadata": {},
     "output_type": "display_data"
    },
    {
     "data": {
      "application/vnd.jupyter.widget-view+json": {
       "model_id": "8fa9dfbdbd29468ca010378c5fa94734",
       "version_major": 2,
       "version_minor": 0
      },
      "text/plain": [
       "HBox(children=(IntProgress(value=1, bar_style='info', max=1), HTML(value='')))"
      ]
     },
     "metadata": {},
     "output_type": "display_data"
    },
    {
     "data": {
      "application/vnd.jupyter.widget-view+json": {
       "model_id": "a31cb4f760024cb0bb9386d3fb0a3983",
       "version_major": 2,
       "version_minor": 0
      },
      "text/plain": [
       "HBox(children=(IntProgress(value=1, bar_style='info', max=1), HTML(value='')))"
      ]
     },
     "metadata": {},
     "output_type": "display_data"
    },
    {
     "data": {
      "application/vnd.jupyter.widget-view+json": {
       "model_id": "803c309856b04233ac46958bf0b781fc",
       "version_major": 2,
       "version_minor": 0
      },
      "text/plain": [
       "HBox(children=(IntProgress(value=1, bar_style='info', max=1), HTML(value='')))"
      ]
     },
     "metadata": {},
     "output_type": "display_data"
    },
    {
     "data": {
      "application/vnd.jupyter.widget-view+json": {
       "model_id": "a87ac59a92cb4a1bb1a963094eaa8876",
       "version_major": 2,
       "version_minor": 0
      },
      "text/plain": [
       "HBox(children=(IntProgress(value=1, bar_style='info', max=1), HTML(value='')))"
      ]
     },
     "metadata": {},
     "output_type": "display_data"
    },
    {
     "data": {
      "application/vnd.jupyter.widget-view+json": {
       "model_id": "c29f845147b341efb9c0de48d92329ed",
       "version_major": 2,
       "version_minor": 0
      },
      "text/plain": [
       "HBox(children=(IntProgress(value=1, bar_style='info', max=1), HTML(value='')))"
      ]
     },
     "metadata": {},
     "output_type": "display_data"
    },
    {
     "data": {
      "application/vnd.jupyter.widget-view+json": {
       "model_id": "2113d876f266436db12ce30ed15d1fb4",
       "version_major": 2,
       "version_minor": 0
      },
      "text/plain": [
       "HBox(children=(IntProgress(value=1, bar_style='info', max=1), HTML(value='')))"
      ]
     },
     "metadata": {},
     "output_type": "display_data"
    },
    {
     "data": {
      "application/vnd.jupyter.widget-view+json": {
       "model_id": "1e948e0444c94801b010752229d95eda",
       "version_major": 2,
       "version_minor": 0
      },
      "text/plain": [
       "HBox(children=(IntProgress(value=1, bar_style='info', max=1), HTML(value='')))"
      ]
     },
     "metadata": {},
     "output_type": "display_data"
    },
    {
     "data": {
      "application/vnd.jupyter.widget-view+json": {
       "model_id": "44146b0040ae447f92b8ca779936d8fb",
       "version_major": 2,
       "version_minor": 0
      },
      "text/plain": [
       "HBox(children=(IntProgress(value=1, bar_style='info', max=1), HTML(value='')))"
      ]
     },
     "metadata": {},
     "output_type": "display_data"
    },
    {
     "data": {
      "application/vnd.jupyter.widget-view+json": {
       "model_id": "fec04b073cb74f7bb28b922bc4ffd6ce",
       "version_major": 2,
       "version_minor": 0
      },
      "text/plain": [
       "HBox(children=(IntProgress(value=1, bar_style='info', max=1), HTML(value='')))"
      ]
     },
     "metadata": {},
     "output_type": "display_data"
    },
    {
     "data": {
      "application/vnd.jupyter.widget-view+json": {
       "model_id": "578c816c01014a33aea2808a58cd26c4",
       "version_major": 2,
       "version_minor": 0
      },
      "text/plain": [
       "HBox(children=(IntProgress(value=1, bar_style='info', max=1), HTML(value='')))"
      ]
     },
     "metadata": {},
     "output_type": "display_data"
    },
    {
     "data": {
      "application/vnd.jupyter.widget-view+json": {
       "model_id": "79af3a4ea3cf497db140f74028759309",
       "version_major": 2,
       "version_minor": 0
      },
      "text/plain": [
       "HBox(children=(IntProgress(value=1, bar_style='info', max=1), HTML(value='')))"
      ]
     },
     "metadata": {},
     "output_type": "display_data"
    },
    {
     "data": {
      "application/vnd.jupyter.widget-view+json": {
       "model_id": "28c948612fd74803a647ed7d6925f335",
       "version_major": 2,
       "version_minor": 0
      },
      "text/plain": [
       "HBox(children=(IntProgress(value=1, bar_style='info', max=1), HTML(value='')))"
      ]
     },
     "metadata": {},
     "output_type": "display_data"
    },
    {
     "data": {
      "application/vnd.jupyter.widget-view+json": {
       "model_id": "c41230f075114ea5a3521879975c622b",
       "version_major": 2,
       "version_minor": 0
      },
      "text/plain": [
       "HBox(children=(IntProgress(value=1, bar_style='info', max=1), HTML(value='')))"
      ]
     },
     "metadata": {},
     "output_type": "display_data"
    },
    {
     "data": {
      "application/vnd.jupyter.widget-view+json": {
       "model_id": "f91f81e846a24d469d3b43a16eb24ab6",
       "version_major": 2,
       "version_minor": 0
      },
      "text/plain": [
       "HBox(children=(IntProgress(value=1, bar_style='info', max=1), HTML(value='')))"
      ]
     },
     "metadata": {},
     "output_type": "display_data"
    },
    {
     "data": {
      "application/vnd.jupyter.widget-view+json": {
       "model_id": "8cd55aba1b6645778c9e89b3840713d8",
       "version_major": 2,
       "version_minor": 0
      },
      "text/plain": [
       "HBox(children=(IntProgress(value=1, bar_style='info', max=1), HTML(value='')))"
      ]
     },
     "metadata": {},
     "output_type": "display_data"
    },
    {
     "data": {
      "application/vnd.jupyter.widget-view+json": {
       "model_id": "2c72ffab3e0d44dfb6312da11af59842",
       "version_major": 2,
       "version_minor": 0
      },
      "text/plain": [
       "HBox(children=(IntProgress(value=1, bar_style='info', max=1), HTML(value='')))"
      ]
     },
     "metadata": {},
     "output_type": "display_data"
    },
    {
     "data": {
      "application/vnd.jupyter.widget-view+json": {
       "model_id": "1d276f5188874958a9fc2580f53ceb0b",
       "version_major": 2,
       "version_minor": 0
      },
      "text/plain": [
       "HBox(children=(IntProgress(value=1, bar_style='info', max=1), HTML(value='')))"
      ]
     },
     "metadata": {},
     "output_type": "display_data"
    },
    {
     "data": {
      "application/vnd.jupyter.widget-view+json": {
       "model_id": "c8208c75d1eb444690bdcff9613cb702",
       "version_major": 2,
       "version_minor": 0
      },
      "text/plain": [
       "HBox(children=(IntProgress(value=1, bar_style='info', max=1), HTML(value='')))"
      ]
     },
     "metadata": {},
     "output_type": "display_data"
    },
    {
     "data": {
      "application/vnd.jupyter.widget-view+json": {
       "model_id": "31e12597708a4b0c9bf5f1c3eb59fd4f",
       "version_major": 2,
       "version_minor": 0
      },
      "text/plain": [
       "HBox(children=(IntProgress(value=1, bar_style='info', max=1), HTML(value='')))"
      ]
     },
     "metadata": {},
     "output_type": "display_data"
    },
    {
     "data": {
      "application/vnd.jupyter.widget-view+json": {
       "model_id": "f4db8758974f47fdbd3b501253120df6",
       "version_major": 2,
       "version_minor": 0
      },
      "text/plain": [
       "HBox(children=(IntProgress(value=1, bar_style='info', max=1), HTML(value='')))"
      ]
     },
     "metadata": {},
     "output_type": "display_data"
    },
    {
     "data": {
      "application/vnd.jupyter.widget-view+json": {
       "model_id": "1083f2a1c73b492d90e766788cd53ab4",
       "version_major": 2,
       "version_minor": 0
      },
      "text/plain": [
       "HBox(children=(IntProgress(value=1, bar_style='info', max=1), HTML(value='')))"
      ]
     },
     "metadata": {},
     "output_type": "display_data"
    },
    {
     "data": {
      "application/vnd.jupyter.widget-view+json": {
       "model_id": "d202fa1bebee4459bbb12a9e2b1a11b9",
       "version_major": 2,
       "version_minor": 0
      },
      "text/plain": [
       "HBox(children=(IntProgress(value=1, bar_style='info', max=1), HTML(value='')))"
      ]
     },
     "metadata": {},
     "output_type": "display_data"
    },
    {
     "data": {
      "application/vnd.jupyter.widget-view+json": {
       "model_id": "db4e4ff7327b42eb997f30df65a7f349",
       "version_major": 2,
       "version_minor": 0
      },
      "text/plain": [
       "HBox(children=(IntProgress(value=1, bar_style='info', max=1), HTML(value='')))"
      ]
     },
     "metadata": {},
     "output_type": "display_data"
    },
    {
     "data": {
      "application/vnd.jupyter.widget-view+json": {
       "model_id": "91695d9b0d5c481aa7cdf604fb29aa1f",
       "version_major": 2,
       "version_minor": 0
      },
      "text/plain": [
       "HBox(children=(IntProgress(value=1, bar_style='info', max=1), HTML(value='')))"
      ]
     },
     "metadata": {},
     "output_type": "display_data"
    },
    {
     "data": {
      "application/vnd.jupyter.widget-view+json": {
       "model_id": "5ff3a4828ced4253b7f9b361f2c4a9e5",
       "version_major": 2,
       "version_minor": 0
      },
      "text/plain": [
       "HBox(children=(IntProgress(value=1, bar_style='info', max=1), HTML(value='')))"
      ]
     },
     "metadata": {},
     "output_type": "display_data"
    },
    {
     "data": {
      "application/vnd.jupyter.widget-view+json": {
       "model_id": "cb46f13b20e741a8a317b199b4d8237b",
       "version_major": 2,
       "version_minor": 0
      },
      "text/plain": [
       "HBox(children=(IntProgress(value=1, bar_style='info', max=1), HTML(value='')))"
      ]
     },
     "metadata": {},
     "output_type": "display_data"
    },
    {
     "data": {
      "application/vnd.jupyter.widget-view+json": {
       "model_id": "c01850ed6a0f43a3905f7f2d2f367914",
       "version_major": 2,
       "version_minor": 0
      },
      "text/plain": [
       "HBox(children=(IntProgress(value=1, bar_style='info', max=1), HTML(value='')))"
      ]
     },
     "metadata": {},
     "output_type": "display_data"
    },
    {
     "data": {
      "application/vnd.jupyter.widget-view+json": {
       "model_id": "c544a9cc7a054e698016fe4e61089e07",
       "version_major": 2,
       "version_minor": 0
      },
      "text/plain": [
       "HBox(children=(IntProgress(value=1, bar_style='info', max=1), HTML(value='')))"
      ]
     },
     "metadata": {},
     "output_type": "display_data"
    },
    {
     "data": {
      "application/vnd.jupyter.widget-view+json": {
       "model_id": "4c41763a356f4115abb421253d0a914b",
       "version_major": 2,
       "version_minor": 0
      },
      "text/plain": [
       "HBox(children=(IntProgress(value=1, bar_style='info', max=1), HTML(value='')))"
      ]
     },
     "metadata": {},
     "output_type": "display_data"
    },
    {
     "data": {
      "application/vnd.jupyter.widget-view+json": {
       "model_id": "f2a55a44d4bc4d3e90f10b56785a44ba",
       "version_major": 2,
       "version_minor": 0
      },
      "text/plain": [
       "HBox(children=(IntProgress(value=1, bar_style='info', max=1), HTML(value='')))"
      ]
     },
     "metadata": {},
     "output_type": "display_data"
    },
    {
     "data": {
      "application/vnd.jupyter.widget-view+json": {
       "model_id": "c86af18718104c4d925046f299d7074b",
       "version_major": 2,
       "version_minor": 0
      },
      "text/plain": [
       "HBox(children=(IntProgress(value=1, bar_style='info', max=1), HTML(value='')))"
      ]
     },
     "metadata": {},
     "output_type": "display_data"
    },
    {
     "data": {
      "application/vnd.jupyter.widget-view+json": {
       "model_id": "4ae543bf60a3491fb0301d188543de83",
       "version_major": 2,
       "version_minor": 0
      },
      "text/plain": [
       "HBox(children=(IntProgress(value=1, bar_style='info', max=1), HTML(value='')))"
      ]
     },
     "metadata": {},
     "output_type": "display_data"
    },
    {
     "data": {
      "application/vnd.jupyter.widget-view+json": {
       "model_id": "42c020d1ed1a4a7199e87e25314b3bb1",
       "version_major": 2,
       "version_minor": 0
      },
      "text/plain": [
       "HBox(children=(IntProgress(value=1, bar_style='info', max=1), HTML(value='')))"
      ]
     },
     "metadata": {},
     "output_type": "display_data"
    },
    {
     "data": {
      "application/vnd.jupyter.widget-view+json": {
       "model_id": "8fec6ec5a9f740b2a92f4cb0ab73b31b",
       "version_major": 2,
       "version_minor": 0
      },
      "text/plain": [
       "HBox(children=(IntProgress(value=1, bar_style='info', max=1), HTML(value='')))"
      ]
     },
     "metadata": {},
     "output_type": "display_data"
    },
    {
     "data": {
      "application/vnd.jupyter.widget-view+json": {
       "model_id": "01dc8b94c92749aeb9374b5a548c2b3e",
       "version_major": 2,
       "version_minor": 0
      },
      "text/plain": [
       "HBox(children=(IntProgress(value=1, bar_style='info', max=1), HTML(value='')))"
      ]
     },
     "metadata": {},
     "output_type": "display_data"
    },
    {
     "data": {
      "application/vnd.jupyter.widget-view+json": {
       "model_id": "983b9bf08cd54248a4884660bcf2e570",
       "version_major": 2,
       "version_minor": 0
      },
      "text/plain": [
       "HBox(children=(IntProgress(value=1, bar_style='info', max=1), HTML(value='')))"
      ]
     },
     "metadata": {},
     "output_type": "display_data"
    },
    {
     "data": {
      "application/vnd.jupyter.widget-view+json": {
       "model_id": "573eb150fab641959259d8432a0cb2c2",
       "version_major": 2,
       "version_minor": 0
      },
      "text/plain": [
       "HBox(children=(IntProgress(value=1, bar_style='info', max=1), HTML(value='')))"
      ]
     },
     "metadata": {},
     "output_type": "display_data"
    },
    {
     "data": {
      "application/vnd.jupyter.widget-view+json": {
       "model_id": "055ad606107b4ddf9adbee8d50a79827",
       "version_major": 2,
       "version_minor": 0
      },
      "text/plain": [
       "HBox(children=(IntProgress(value=1, bar_style='info', max=1), HTML(value='')))"
      ]
     },
     "metadata": {},
     "output_type": "display_data"
    },
    {
     "data": {
      "application/vnd.jupyter.widget-view+json": {
       "model_id": "d57c10fce1e440ac938b6a33cf1fccd2",
       "version_major": 2,
       "version_minor": 0
      },
      "text/plain": [
       "HBox(children=(IntProgress(value=1, bar_style='info', max=1), HTML(value='')))"
      ]
     },
     "metadata": {},
     "output_type": "display_data"
    },
    {
     "data": {
      "application/vnd.jupyter.widget-view+json": {
       "model_id": "7fca3e56c87d43c9b274a82d9d2b4a31",
       "version_major": 2,
       "version_minor": 0
      },
      "text/plain": [
       "HBox(children=(IntProgress(value=1, bar_style='info', max=1), HTML(value='')))"
      ]
     },
     "metadata": {},
     "output_type": "display_data"
    },
    {
     "data": {
      "application/vnd.jupyter.widget-view+json": {
       "model_id": "1e0d7565d3ca41a1ba3b23e8c50112c4",
       "version_major": 2,
       "version_minor": 0
      },
      "text/plain": [
       "HBox(children=(IntProgress(value=1, bar_style='info', max=1), HTML(value='')))"
      ]
     },
     "metadata": {},
     "output_type": "display_data"
    },
    {
     "data": {
      "application/vnd.jupyter.widget-view+json": {
       "model_id": "45d5bc6493704c03bb22faa5d1f37c72",
       "version_major": 2,
       "version_minor": 0
      },
      "text/plain": [
       "HBox(children=(IntProgress(value=1, bar_style='info', max=1), HTML(value='')))"
      ]
     },
     "metadata": {},
     "output_type": "display_data"
    },
    {
     "data": {
      "application/vnd.jupyter.widget-view+json": {
       "model_id": "9a301b75fb2a453e81f08b660e8137f3",
       "version_major": 2,
       "version_minor": 0
      },
      "text/plain": [
       "HBox(children=(IntProgress(value=1, bar_style='info', max=1), HTML(value='')))"
      ]
     },
     "metadata": {},
     "output_type": "display_data"
    },
    {
     "data": {
      "application/vnd.jupyter.widget-view+json": {
       "model_id": "cb1e54a5a18f444f9e701be76759746a",
       "version_major": 2,
       "version_minor": 0
      },
      "text/plain": [
       "HBox(children=(IntProgress(value=1, bar_style='info', max=1), HTML(value='')))"
      ]
     },
     "metadata": {},
     "output_type": "display_data"
    },
    {
     "data": {
      "application/vnd.jupyter.widget-view+json": {
       "model_id": "544156fc7ecf46b38794e1355d9fe9ef",
       "version_major": 2,
       "version_minor": 0
      },
      "text/plain": [
       "HBox(children=(IntProgress(value=1, bar_style='info', max=1), HTML(value='')))"
      ]
     },
     "metadata": {},
     "output_type": "display_data"
    },
    {
     "data": {
      "application/vnd.jupyter.widget-view+json": {
       "model_id": "6219ca5b359b4c66a4959341fcc544a3",
       "version_major": 2,
       "version_minor": 0
      },
      "text/plain": [
       "HBox(children=(IntProgress(value=1, bar_style='info', max=1), HTML(value='')))"
      ]
     },
     "metadata": {},
     "output_type": "display_data"
    },
    {
     "name": "stdout",
     "output_type": "stream",
     "text": [
      "\n"
     ]
    }
   ],
   "source": [
    "same_listList = []\n",
    "for tbd, img_tbd in tqdm(zip(tbd_list, img_tbd_list)):\n",
    "    img_tbd = np.expand_dims(img_tbd, 0)\n",
    "    same_list = []\n",
    "    for pid, img_pid in tqdm(zip(pid_list, img_pid_list)):\n",
    "        img_pid = np.expand_dims(img_pid, 0)\n",
    "        result = model.predict([img_tbd, img_pid])\n",
    "        if result.argmax()==0:\n",
    "            same_list.append((pid, result[0][0]))\n",
    "    same_list.sort(key=lambda x: x[1], reverse=True)\n",
    "    same_listList.append(same_list)"
   ]
  },
  {
   "cell_type": "code",
   "execution_count": 32,
   "metadata": {},
   "outputs": [
    {
     "data": {
      "text/html": [
       "<div>\n",
       "<style scoped>\n",
       "    .dataframe tbody tr th:only-of-type {\n",
       "        vertical-align: middle;\n",
       "    }\n",
       "\n",
       "    .dataframe tbody tr th {\n",
       "        vertical-align: top;\n",
       "    }\n",
       "\n",
       "    .dataframe thead th {\n",
       "        text-align: right;\n",
       "    }\n",
       "</style>\n",
       "<table border=\"1\" class=\"dataframe\">\n",
       "  <thead>\n",
       "    <tr style=\"text-align: right;\">\n",
       "      <th></th>\n",
       "      <th>pid</th>\n",
       "      <th>tbd</th>\n",
       "    </tr>\n",
       "  </thead>\n",
       "  <tbody>\n",
       "    <tr>\n",
       "      <th>0</th>\n",
       "      <td>8</td>\n",
       "      <td>1</td>\n",
       "    </tr>\n",
       "    <tr>\n",
       "      <th>1</th>\n",
       "      <td>11</td>\n",
       "      <td>2</td>\n",
       "    </tr>\n",
       "    <tr>\n",
       "      <th>2</th>\n",
       "      <td>29</td>\n",
       "      <td>3</td>\n",
       "    </tr>\n",
       "    <tr>\n",
       "      <th>3</th>\n",
       "      <td>31</td>\n",
       "      <td>4</td>\n",
       "    </tr>\n",
       "    <tr>\n",
       "      <th>4</th>\n",
       "      <td>54</td>\n",
       "      <td>5</td>\n",
       "    </tr>\n",
       "  </tbody>\n",
       "</table>\n",
       "</div>"
      ],
      "text/plain": [
       "  pid tbd\n",
       "0   8   1\n",
       "1  11   2\n",
       "2  29   3\n",
       "3  31   4\n",
       "4  54   5"
      ]
     },
     "execution_count": 32,
     "metadata": {},
     "output_type": "execute_result"
    }
   ],
   "source": [
    "import pandas as pd\n",
    "df_ans = pd.read_csv('pair.csv')\n",
    "df_ans[['file1']] = df_ans[['file1']].applymap(lambda x: x.replace('_reg1.csv', ''))\n",
    "df_ans[['file2']] = df_ans[['file2']].applymap(lambda x: x.replace('_reg2.csv', ''))\n",
    "r, c = df_ans.shape\n",
    "for i in range(r):\n",
    "    if i % 2 == 1:\n",
    "        tmp = df_ans.loc[i, 'file1']\n",
    "        df_ans.loc[i, 'file1'] = df_ans.loc[i, 'file2']\n",
    "        df_ans.loc[i, 'file2'] = tmp\n",
    "df_ans.columns = ['id', 'pid', 'tbd']\n",
    "df_ans[['pid']] = df_ans[['pid']].applymap(lambda x: x.replace('pid', ''))\n",
    "df_ans[['tbd']] = df_ans[['tbd']].applymap(lambda x: x.replace('tbd', ''))\n",
    "df_ans=df_ans.drop('id', axis=1)\n",
    "df_ans.head()"
   ]
  },
  {
   "cell_type": "markdown",
   "metadata": {},
   "source": [
    "### 精度を算出"
   ]
  },
  {
   "cell_type": "code",
   "execution_count": 62,
   "metadata": {},
   "outputs": [
    {
     "data": {
      "text/plain": [
       "0.4533333333333333"
      ]
     },
     "execution_count": 62,
     "metadata": {},
     "output_type": "execute_result"
    }
   ],
   "source": [
    "acc = 0\n",
    "for i in range(150):\n",
    "    if same_listList[i] == []:\n",
    "        continue\n",
    "    #print(tbd_list[i], same_listList[i][0], df_ans.loc[int(tbd_list[i])-1, 'pid'])\n",
    "    if int(same_listList[i][0][0]) == int(df_ans.loc[int(tbd_list[i])-1, 'pid']):\n",
    "        acc += 1\n",
    "acc / 150"
   ]
  },
  {
   "cell_type": "markdown",
   "metadata": {},
   "source": [
    "### 全tbdに対して検索\n",
    "### 各tbdクエリに対して、sameの一覧を取得"
   ]
  },
  {
   "cell_type": "code",
   "execution_count": 52,
   "metadata": {},
   "outputs": [
    {
     "data": {
      "application/vnd.jupyter.widget-view+json": {
       "model_id": "57bcb874f96e4f7e93c4fbc8ee21445f",
       "version_major": 2,
       "version_minor": 0
      },
      "text/plain": [
       "HBox(children=(IntProgress(value=0, max=150), HTML(value='')))"
      ]
     },
     "metadata": {},
     "output_type": "display_data"
    },
    {
     "name": "stdout",
     "output_type": "stream",
     "text": [
      "\n"
     ]
    }
   ],
   "source": [
    "root = './images_tbd'\n",
    "img_tbd_list = []\n",
    "for dire in tqdm(tbd_list):\n",
    "    dir_path = os.path.join(root, dire)\n",
    "    img_list = os.listdir(dir_path)\n",
    "    if '.DS_Store' in img_list:\n",
    "        img_list.remove('.DS_Store')\n",
    "    file = np.random.choice(img_list)\n",
    "    img_path = os.path.join(dir_path, file)\n",
    "    img = load_img(path=img_path, target_size=(160, 60), keep_aspect_ratio=False)\n",
    "    img = img_to_array(img) / 255.\n",
    "    img = _image_augmentation(img)\n",
    "    img_tbd_list.append(img) # list of array of img"
   ]
  },
  {
   "cell_type": "code",
   "execution_count": 53,
   "metadata": {},
   "outputs": [
    {
     "data": {
      "application/vnd.jupyter.widget-view+json": {
       "model_id": "65d43607a8f4460ea4662a207027b6c2",
       "version_major": 2,
       "version_minor": 0
      },
      "text/plain": [
       "HBox(children=(IntProgress(value=0, max=150), HTML(value='')))"
      ]
     },
     "metadata": {},
     "output_type": "display_data"
    },
    {
     "name": "stdout",
     "output_type": "stream",
     "text": [
      "\n"
     ]
    }
   ],
   "source": [
    "root = './images_pid'\n",
    "img_pid_listList = []\n",
    "for dire in tqdm(pid_list):\n",
    "    dir_path = os.path.join(root, dire)\n",
    "    img_list = os.listdir(dir_path)\n",
    "    if '.DS_Store' in img_list:\n",
    "        img_list.remove('.DS_Store')\n",
    "    img_pid_list = []\n",
    "    for file in img_list:\n",
    "        img_path = os.path.join(dir_path, file)\n",
    "        img = load_img(path=img_path, target_size=(160, 60), keep_aspect_ratio=False)\n",
    "        img = img_to_array(img) / 255.\n",
    "        img = _image_augmentation(img)\n",
    "        img_pid_list.append(img)\n",
    "    img_pid_listList.append(img_pid_list)"
   ]
  },
  {
   "cell_type": "code",
   "execution_count": 54,
   "metadata": {
    "scrolled": true
   },
   "outputs": [
    {
     "data": {
      "application/vnd.jupyter.widget-view+json": {
       "model_id": "a421aa12880d46f3a8d680342b3b06a3",
       "version_major": 2,
       "version_minor": 0
      },
      "text/plain": [
       "HBox(children=(IntProgress(value=1, bar_style='info', max=1), HTML(value='')))"
      ]
     },
     "metadata": {},
     "output_type": "display_data"
    },
    {
     "data": {
      "application/vnd.jupyter.widget-view+json": {
       "model_id": "1696ec3ddcc74f8884bb910beab09f0b",
       "version_major": 2,
       "version_minor": 0
      },
      "text/plain": [
       "HBox(children=(IntProgress(value=1, bar_style='info', max=1), HTML(value='')))"
      ]
     },
     "metadata": {},
     "output_type": "display_data"
    },
    {
     "data": {
      "application/vnd.jupyter.widget-view+json": {
       "model_id": "4e2f19c8ad5448dead1aa629c72c174a",
       "version_major": 2,
       "version_minor": 0
      },
      "text/plain": [
       "HBox(children=(IntProgress(value=1, bar_style='info', max=1), HTML(value='')))"
      ]
     },
     "metadata": {},
     "output_type": "display_data"
    },
    {
     "data": {
      "application/vnd.jupyter.widget-view+json": {
       "model_id": "09200de6f9834081820bcf23b4aaea9f",
       "version_major": 2,
       "version_minor": 0
      },
      "text/plain": [
       "HBox(children=(IntProgress(value=1, bar_style='info', max=1), HTML(value='')))"
      ]
     },
     "metadata": {},
     "output_type": "display_data"
    },
    {
     "data": {
      "application/vnd.jupyter.widget-view+json": {
       "model_id": "0dea31a85885494ea14cd82663640ace",
       "version_major": 2,
       "version_minor": 0
      },
      "text/plain": [
       "HBox(children=(IntProgress(value=1, bar_style='info', max=1), HTML(value='')))"
      ]
     },
     "metadata": {},
     "output_type": "display_data"
    },
    {
     "data": {
      "application/vnd.jupyter.widget-view+json": {
       "model_id": "82c5d39a4b7646269cc423773ac2d4d1",
       "version_major": 2,
       "version_minor": 0
      },
      "text/plain": [
       "HBox(children=(IntProgress(value=1, bar_style='info', max=1), HTML(value='')))"
      ]
     },
     "metadata": {},
     "output_type": "display_data"
    },
    {
     "data": {
      "application/vnd.jupyter.widget-view+json": {
       "model_id": "ed0093cd083940c2b63ec504a700abc0",
       "version_major": 2,
       "version_minor": 0
      },
      "text/plain": [
       "HBox(children=(IntProgress(value=1, bar_style='info', max=1), HTML(value='')))"
      ]
     },
     "metadata": {},
     "output_type": "display_data"
    },
    {
     "data": {
      "application/vnd.jupyter.widget-view+json": {
       "model_id": "a5650777a3ee4575b4546f83c0310809",
       "version_major": 2,
       "version_minor": 0
      },
      "text/plain": [
       "HBox(children=(IntProgress(value=1, bar_style='info', max=1), HTML(value='')))"
      ]
     },
     "metadata": {},
     "output_type": "display_data"
    },
    {
     "data": {
      "application/vnd.jupyter.widget-view+json": {
       "model_id": "400e0cfcffe448ae8b95528b2fc4a028",
       "version_major": 2,
       "version_minor": 0
      },
      "text/plain": [
       "HBox(children=(IntProgress(value=1, bar_style='info', max=1), HTML(value='')))"
      ]
     },
     "metadata": {},
     "output_type": "display_data"
    },
    {
     "data": {
      "application/vnd.jupyter.widget-view+json": {
       "model_id": "f952228a77d441f18279918a12288e9f",
       "version_major": 2,
       "version_minor": 0
      },
      "text/plain": [
       "HBox(children=(IntProgress(value=1, bar_style='info', max=1), HTML(value='')))"
      ]
     },
     "metadata": {},
     "output_type": "display_data"
    },
    {
     "data": {
      "application/vnd.jupyter.widget-view+json": {
       "model_id": "b54edea3d57443fbba2fb06fbe7d5194",
       "version_major": 2,
       "version_minor": 0
      },
      "text/plain": [
       "HBox(children=(IntProgress(value=1, bar_style='info', max=1), HTML(value='')))"
      ]
     },
     "metadata": {},
     "output_type": "display_data"
    },
    {
     "data": {
      "application/vnd.jupyter.widget-view+json": {
       "model_id": "e1b9faa69f5d45a49299f05beb973bc4",
       "version_major": 2,
       "version_minor": 0
      },
      "text/plain": [
       "HBox(children=(IntProgress(value=1, bar_style='info', max=1), HTML(value='')))"
      ]
     },
     "metadata": {},
     "output_type": "display_data"
    },
    {
     "data": {
      "application/vnd.jupyter.widget-view+json": {
       "model_id": "d8a88355564944e9babacbf13ab7cfc8",
       "version_major": 2,
       "version_minor": 0
      },
      "text/plain": [
       "HBox(children=(IntProgress(value=1, bar_style='info', max=1), HTML(value='')))"
      ]
     },
     "metadata": {},
     "output_type": "display_data"
    },
    {
     "data": {
      "application/vnd.jupyter.widget-view+json": {
       "model_id": "e2ba837aaba84005b5cad3fbaa825497",
       "version_major": 2,
       "version_minor": 0
      },
      "text/plain": [
       "HBox(children=(IntProgress(value=1, bar_style='info', max=1), HTML(value='')))"
      ]
     },
     "metadata": {},
     "output_type": "display_data"
    },
    {
     "data": {
      "application/vnd.jupyter.widget-view+json": {
       "model_id": "56913de1db3d4b3b898ed6a706adc3c3",
       "version_major": 2,
       "version_minor": 0
      },
      "text/plain": [
       "HBox(children=(IntProgress(value=1, bar_style='info', max=1), HTML(value='')))"
      ]
     },
     "metadata": {},
     "output_type": "display_data"
    },
    {
     "data": {
      "application/vnd.jupyter.widget-view+json": {
       "model_id": "f0f15feebc7e4ef8918ad58ec4236507",
       "version_major": 2,
       "version_minor": 0
      },
      "text/plain": [
       "HBox(children=(IntProgress(value=1, bar_style='info', max=1), HTML(value='')))"
      ]
     },
     "metadata": {},
     "output_type": "display_data"
    },
    {
     "data": {
      "application/vnd.jupyter.widget-view+json": {
       "model_id": "6061489267c440859b5399884fa58de3",
       "version_major": 2,
       "version_minor": 0
      },
      "text/plain": [
       "HBox(children=(IntProgress(value=1, bar_style='info', max=1), HTML(value='')))"
      ]
     },
     "metadata": {},
     "output_type": "display_data"
    },
    {
     "data": {
      "application/vnd.jupyter.widget-view+json": {
       "model_id": "c1e88384d20e434bbda5163b9e474fe8",
       "version_major": 2,
       "version_minor": 0
      },
      "text/plain": [
       "HBox(children=(IntProgress(value=1, bar_style='info', max=1), HTML(value='')))"
      ]
     },
     "metadata": {},
     "output_type": "display_data"
    },
    {
     "data": {
      "application/vnd.jupyter.widget-view+json": {
       "model_id": "35b9ab458aa244c5be803248a51bcd8e",
       "version_major": 2,
       "version_minor": 0
      },
      "text/plain": [
       "HBox(children=(IntProgress(value=1, bar_style='info', max=1), HTML(value='')))"
      ]
     },
     "metadata": {},
     "output_type": "display_data"
    },
    {
     "data": {
      "application/vnd.jupyter.widget-view+json": {
       "model_id": "7580084f2f2543f1a3abbc8836fa106b",
       "version_major": 2,
       "version_minor": 0
      },
      "text/plain": [
       "HBox(children=(IntProgress(value=1, bar_style='info', max=1), HTML(value='')))"
      ]
     },
     "metadata": {},
     "output_type": "display_data"
    },
    {
     "data": {
      "application/vnd.jupyter.widget-view+json": {
       "model_id": "ee73133d028a409a8e0975897dacb872",
       "version_major": 2,
       "version_minor": 0
      },
      "text/plain": [
       "HBox(children=(IntProgress(value=1, bar_style='info', max=1), HTML(value='')))"
      ]
     },
     "metadata": {},
     "output_type": "display_data"
    },
    {
     "data": {
      "application/vnd.jupyter.widget-view+json": {
       "model_id": "0dd44725d044480dab3b4de450548513",
       "version_major": 2,
       "version_minor": 0
      },
      "text/plain": [
       "HBox(children=(IntProgress(value=1, bar_style='info', max=1), HTML(value='')))"
      ]
     },
     "metadata": {},
     "output_type": "display_data"
    },
    {
     "data": {
      "application/vnd.jupyter.widget-view+json": {
       "model_id": "de6c23b863e541e09dc2a88fff96bf11",
       "version_major": 2,
       "version_minor": 0
      },
      "text/plain": [
       "HBox(children=(IntProgress(value=1, bar_style='info', max=1), HTML(value='')))"
      ]
     },
     "metadata": {},
     "output_type": "display_data"
    },
    {
     "data": {
      "application/vnd.jupyter.widget-view+json": {
       "model_id": "d5da90ecaa604b849e36fb5185156d66",
       "version_major": 2,
       "version_minor": 0
      },
      "text/plain": [
       "HBox(children=(IntProgress(value=1, bar_style='info', max=1), HTML(value='')))"
      ]
     },
     "metadata": {},
     "output_type": "display_data"
    },
    {
     "data": {
      "application/vnd.jupyter.widget-view+json": {
       "model_id": "ca9820ad41404130ba94c77ab4108a76",
       "version_major": 2,
       "version_minor": 0
      },
      "text/plain": [
       "HBox(children=(IntProgress(value=1, bar_style='info', max=1), HTML(value='')))"
      ]
     },
     "metadata": {},
     "output_type": "display_data"
    },
    {
     "data": {
      "application/vnd.jupyter.widget-view+json": {
       "model_id": "bfd938b63eef47499aacc7099417c700",
       "version_major": 2,
       "version_minor": 0
      },
      "text/plain": [
       "HBox(children=(IntProgress(value=1, bar_style='info', max=1), HTML(value='')))"
      ]
     },
     "metadata": {},
     "output_type": "display_data"
    },
    {
     "data": {
      "application/vnd.jupyter.widget-view+json": {
       "model_id": "6b9fdbe5dea44b7196fb53f03ba638b8",
       "version_major": 2,
       "version_minor": 0
      },
      "text/plain": [
       "HBox(children=(IntProgress(value=1, bar_style='info', max=1), HTML(value='')))"
      ]
     },
     "metadata": {},
     "output_type": "display_data"
    },
    {
     "data": {
      "application/vnd.jupyter.widget-view+json": {
       "model_id": "3d9bffdea7a5483c93a88a046d860b71",
       "version_major": 2,
       "version_minor": 0
      },
      "text/plain": [
       "HBox(children=(IntProgress(value=1, bar_style='info', max=1), HTML(value='')))"
      ]
     },
     "metadata": {},
     "output_type": "display_data"
    },
    {
     "data": {
      "application/vnd.jupyter.widget-view+json": {
       "model_id": "54a6e520c8df4506b3e9b940a6106ef0",
       "version_major": 2,
       "version_minor": 0
      },
      "text/plain": [
       "HBox(children=(IntProgress(value=1, bar_style='info', max=1), HTML(value='')))"
      ]
     },
     "metadata": {},
     "output_type": "display_data"
    },
    {
     "data": {
      "application/vnd.jupyter.widget-view+json": {
       "model_id": "87e24cf4ef904c7f84d30937665819ab",
       "version_major": 2,
       "version_minor": 0
      },
      "text/plain": [
       "HBox(children=(IntProgress(value=1, bar_style='info', max=1), HTML(value='')))"
      ]
     },
     "metadata": {},
     "output_type": "display_data"
    },
    {
     "data": {
      "application/vnd.jupyter.widget-view+json": {
       "model_id": "c4b308863c144cd295ae2908c81ff82e",
       "version_major": 2,
       "version_minor": 0
      },
      "text/plain": [
       "HBox(children=(IntProgress(value=1, bar_style='info', max=1), HTML(value='')))"
      ]
     },
     "metadata": {},
     "output_type": "display_data"
    },
    {
     "data": {
      "application/vnd.jupyter.widget-view+json": {
       "model_id": "619b547fb2bd4dedbeeb4cca32fc3149",
       "version_major": 2,
       "version_minor": 0
      },
      "text/plain": [
       "HBox(children=(IntProgress(value=1, bar_style='info', max=1), HTML(value='')))"
      ]
     },
     "metadata": {},
     "output_type": "display_data"
    },
    {
     "data": {
      "application/vnd.jupyter.widget-view+json": {
       "model_id": "79ff66a6bc8649a495fb7f790af795e4",
       "version_major": 2,
       "version_minor": 0
      },
      "text/plain": [
       "HBox(children=(IntProgress(value=1, bar_style='info', max=1), HTML(value='')))"
      ]
     },
     "metadata": {},
     "output_type": "display_data"
    },
    {
     "data": {
      "application/vnd.jupyter.widget-view+json": {
       "model_id": "67cf90c1a0ef4c3f836ceedb1585dcad",
       "version_major": 2,
       "version_minor": 0
      },
      "text/plain": [
       "HBox(children=(IntProgress(value=1, bar_style='info', max=1), HTML(value='')))"
      ]
     },
     "metadata": {},
     "output_type": "display_data"
    },
    {
     "data": {
      "application/vnd.jupyter.widget-view+json": {
       "model_id": "b48e028c4c0c4da4b732f9d1644c526b",
       "version_major": 2,
       "version_minor": 0
      },
      "text/plain": [
       "HBox(children=(IntProgress(value=1, bar_style='info', max=1), HTML(value='')))"
      ]
     },
     "metadata": {},
     "output_type": "display_data"
    },
    {
     "data": {
      "application/vnd.jupyter.widget-view+json": {
       "model_id": "24435ee45d3e492db936f1cfd1131c1a",
       "version_major": 2,
       "version_minor": 0
      },
      "text/plain": [
       "HBox(children=(IntProgress(value=1, bar_style='info', max=1), HTML(value='')))"
      ]
     },
     "metadata": {},
     "output_type": "display_data"
    },
    {
     "data": {
      "application/vnd.jupyter.widget-view+json": {
       "model_id": "2a37d625981d461da8903f35946c2fcc",
       "version_major": 2,
       "version_minor": 0
      },
      "text/plain": [
       "HBox(children=(IntProgress(value=1, bar_style='info', max=1), HTML(value='')))"
      ]
     },
     "metadata": {},
     "output_type": "display_data"
    },
    {
     "data": {
      "application/vnd.jupyter.widget-view+json": {
       "model_id": "209518eaea7443c58693427796266827",
       "version_major": 2,
       "version_minor": 0
      },
      "text/plain": [
       "HBox(children=(IntProgress(value=1, bar_style='info', max=1), HTML(value='')))"
      ]
     },
     "metadata": {},
     "output_type": "display_data"
    },
    {
     "data": {
      "application/vnd.jupyter.widget-view+json": {
       "model_id": "a55dbb0cf046488c8610c860d0543d16",
       "version_major": 2,
       "version_minor": 0
      },
      "text/plain": [
       "HBox(children=(IntProgress(value=1, bar_style='info', max=1), HTML(value='')))"
      ]
     },
     "metadata": {},
     "output_type": "display_data"
    },
    {
     "data": {
      "application/vnd.jupyter.widget-view+json": {
       "model_id": "44d538048c90432da5d0aea8e4913cd0",
       "version_major": 2,
       "version_minor": 0
      },
      "text/plain": [
       "HBox(children=(IntProgress(value=1, bar_style='info', max=1), HTML(value='')))"
      ]
     },
     "metadata": {},
     "output_type": "display_data"
    },
    {
     "data": {
      "application/vnd.jupyter.widget-view+json": {
       "model_id": "71941afced824b38946c7966e2005d6a",
       "version_major": 2,
       "version_minor": 0
      },
      "text/plain": [
       "HBox(children=(IntProgress(value=1, bar_style='info', max=1), HTML(value='')))"
      ]
     },
     "metadata": {},
     "output_type": "display_data"
    },
    {
     "data": {
      "application/vnd.jupyter.widget-view+json": {
       "model_id": "ada6d99802824e9baaff7588bd8e766b",
       "version_major": 2,
       "version_minor": 0
      },
      "text/plain": [
       "HBox(children=(IntProgress(value=1, bar_style='info', max=1), HTML(value='')))"
      ]
     },
     "metadata": {},
     "output_type": "display_data"
    },
    {
     "data": {
      "application/vnd.jupyter.widget-view+json": {
       "model_id": "c09bcd3f4e824eda8bc0b13d4d373234",
       "version_major": 2,
       "version_minor": 0
      },
      "text/plain": [
       "HBox(children=(IntProgress(value=1, bar_style='info', max=1), HTML(value='')))"
      ]
     },
     "metadata": {},
     "output_type": "display_data"
    },
    {
     "data": {
      "application/vnd.jupyter.widget-view+json": {
       "model_id": "3a2f009575b2478780148b1ce774395f",
       "version_major": 2,
       "version_minor": 0
      },
      "text/plain": [
       "HBox(children=(IntProgress(value=1, bar_style='info', max=1), HTML(value='')))"
      ]
     },
     "metadata": {},
     "output_type": "display_data"
    },
    {
     "data": {
      "application/vnd.jupyter.widget-view+json": {
       "model_id": "b09c13ff996a45f3938a6bf3505fdaea",
       "version_major": 2,
       "version_minor": 0
      },
      "text/plain": [
       "HBox(children=(IntProgress(value=1, bar_style='info', max=1), HTML(value='')))"
      ]
     },
     "metadata": {},
     "output_type": "display_data"
    },
    {
     "data": {
      "application/vnd.jupyter.widget-view+json": {
       "model_id": "12d98cf4d0794367a74dc3673728b514",
       "version_major": 2,
       "version_minor": 0
      },
      "text/plain": [
       "HBox(children=(IntProgress(value=1, bar_style='info', max=1), HTML(value='')))"
      ]
     },
     "metadata": {},
     "output_type": "display_data"
    },
    {
     "data": {
      "application/vnd.jupyter.widget-view+json": {
       "model_id": "9ee89d91da784febb8e7618f7401b7cd",
       "version_major": 2,
       "version_minor": 0
      },
      "text/plain": [
       "HBox(children=(IntProgress(value=1, bar_style='info', max=1), HTML(value='')))"
      ]
     },
     "metadata": {},
     "output_type": "display_data"
    },
    {
     "data": {
      "application/vnd.jupyter.widget-view+json": {
       "model_id": "ba680b61b9bc4be0ac98c471bd4c759f",
       "version_major": 2,
       "version_minor": 0
      },
      "text/plain": [
       "HBox(children=(IntProgress(value=1, bar_style='info', max=1), HTML(value='')))"
      ]
     },
     "metadata": {},
     "output_type": "display_data"
    },
    {
     "data": {
      "application/vnd.jupyter.widget-view+json": {
       "model_id": "ea91a40a356c48b494362d208f616c74",
       "version_major": 2,
       "version_minor": 0
      },
      "text/plain": [
       "HBox(children=(IntProgress(value=1, bar_style='info', max=1), HTML(value='')))"
      ]
     },
     "metadata": {},
     "output_type": "display_data"
    },
    {
     "data": {
      "application/vnd.jupyter.widget-view+json": {
       "model_id": "9594470bd04b4c2fb8c35e84127f2509",
       "version_major": 2,
       "version_minor": 0
      },
      "text/plain": [
       "HBox(children=(IntProgress(value=1, bar_style='info', max=1), HTML(value='')))"
      ]
     },
     "metadata": {},
     "output_type": "display_data"
    },
    {
     "data": {
      "application/vnd.jupyter.widget-view+json": {
       "model_id": "a1c7329e014d4ff09b812c18875ddf42",
       "version_major": 2,
       "version_minor": 0
      },
      "text/plain": [
       "HBox(children=(IntProgress(value=1, bar_style='info', max=1), HTML(value='')))"
      ]
     },
     "metadata": {},
     "output_type": "display_data"
    },
    {
     "data": {
      "application/vnd.jupyter.widget-view+json": {
       "model_id": "51d968fb54124f29ae9fd1b333983142",
       "version_major": 2,
       "version_minor": 0
      },
      "text/plain": [
       "HBox(children=(IntProgress(value=1, bar_style='info', max=1), HTML(value='')))"
      ]
     },
     "metadata": {},
     "output_type": "display_data"
    },
    {
     "data": {
      "application/vnd.jupyter.widget-view+json": {
       "model_id": "5bf2156d8dc243248fac3ac77fd0ddca",
       "version_major": 2,
       "version_minor": 0
      },
      "text/plain": [
       "HBox(children=(IntProgress(value=1, bar_style='info', max=1), HTML(value='')))"
      ]
     },
     "metadata": {},
     "output_type": "display_data"
    },
    {
     "data": {
      "application/vnd.jupyter.widget-view+json": {
       "model_id": "82419622d10341dba3afd988adfef1b8",
       "version_major": 2,
       "version_minor": 0
      },
      "text/plain": [
       "HBox(children=(IntProgress(value=1, bar_style='info', max=1), HTML(value='')))"
      ]
     },
     "metadata": {},
     "output_type": "display_data"
    },
    {
     "data": {
      "application/vnd.jupyter.widget-view+json": {
       "model_id": "759dfbf6cb534fdd9077723d099af202",
       "version_major": 2,
       "version_minor": 0
      },
      "text/plain": [
       "HBox(children=(IntProgress(value=1, bar_style='info', max=1), HTML(value='')))"
      ]
     },
     "metadata": {},
     "output_type": "display_data"
    },
    {
     "data": {
      "application/vnd.jupyter.widget-view+json": {
       "model_id": "0a355c980de04baeb63683667f8f2875",
       "version_major": 2,
       "version_minor": 0
      },
      "text/plain": [
       "HBox(children=(IntProgress(value=1, bar_style='info', max=1), HTML(value='')))"
      ]
     },
     "metadata": {},
     "output_type": "display_data"
    },
    {
     "data": {
      "application/vnd.jupyter.widget-view+json": {
       "model_id": "c44b406f7f8142c095c2921809310adc",
       "version_major": 2,
       "version_minor": 0
      },
      "text/plain": [
       "HBox(children=(IntProgress(value=1, bar_style='info', max=1), HTML(value='')))"
      ]
     },
     "metadata": {},
     "output_type": "display_data"
    },
    {
     "data": {
      "application/vnd.jupyter.widget-view+json": {
       "model_id": "74a116706ea64314a2be01652cd5e3b0",
       "version_major": 2,
       "version_minor": 0
      },
      "text/plain": [
       "HBox(children=(IntProgress(value=1, bar_style='info', max=1), HTML(value='')))"
      ]
     },
     "metadata": {},
     "output_type": "display_data"
    },
    {
     "data": {
      "application/vnd.jupyter.widget-view+json": {
       "model_id": "db4732b6e91940b49709977227045be3",
       "version_major": 2,
       "version_minor": 0
      },
      "text/plain": [
       "HBox(children=(IntProgress(value=1, bar_style='info', max=1), HTML(value='')))"
      ]
     },
     "metadata": {},
     "output_type": "display_data"
    },
    {
     "data": {
      "application/vnd.jupyter.widget-view+json": {
       "model_id": "480ff18c1ebc4aa68b628a8fd1484703",
       "version_major": 2,
       "version_minor": 0
      },
      "text/plain": [
       "HBox(children=(IntProgress(value=1, bar_style='info', max=1), HTML(value='')))"
      ]
     },
     "metadata": {},
     "output_type": "display_data"
    },
    {
     "data": {
      "application/vnd.jupyter.widget-view+json": {
       "model_id": "2aa45db824fb4efd9ee17a103f92da3a",
       "version_major": 2,
       "version_minor": 0
      },
      "text/plain": [
       "HBox(children=(IntProgress(value=1, bar_style='info', max=1), HTML(value='')))"
      ]
     },
     "metadata": {},
     "output_type": "display_data"
    },
    {
     "data": {
      "application/vnd.jupyter.widget-view+json": {
       "model_id": "1286f7785fc045c7b509ad283186d4af",
       "version_major": 2,
       "version_minor": 0
      },
      "text/plain": [
       "HBox(children=(IntProgress(value=1, bar_style='info', max=1), HTML(value='')))"
      ]
     },
     "metadata": {},
     "output_type": "display_data"
    },
    {
     "data": {
      "application/vnd.jupyter.widget-view+json": {
       "model_id": "4bca1be6a92648809189ae6518fb71ee",
       "version_major": 2,
       "version_minor": 0
      },
      "text/plain": [
       "HBox(children=(IntProgress(value=1, bar_style='info', max=1), HTML(value='')))"
      ]
     },
     "metadata": {},
     "output_type": "display_data"
    },
    {
     "data": {
      "application/vnd.jupyter.widget-view+json": {
       "model_id": "1e25e42e7fc04b829cbfd6dca01b5c5a",
       "version_major": 2,
       "version_minor": 0
      },
      "text/plain": [
       "HBox(children=(IntProgress(value=1, bar_style='info', max=1), HTML(value='')))"
      ]
     },
     "metadata": {},
     "output_type": "display_data"
    },
    {
     "data": {
      "application/vnd.jupyter.widget-view+json": {
       "model_id": "c89b1814e49c459eb8fc1e5acfd3f582",
       "version_major": 2,
       "version_minor": 0
      },
      "text/plain": [
       "HBox(children=(IntProgress(value=1, bar_style='info', max=1), HTML(value='')))"
      ]
     },
     "metadata": {},
     "output_type": "display_data"
    },
    {
     "data": {
      "application/vnd.jupyter.widget-view+json": {
       "model_id": "6fb9f0e229c0425b99f39da8947797fe",
       "version_major": 2,
       "version_minor": 0
      },
      "text/plain": [
       "HBox(children=(IntProgress(value=1, bar_style='info', max=1), HTML(value='')))"
      ]
     },
     "metadata": {},
     "output_type": "display_data"
    },
    {
     "data": {
      "application/vnd.jupyter.widget-view+json": {
       "model_id": "48d16a30c5c04f64ae5e52c92d9d31a9",
       "version_major": 2,
       "version_minor": 0
      },
      "text/plain": [
       "HBox(children=(IntProgress(value=1, bar_style='info', max=1), HTML(value='')))"
      ]
     },
     "metadata": {},
     "output_type": "display_data"
    },
    {
     "data": {
      "application/vnd.jupyter.widget-view+json": {
       "model_id": "d7baea67f07840b28fef573beb01dc07",
       "version_major": 2,
       "version_minor": 0
      },
      "text/plain": [
       "HBox(children=(IntProgress(value=1, bar_style='info', max=1), HTML(value='')))"
      ]
     },
     "metadata": {},
     "output_type": "display_data"
    },
    {
     "data": {
      "application/vnd.jupyter.widget-view+json": {
       "model_id": "2dcd52331d6a4785851fbd2d67f40b08",
       "version_major": 2,
       "version_minor": 0
      },
      "text/plain": [
       "HBox(children=(IntProgress(value=1, bar_style='info', max=1), HTML(value='')))"
      ]
     },
     "metadata": {},
     "output_type": "display_data"
    },
    {
     "data": {
      "application/vnd.jupyter.widget-view+json": {
       "model_id": "7f931c1c6fb84494939df2025bb26efd",
       "version_major": 2,
       "version_minor": 0
      },
      "text/plain": [
       "HBox(children=(IntProgress(value=1, bar_style='info', max=1), HTML(value='')))"
      ]
     },
     "metadata": {},
     "output_type": "display_data"
    },
    {
     "data": {
      "application/vnd.jupyter.widget-view+json": {
       "model_id": "4002b6b7182141ab8dd8ba6e600e90c7",
       "version_major": 2,
       "version_minor": 0
      },
      "text/plain": [
       "HBox(children=(IntProgress(value=1, bar_style='info', max=1), HTML(value='')))"
      ]
     },
     "metadata": {},
     "output_type": "display_data"
    },
    {
     "data": {
      "application/vnd.jupyter.widget-view+json": {
       "model_id": "f2ff0746eef54fd68ce2c4ea42248fb0",
       "version_major": 2,
       "version_minor": 0
      },
      "text/plain": [
       "HBox(children=(IntProgress(value=1, bar_style='info', max=1), HTML(value='')))"
      ]
     },
     "metadata": {},
     "output_type": "display_data"
    },
    {
     "data": {
      "application/vnd.jupyter.widget-view+json": {
       "model_id": "74978c3c00704be3afdba9cd617bc15a",
       "version_major": 2,
       "version_minor": 0
      },
      "text/plain": [
       "HBox(children=(IntProgress(value=1, bar_style='info', max=1), HTML(value='')))"
      ]
     },
     "metadata": {},
     "output_type": "display_data"
    },
    {
     "data": {
      "application/vnd.jupyter.widget-view+json": {
       "model_id": "48c7be2d045747f2bd420cc45bad6c4e",
       "version_major": 2,
       "version_minor": 0
      },
      "text/plain": [
       "HBox(children=(IntProgress(value=1, bar_style='info', max=1), HTML(value='')))"
      ]
     },
     "metadata": {},
     "output_type": "display_data"
    },
    {
     "data": {
      "application/vnd.jupyter.widget-view+json": {
       "model_id": "52563391d87c4daaabc8924418d4758f",
       "version_major": 2,
       "version_minor": 0
      },
      "text/plain": [
       "HBox(children=(IntProgress(value=1, bar_style='info', max=1), HTML(value='')))"
      ]
     },
     "metadata": {},
     "output_type": "display_data"
    },
    {
     "data": {
      "application/vnd.jupyter.widget-view+json": {
       "model_id": "e76ccfd2bdb74ed98785098436afbe54",
       "version_major": 2,
       "version_minor": 0
      },
      "text/plain": [
       "HBox(children=(IntProgress(value=1, bar_style='info', max=1), HTML(value='')))"
      ]
     },
     "metadata": {},
     "output_type": "display_data"
    },
    {
     "data": {
      "application/vnd.jupyter.widget-view+json": {
       "model_id": "d2083c571cd8490e92e517ca5cb98e05",
       "version_major": 2,
       "version_minor": 0
      },
      "text/plain": [
       "HBox(children=(IntProgress(value=1, bar_style='info', max=1), HTML(value='')))"
      ]
     },
     "metadata": {},
     "output_type": "display_data"
    },
    {
     "data": {
      "application/vnd.jupyter.widget-view+json": {
       "model_id": "a51f0f16e82444adab5540d34def1edb",
       "version_major": 2,
       "version_minor": 0
      },
      "text/plain": [
       "HBox(children=(IntProgress(value=1, bar_style='info', max=1), HTML(value='')))"
      ]
     },
     "metadata": {},
     "output_type": "display_data"
    },
    {
     "data": {
      "application/vnd.jupyter.widget-view+json": {
       "model_id": "8041928c7daf41a6a2b34bf3c2bb2b44",
       "version_major": 2,
       "version_minor": 0
      },
      "text/plain": [
       "HBox(children=(IntProgress(value=1, bar_style='info', max=1), HTML(value='')))"
      ]
     },
     "metadata": {},
     "output_type": "display_data"
    },
    {
     "data": {
      "application/vnd.jupyter.widget-view+json": {
       "model_id": "95ca066a04b54c24a3387d7840e18ab8",
       "version_major": 2,
       "version_minor": 0
      },
      "text/plain": [
       "HBox(children=(IntProgress(value=1, bar_style='info', max=1), HTML(value='')))"
      ]
     },
     "metadata": {},
     "output_type": "display_data"
    },
    {
     "data": {
      "application/vnd.jupyter.widget-view+json": {
       "model_id": "2fd85919e79d4b1fb45f22a44f31e215",
       "version_major": 2,
       "version_minor": 0
      },
      "text/plain": [
       "HBox(children=(IntProgress(value=1, bar_style='info', max=1), HTML(value='')))"
      ]
     },
     "metadata": {},
     "output_type": "display_data"
    },
    {
     "data": {
      "application/vnd.jupyter.widget-view+json": {
       "model_id": "d6e68083b943482cbae089937ddb4ba4",
       "version_major": 2,
       "version_minor": 0
      },
      "text/plain": [
       "HBox(children=(IntProgress(value=1, bar_style='info', max=1), HTML(value='')))"
      ]
     },
     "metadata": {},
     "output_type": "display_data"
    },
    {
     "data": {
      "application/vnd.jupyter.widget-view+json": {
       "model_id": "9658424fb1154e128da11a2ae24c7425",
       "version_major": 2,
       "version_minor": 0
      },
      "text/plain": [
       "HBox(children=(IntProgress(value=1, bar_style='info', max=1), HTML(value='')))"
      ]
     },
     "metadata": {},
     "output_type": "display_data"
    },
    {
     "data": {
      "application/vnd.jupyter.widget-view+json": {
       "model_id": "816c0188842f402796b99290027ab0f4",
       "version_major": 2,
       "version_minor": 0
      },
      "text/plain": [
       "HBox(children=(IntProgress(value=1, bar_style='info', max=1), HTML(value='')))"
      ]
     },
     "metadata": {},
     "output_type": "display_data"
    },
    {
     "data": {
      "application/vnd.jupyter.widget-view+json": {
       "model_id": "03ba4d21593b493186dc87e2428b8b7a",
       "version_major": 2,
       "version_minor": 0
      },
      "text/plain": [
       "HBox(children=(IntProgress(value=1, bar_style='info', max=1), HTML(value='')))"
      ]
     },
     "metadata": {},
     "output_type": "display_data"
    },
    {
     "data": {
      "application/vnd.jupyter.widget-view+json": {
       "model_id": "0644b914bff04c6a9c8a4a610de11cdb",
       "version_major": 2,
       "version_minor": 0
      },
      "text/plain": [
       "HBox(children=(IntProgress(value=1, bar_style='info', max=1), HTML(value='')))"
      ]
     },
     "metadata": {},
     "output_type": "display_data"
    },
    {
     "data": {
      "application/vnd.jupyter.widget-view+json": {
       "model_id": "f4d63e164b43418d866b3a7c14a16cd5",
       "version_major": 2,
       "version_minor": 0
      },
      "text/plain": [
       "HBox(children=(IntProgress(value=1, bar_style='info', max=1), HTML(value='')))"
      ]
     },
     "metadata": {},
     "output_type": "display_data"
    },
    {
     "data": {
      "application/vnd.jupyter.widget-view+json": {
       "model_id": "22d989983f6b499daeaeb68d9517af97",
       "version_major": 2,
       "version_minor": 0
      },
      "text/plain": [
       "HBox(children=(IntProgress(value=1, bar_style='info', max=1), HTML(value='')))"
      ]
     },
     "metadata": {},
     "output_type": "display_data"
    },
    {
     "data": {
      "application/vnd.jupyter.widget-view+json": {
       "model_id": "a8b7185bced84010bafc42ab5a944b01",
       "version_major": 2,
       "version_minor": 0
      },
      "text/plain": [
       "HBox(children=(IntProgress(value=1, bar_style='info', max=1), HTML(value='')))"
      ]
     },
     "metadata": {},
     "output_type": "display_data"
    },
    {
     "data": {
      "application/vnd.jupyter.widget-view+json": {
       "model_id": "550716b3f88e4b6596840aba8a06e015",
       "version_major": 2,
       "version_minor": 0
      },
      "text/plain": [
       "HBox(children=(IntProgress(value=1, bar_style='info', max=1), HTML(value='')))"
      ]
     },
     "metadata": {},
     "output_type": "display_data"
    },
    {
     "data": {
      "application/vnd.jupyter.widget-view+json": {
       "model_id": "3330f68ada794dd78cd1fea32bd08154",
       "version_major": 2,
       "version_minor": 0
      },
      "text/plain": [
       "HBox(children=(IntProgress(value=1, bar_style='info', max=1), HTML(value='')))"
      ]
     },
     "metadata": {},
     "output_type": "display_data"
    },
    {
     "data": {
      "application/vnd.jupyter.widget-view+json": {
       "model_id": "40932d5a951b40a286ec044ca38b82f2",
       "version_major": 2,
       "version_minor": 0
      },
      "text/plain": [
       "HBox(children=(IntProgress(value=1, bar_style='info', max=1), HTML(value='')))"
      ]
     },
     "metadata": {},
     "output_type": "display_data"
    },
    {
     "data": {
      "application/vnd.jupyter.widget-view+json": {
       "model_id": "9e5a087cb6c54f39aac39b6095eb107b",
       "version_major": 2,
       "version_minor": 0
      },
      "text/plain": [
       "HBox(children=(IntProgress(value=1, bar_style='info', max=1), HTML(value='')))"
      ]
     },
     "metadata": {},
     "output_type": "display_data"
    },
    {
     "data": {
      "application/vnd.jupyter.widget-view+json": {
       "model_id": "25855a7ba7854c1f936a759d388f35e9",
       "version_major": 2,
       "version_minor": 0
      },
      "text/plain": [
       "HBox(children=(IntProgress(value=1, bar_style='info', max=1), HTML(value='')))"
      ]
     },
     "metadata": {},
     "output_type": "display_data"
    },
    {
     "data": {
      "application/vnd.jupyter.widget-view+json": {
       "model_id": "827326d9f8b8491281639f1a2f107463",
       "version_major": 2,
       "version_minor": 0
      },
      "text/plain": [
       "HBox(children=(IntProgress(value=1, bar_style='info', max=1), HTML(value='')))"
      ]
     },
     "metadata": {},
     "output_type": "display_data"
    },
    {
     "data": {
      "application/vnd.jupyter.widget-view+json": {
       "model_id": "d7807d054efa4e8495277bfadee88852",
       "version_major": 2,
       "version_minor": 0
      },
      "text/plain": [
       "HBox(children=(IntProgress(value=1, bar_style='info', max=1), HTML(value='')))"
      ]
     },
     "metadata": {},
     "output_type": "display_data"
    },
    {
     "data": {
      "application/vnd.jupyter.widget-view+json": {
       "model_id": "cfa5c56408334827bb083be3218c4c73",
       "version_major": 2,
       "version_minor": 0
      },
      "text/plain": [
       "HBox(children=(IntProgress(value=1, bar_style='info', max=1), HTML(value='')))"
      ]
     },
     "metadata": {},
     "output_type": "display_data"
    },
    {
     "data": {
      "application/vnd.jupyter.widget-view+json": {
       "model_id": "2b8e75c673974313b09c3f2302203fd2",
       "version_major": 2,
       "version_minor": 0
      },
      "text/plain": [
       "HBox(children=(IntProgress(value=1, bar_style='info', max=1), HTML(value='')))"
      ]
     },
     "metadata": {},
     "output_type": "display_data"
    },
    {
     "data": {
      "application/vnd.jupyter.widget-view+json": {
       "model_id": "f56d79bf82dc4a278319b743bd645896",
       "version_major": 2,
       "version_minor": 0
      },
      "text/plain": [
       "HBox(children=(IntProgress(value=1, bar_style='info', max=1), HTML(value='')))"
      ]
     },
     "metadata": {},
     "output_type": "display_data"
    },
    {
     "data": {
      "application/vnd.jupyter.widget-view+json": {
       "model_id": "9aef994b75f0413e8dc2216071189c81",
       "version_major": 2,
       "version_minor": 0
      },
      "text/plain": [
       "HBox(children=(IntProgress(value=1, bar_style='info', max=1), HTML(value='')))"
      ]
     },
     "metadata": {},
     "output_type": "display_data"
    },
    {
     "data": {
      "application/vnd.jupyter.widget-view+json": {
       "model_id": "079e6cb90c394cbd8b368f252bed698f",
       "version_major": 2,
       "version_minor": 0
      },
      "text/plain": [
       "HBox(children=(IntProgress(value=1, bar_style='info', max=1), HTML(value='')))"
      ]
     },
     "metadata": {},
     "output_type": "display_data"
    },
    {
     "data": {
      "application/vnd.jupyter.widget-view+json": {
       "model_id": "01fb08559d3d410c86d173720a3ead02",
       "version_major": 2,
       "version_minor": 0
      },
      "text/plain": [
       "HBox(children=(IntProgress(value=1, bar_style='info', max=1), HTML(value='')))"
      ]
     },
     "metadata": {},
     "output_type": "display_data"
    },
    {
     "data": {
      "application/vnd.jupyter.widget-view+json": {
       "model_id": "104f772c2502439797264e447f4caacb",
       "version_major": 2,
       "version_minor": 0
      },
      "text/plain": [
       "HBox(children=(IntProgress(value=1, bar_style='info', max=1), HTML(value='')))"
      ]
     },
     "metadata": {},
     "output_type": "display_data"
    },
    {
     "data": {
      "application/vnd.jupyter.widget-view+json": {
       "model_id": "50390d057c464e88a956cd0bea943870",
       "version_major": 2,
       "version_minor": 0
      },
      "text/plain": [
       "HBox(children=(IntProgress(value=1, bar_style='info', max=1), HTML(value='')))"
      ]
     },
     "metadata": {},
     "output_type": "display_data"
    },
    {
     "data": {
      "application/vnd.jupyter.widget-view+json": {
       "model_id": "90b57ac853234a72b484af651e073531",
       "version_major": 2,
       "version_minor": 0
      },
      "text/plain": [
       "HBox(children=(IntProgress(value=1, bar_style='info', max=1), HTML(value='')))"
      ]
     },
     "metadata": {},
     "output_type": "display_data"
    },
    {
     "data": {
      "application/vnd.jupyter.widget-view+json": {
       "model_id": "0d4d31bfa4f9440187be2ac1cdb770f5",
       "version_major": 2,
       "version_minor": 0
      },
      "text/plain": [
       "HBox(children=(IntProgress(value=1, bar_style='info', max=1), HTML(value='')))"
      ]
     },
     "metadata": {},
     "output_type": "display_data"
    },
    {
     "data": {
      "application/vnd.jupyter.widget-view+json": {
       "model_id": "c1da17aacc5443aaafb8f2f9aefd0a5b",
       "version_major": 2,
       "version_minor": 0
      },
      "text/plain": [
       "HBox(children=(IntProgress(value=1, bar_style='info', max=1), HTML(value='')))"
      ]
     },
     "metadata": {},
     "output_type": "display_data"
    },
    {
     "data": {
      "application/vnd.jupyter.widget-view+json": {
       "model_id": "7d29d2a178ae48a5a79eba34bd514800",
       "version_major": 2,
       "version_minor": 0
      },
      "text/plain": [
       "HBox(children=(IntProgress(value=1, bar_style='info', max=1), HTML(value='')))"
      ]
     },
     "metadata": {},
     "output_type": "display_data"
    },
    {
     "data": {
      "application/vnd.jupyter.widget-view+json": {
       "model_id": "6341fa696d1646dba5b0d7a6d782ae47",
       "version_major": 2,
       "version_minor": 0
      },
      "text/plain": [
       "HBox(children=(IntProgress(value=1, bar_style='info', max=1), HTML(value='')))"
      ]
     },
     "metadata": {},
     "output_type": "display_data"
    },
    {
     "data": {
      "application/vnd.jupyter.widget-view+json": {
       "model_id": "56dedcdf04bf4d729a3f5e4eafa8a610",
       "version_major": 2,
       "version_minor": 0
      },
      "text/plain": [
       "HBox(children=(IntProgress(value=1, bar_style='info', max=1), HTML(value='')))"
      ]
     },
     "metadata": {},
     "output_type": "display_data"
    },
    {
     "data": {
      "application/vnd.jupyter.widget-view+json": {
       "model_id": "563f43d3b4394c85bf926e6b5a4f7828",
       "version_major": 2,
       "version_minor": 0
      },
      "text/plain": [
       "HBox(children=(IntProgress(value=1, bar_style='info', max=1), HTML(value='')))"
      ]
     },
     "metadata": {},
     "output_type": "display_data"
    },
    {
     "data": {
      "application/vnd.jupyter.widget-view+json": {
       "model_id": "550a6c2368ee4dce81c6e58ca2b7d2b7",
       "version_major": 2,
       "version_minor": 0
      },
      "text/plain": [
       "HBox(children=(IntProgress(value=1, bar_style='info', max=1), HTML(value='')))"
      ]
     },
     "metadata": {},
     "output_type": "display_data"
    },
    {
     "data": {
      "application/vnd.jupyter.widget-view+json": {
       "model_id": "d24f9cf4f3bc4732a2009f7c5ab61c52",
       "version_major": 2,
       "version_minor": 0
      },
      "text/plain": [
       "HBox(children=(IntProgress(value=1, bar_style='info', max=1), HTML(value='')))"
      ]
     },
     "metadata": {},
     "output_type": "display_data"
    },
    {
     "data": {
      "application/vnd.jupyter.widget-view+json": {
       "model_id": "bb5a816a78734295b7ec87813d1275b8",
       "version_major": 2,
       "version_minor": 0
      },
      "text/plain": [
       "HBox(children=(IntProgress(value=1, bar_style='info', max=1), HTML(value='')))"
      ]
     },
     "metadata": {},
     "output_type": "display_data"
    },
    {
     "data": {
      "application/vnd.jupyter.widget-view+json": {
       "model_id": "30dd53141a6d4f41afac370a35bc9bc9",
       "version_major": 2,
       "version_minor": 0
      },
      "text/plain": [
       "HBox(children=(IntProgress(value=1, bar_style='info', max=1), HTML(value='')))"
      ]
     },
     "metadata": {},
     "output_type": "display_data"
    },
    {
     "data": {
      "application/vnd.jupyter.widget-view+json": {
       "model_id": "2fc61941e89e433d92d502bcfbabd8d8",
       "version_major": 2,
       "version_minor": 0
      },
      "text/plain": [
       "HBox(children=(IntProgress(value=1, bar_style='info', max=1), HTML(value='')))"
      ]
     },
     "metadata": {},
     "output_type": "display_data"
    },
    {
     "data": {
      "application/vnd.jupyter.widget-view+json": {
       "model_id": "b3d3c24e17ca42b69dec5ba5a8221d20",
       "version_major": 2,
       "version_minor": 0
      },
      "text/plain": [
       "HBox(children=(IntProgress(value=1, bar_style='info', max=1), HTML(value='')))"
      ]
     },
     "metadata": {},
     "output_type": "display_data"
    },
    {
     "data": {
      "application/vnd.jupyter.widget-view+json": {
       "model_id": "0e888555cc5a4e2394f6007254423e12",
       "version_major": 2,
       "version_minor": 0
      },
      "text/plain": [
       "HBox(children=(IntProgress(value=1, bar_style='info', max=1), HTML(value='')))"
      ]
     },
     "metadata": {},
     "output_type": "display_data"
    },
    {
     "data": {
      "application/vnd.jupyter.widget-view+json": {
       "model_id": "02b8b04000884b399751f7a8a0fcb0c2",
       "version_major": 2,
       "version_minor": 0
      },
      "text/plain": [
       "HBox(children=(IntProgress(value=1, bar_style='info', max=1), HTML(value='')))"
      ]
     },
     "metadata": {},
     "output_type": "display_data"
    },
    {
     "data": {
      "application/vnd.jupyter.widget-view+json": {
       "model_id": "6336c34e83674dbbac1b1c8201fe82a6",
       "version_major": 2,
       "version_minor": 0
      },
      "text/plain": [
       "HBox(children=(IntProgress(value=1, bar_style='info', max=1), HTML(value='')))"
      ]
     },
     "metadata": {},
     "output_type": "display_data"
    },
    {
     "data": {
      "application/vnd.jupyter.widget-view+json": {
       "model_id": "03aebcde8f774c79b3a44152de4fb0b0",
       "version_major": 2,
       "version_minor": 0
      },
      "text/plain": [
       "HBox(children=(IntProgress(value=1, bar_style='info', max=1), HTML(value='')))"
      ]
     },
     "metadata": {},
     "output_type": "display_data"
    },
    {
     "data": {
      "application/vnd.jupyter.widget-view+json": {
       "model_id": "c85f24d81b76499181e81cf100e37e55",
       "version_major": 2,
       "version_minor": 0
      },
      "text/plain": [
       "HBox(children=(IntProgress(value=1, bar_style='info', max=1), HTML(value='')))"
      ]
     },
     "metadata": {},
     "output_type": "display_data"
    },
    {
     "data": {
      "application/vnd.jupyter.widget-view+json": {
       "model_id": "2df0696471d24f61b7f1cae118b03f92",
       "version_major": 2,
       "version_minor": 0
      },
      "text/plain": [
       "HBox(children=(IntProgress(value=1, bar_style='info', max=1), HTML(value='')))"
      ]
     },
     "metadata": {},
     "output_type": "display_data"
    },
    {
     "data": {
      "application/vnd.jupyter.widget-view+json": {
       "model_id": "01ad1df4c93c4f7185f65f87a1fd8474",
       "version_major": 2,
       "version_minor": 0
      },
      "text/plain": [
       "HBox(children=(IntProgress(value=1, bar_style='info', max=1), HTML(value='')))"
      ]
     },
     "metadata": {},
     "output_type": "display_data"
    },
    {
     "data": {
      "application/vnd.jupyter.widget-view+json": {
       "model_id": "a8184b2a929143a5b41b4cd595747879",
       "version_major": 2,
       "version_minor": 0
      },
      "text/plain": [
       "HBox(children=(IntProgress(value=1, bar_style='info', max=1), HTML(value='')))"
      ]
     },
     "metadata": {},
     "output_type": "display_data"
    },
    {
     "data": {
      "application/vnd.jupyter.widget-view+json": {
       "model_id": "9580e0c169e741ac8d882fef0b5cb50c",
       "version_major": 2,
       "version_minor": 0
      },
      "text/plain": [
       "HBox(children=(IntProgress(value=1, bar_style='info', max=1), HTML(value='')))"
      ]
     },
     "metadata": {},
     "output_type": "display_data"
    },
    {
     "data": {
      "application/vnd.jupyter.widget-view+json": {
       "model_id": "6aad30c96b694b0fb0e81341c9f666bb",
       "version_major": 2,
       "version_minor": 0
      },
      "text/plain": [
       "HBox(children=(IntProgress(value=1, bar_style='info', max=1), HTML(value='')))"
      ]
     },
     "metadata": {},
     "output_type": "display_data"
    },
    {
     "data": {
      "application/vnd.jupyter.widget-view+json": {
       "model_id": "ab104d69a8d94bd2b50c24a16a29d6e7",
       "version_major": 2,
       "version_minor": 0
      },
      "text/plain": [
       "HBox(children=(IntProgress(value=1, bar_style='info', max=1), HTML(value='')))"
      ]
     },
     "metadata": {},
     "output_type": "display_data"
    },
    {
     "data": {
      "application/vnd.jupyter.widget-view+json": {
       "model_id": "038e653c204c499fab423e9ee2dfce12",
       "version_major": 2,
       "version_minor": 0
      },
      "text/plain": [
       "HBox(children=(IntProgress(value=1, bar_style='info', max=1), HTML(value='')))"
      ]
     },
     "metadata": {},
     "output_type": "display_data"
    },
    {
     "data": {
      "application/vnd.jupyter.widget-view+json": {
       "model_id": "9324421c98914ae88eb5b03f12af25f1",
       "version_major": 2,
       "version_minor": 0
      },
      "text/plain": [
       "HBox(children=(IntProgress(value=1, bar_style='info', max=1), HTML(value='')))"
      ]
     },
     "metadata": {},
     "output_type": "display_data"
    },
    {
     "data": {
      "application/vnd.jupyter.widget-view+json": {
       "model_id": "4ab2b8daa2044440a092236df52c052b",
       "version_major": 2,
       "version_minor": 0
      },
      "text/plain": [
       "HBox(children=(IntProgress(value=1, bar_style='info', max=1), HTML(value='')))"
      ]
     },
     "metadata": {},
     "output_type": "display_data"
    },
    {
     "data": {
      "application/vnd.jupyter.widget-view+json": {
       "model_id": "f079c0bac77a4f35bcd583559ca4dcf7",
       "version_major": 2,
       "version_minor": 0
      },
      "text/plain": [
       "HBox(children=(IntProgress(value=1, bar_style='info', max=1), HTML(value='')))"
      ]
     },
     "metadata": {},
     "output_type": "display_data"
    },
    {
     "data": {
      "application/vnd.jupyter.widget-view+json": {
       "model_id": "927f9d4c46ff477ea021ea8e60b73b69",
       "version_major": 2,
       "version_minor": 0
      },
      "text/plain": [
       "HBox(children=(IntProgress(value=1, bar_style='info', max=1), HTML(value='')))"
      ]
     },
     "metadata": {},
     "output_type": "display_data"
    },
    {
     "data": {
      "application/vnd.jupyter.widget-view+json": {
       "model_id": "b615677b36a040c7a40b17869b4b80b8",
       "version_major": 2,
       "version_minor": 0
      },
      "text/plain": [
       "HBox(children=(IntProgress(value=1, bar_style='info', max=1), HTML(value='')))"
      ]
     },
     "metadata": {},
     "output_type": "display_data"
    },
    {
     "data": {
      "application/vnd.jupyter.widget-view+json": {
       "model_id": "5ac918dc43cf4d88909a74e94c143fa8",
       "version_major": 2,
       "version_minor": 0
      },
      "text/plain": [
       "HBox(children=(IntProgress(value=1, bar_style='info', max=1), HTML(value='')))"
      ]
     },
     "metadata": {},
     "output_type": "display_data"
    },
    {
     "data": {
      "application/vnd.jupyter.widget-view+json": {
       "model_id": "826ef2e172504a7db8320632f170630a",
       "version_major": 2,
       "version_minor": 0
      },
      "text/plain": [
       "HBox(children=(IntProgress(value=1, bar_style='info', max=1), HTML(value='')))"
      ]
     },
     "metadata": {},
     "output_type": "display_data"
    },
    {
     "data": {
      "application/vnd.jupyter.widget-view+json": {
       "model_id": "2fdfe737202547a1b90b0198746d293c",
       "version_major": 2,
       "version_minor": 0
      },
      "text/plain": [
       "HBox(children=(IntProgress(value=1, bar_style='info', max=1), HTML(value='')))"
      ]
     },
     "metadata": {},
     "output_type": "display_data"
    },
    {
     "data": {
      "application/vnd.jupyter.widget-view+json": {
       "model_id": "b765e224ca5943039a026e35702385e0",
       "version_major": 2,
       "version_minor": 0
      },
      "text/plain": [
       "HBox(children=(IntProgress(value=1, bar_style='info', max=1), HTML(value='')))"
      ]
     },
     "metadata": {},
     "output_type": "display_data"
    },
    {
     "data": {
      "application/vnd.jupyter.widget-view+json": {
       "model_id": "f2dbc49febaf487daf383817ece39a70",
       "version_major": 2,
       "version_minor": 0
      },
      "text/plain": [
       "HBox(children=(IntProgress(value=1, bar_style='info', max=1), HTML(value='')))"
      ]
     },
     "metadata": {},
     "output_type": "display_data"
    },
    {
     "data": {
      "application/vnd.jupyter.widget-view+json": {
       "model_id": "540b1e977a75458f8bff95ea00c7c426",
       "version_major": 2,
       "version_minor": 0
      },
      "text/plain": [
       "HBox(children=(IntProgress(value=1, bar_style='info', max=1), HTML(value='')))"
      ]
     },
     "metadata": {},
     "output_type": "display_data"
    },
    {
     "data": {
      "application/vnd.jupyter.widget-view+json": {
       "model_id": "b436169595b440efbb2036416b842792",
       "version_major": 2,
       "version_minor": 0
      },
      "text/plain": [
       "HBox(children=(IntProgress(value=1, bar_style='info', max=1), HTML(value='')))"
      ]
     },
     "metadata": {},
     "output_type": "display_data"
    },
    {
     "data": {
      "application/vnd.jupyter.widget-view+json": {
       "model_id": "1644b2e4aa40436a99fcbb0b5a2bba4c",
       "version_major": 2,
       "version_minor": 0
      },
      "text/plain": [
       "HBox(children=(IntProgress(value=1, bar_style='info', max=1), HTML(value='')))"
      ]
     },
     "metadata": {},
     "output_type": "display_data"
    },
    {
     "data": {
      "application/vnd.jupyter.widget-view+json": {
       "model_id": "d289e8e4ee9e447597dde8eef0e2657c",
       "version_major": 2,
       "version_minor": 0
      },
      "text/plain": [
       "HBox(children=(IntProgress(value=1, bar_style='info', max=1), HTML(value='')))"
      ]
     },
     "metadata": {},
     "output_type": "display_data"
    },
    {
     "data": {
      "application/vnd.jupyter.widget-view+json": {
       "model_id": "a3f73a5271cb44bc9d5af64f51b50b7e",
       "version_major": 2,
       "version_minor": 0
      },
      "text/plain": [
       "HBox(children=(IntProgress(value=1, bar_style='info', max=1), HTML(value='')))"
      ]
     },
     "metadata": {},
     "output_type": "display_data"
    },
    {
     "data": {
      "application/vnd.jupyter.widget-view+json": {
       "model_id": "63fe1db1cc1541b2ac431cd07d0da40a",
       "version_major": 2,
       "version_minor": 0
      },
      "text/plain": [
       "HBox(children=(IntProgress(value=1, bar_style='info', max=1), HTML(value='')))"
      ]
     },
     "metadata": {},
     "output_type": "display_data"
    },
    {
     "data": {
      "application/vnd.jupyter.widget-view+json": {
       "model_id": "60ac1234df3e4cf9a3dcd61e500ddfc2",
       "version_major": 2,
       "version_minor": 0
      },
      "text/plain": [
       "HBox(children=(IntProgress(value=1, bar_style='info', max=1), HTML(value='')))"
      ]
     },
     "metadata": {},
     "output_type": "display_data"
    },
    {
     "data": {
      "application/vnd.jupyter.widget-view+json": {
       "model_id": "f92e215ab9ac448989108918012c5cad",
       "version_major": 2,
       "version_minor": 0
      },
      "text/plain": [
       "HBox(children=(IntProgress(value=1, bar_style='info', max=1), HTML(value='')))"
      ]
     },
     "metadata": {},
     "output_type": "display_data"
    },
    {
     "data": {
      "application/vnd.jupyter.widget-view+json": {
       "model_id": "795368534e7345af815ca740afebc525",
       "version_major": 2,
       "version_minor": 0
      },
      "text/plain": [
       "HBox(children=(IntProgress(value=1, bar_style='info', max=1), HTML(value='')))"
      ]
     },
     "metadata": {},
     "output_type": "display_data"
    },
    {
     "data": {
      "application/vnd.jupyter.widget-view+json": {
       "model_id": "7e08d95198584d14917301f5e8b415fe",
       "version_major": 2,
       "version_minor": 0
      },
      "text/plain": [
       "HBox(children=(IntProgress(value=1, bar_style='info', max=1), HTML(value='')))"
      ]
     },
     "metadata": {},
     "output_type": "display_data"
    },
    {
     "data": {
      "application/vnd.jupyter.widget-view+json": {
       "model_id": "c07a1095c67e4fdfaed8338c60a5cbab",
       "version_major": 2,
       "version_minor": 0
      },
      "text/plain": [
       "HBox(children=(IntProgress(value=1, bar_style='info', max=1), HTML(value='')))"
      ]
     },
     "metadata": {},
     "output_type": "display_data"
    },
    {
     "data": {
      "application/vnd.jupyter.widget-view+json": {
       "model_id": "8a23ccdabfd94209b3ba67dcbbcae2a6",
       "version_major": 2,
       "version_minor": 0
      },
      "text/plain": [
       "HBox(children=(IntProgress(value=1, bar_style='info', max=1), HTML(value='')))"
      ]
     },
     "metadata": {},
     "output_type": "display_data"
    },
    {
     "name": "stdout",
     "output_type": "stream",
     "text": [
      "\n"
     ]
    }
   ],
   "source": [
    "same_listList = []\n",
    "for tbd, img_tbd in tqdm(zip(tbd_list, img_tbd_list)):\n",
    "    same_list = []\n",
    "    prob_list = []\n",
    "    img_tbd = np.expand_dims(img_tbd, 0)\n",
    "    for pid, img_pid_list in tqdm(zip(pid_list, img_pid_listList)):\n",
    "        Len = len(img_pid_list)\n",
    "        same = 0\n",
    "        for img_pid in img_pid_list:\n",
    "            img_pid = np.expand_dims(img_pid, 0)\n",
    "            result = model.predict([img_tbd, img_pid]).argmax()\n",
    "            if result == 0:\n",
    "                same += 1\n",
    "        prob = same / Len\n",
    "        same_list.append((pid, prob))\n",
    "    same_list.sort(key=lambda x: x[1], reverse =True)\n",
    "    same_listList.append(same_list)"
   ]
  },
  {
   "cell_type": "code",
   "execution_count": 58,
   "metadata": {},
   "outputs": [
    {
     "data": {
      "text/plain": [
       "0.4533333333333333"
      ]
     },
     "execution_count": 58,
     "metadata": {},
     "output_type": "execute_result"
    }
   ],
   "source": [
    "acc = 0\n",
    "for i in range(150):\n",
    "    if same_listList[i] == []:\n",
    "        continue\n",
    "    #print(tbd_list[i], same_listList[i][0], df_ans.loc[int(tbd_list[i])-1, 'pid'])\n",
    "    if int(same_listList[i][0][0]) == int(df_ans.loc[int(tbd_list[i])-1, 'pid']):\n",
    "        acc += 1\n",
    "acc / 150"
   ]
  },
  {
   "cell_type": "code",
   "execution_count": 57,
   "metadata": {
    "collapsed": true
   },
   "outputs": [],
   "source": [
    "same_listList2 = []\n",
    "for lis in same_listList:\n",
    "    same_listList2.append(lis[:7])"
   ]
  },
  {
   "cell_type": "code",
   "execution_count": 61,
   "metadata": {},
   "outputs": [
    {
     "data": {
      "text/plain": [
       "[[('5332', 0.9777777777777777),\n",
       "  ('5823', 0.7272727272727273),\n",
       "  ('3786', 0.17647058823529413),\n",
       "  ('2829', 0.04),\n",
       "  ('5387', 0.03278688524590164),\n",
       "  ('54', 0.020833333333333332),\n",
       "  ('3954', 0.0)],\n",
       " [('2375', 0.94),\n",
       "  ('1819', 0.8518518518518519),\n",
       "  ('3932', 0.7878787878787878),\n",
       "  ('4509', 0.5),\n",
       "  ('3002', 0.2972972972972973),\n",
       "  ('1656', 0.24),\n",
       "  ('6108', 0.2222222222222222)],\n",
       " [('3934', 0.4),\n",
       "  ('4979', 0.12),\n",
       "  ('688', 0.041666666666666664),\n",
       "  ('3297', 0.038461538461538464),\n",
       "  ('5388', 0.034482758620689655),\n",
       "  ('5139', 0.029411764705882353),\n",
       "  ('3237', 0.02857142857142857)],\n",
       " [('2506', 0.8235294117647058),\n",
       "  ('5312', 0.7659574468085106),\n",
       "  ('4935', 0.5535714285714286),\n",
       "  ('5121', 0.2878787878787879),\n",
       "  ('5307', 0.2857142857142857),\n",
       "  ('4534', 0.22727272727272727),\n",
       "  ('1982', 0.14634146341463414)],\n",
       " [('2263', 0.9629629629629629),\n",
       "  ('3108', 0.20588235294117646),\n",
       "  ('3677', 0.05),\n",
       "  ('4358', 0.046511627906976744),\n",
       "  ('3692', 0.030303030303030304),\n",
       "  ('75', 0.029411764705882353),\n",
       "  ('576', 0.029411764705882353)],\n",
       " [('5419', 0.3125),\n",
       "  ('1293', 0.20238095238095238),\n",
       "  ('2147', 0.1875),\n",
       "  ('1087', 0.12),\n",
       "  ('808', 0.09090909090909091),\n",
       "  ('1650', 0.07142857142857142),\n",
       "  ('8', 0.06976744186046512)],\n",
       " [('4935', 0.5357142857142857),\n",
       "  ('4780', 0.5135135135135135),\n",
       "  ('440', 0.47368421052631576),\n",
       "  ('5419', 0.3958333333333333),\n",
       "  ('2506', 0.35294117647058826),\n",
       "  ('73', 0.3181818181818182),\n",
       "  ('1671', 0.2826086956521739)],\n",
       " [('693', 0.7333333333333333),\n",
       "  ('4489', 0.4074074074074074),\n",
       "  ('3920', 0.08163265306122448),\n",
       "  ('5521', 0.0784313725490196),\n",
       "  ('5730', 0.047619047619047616),\n",
       "  ('2610', 0.043478260869565216),\n",
       "  ('5279', 0.038461538461538464)],\n",
       " [('1650', 1.0),\n",
       "  ('3472', 0.4074074074074074),\n",
       "  ('2397', 0.30612244897959184),\n",
       "  ('2835', 0.26666666666666666),\n",
       "  ('5419', 0.21875),\n",
       "  ('2998', 0.175),\n",
       "  ('3954', 0.125)],\n",
       " [('2669', 1.0),\n",
       "  ('4580', 0.3333333333333333),\n",
       "  ('1040', 0.3137254901960784),\n",
       "  ('5419', 0.21875),\n",
       "  ('4206', 0.1951219512195122),\n",
       "  ('3297', 0.07692307692307693),\n",
       "  ('3472', 0.07407407407407407)],\n",
       " [('4472', 0.9736842105263158),\n",
       "  ('5898', 0.3670886075949367),\n",
       "  ('3504', 0.09333333333333334),\n",
       "  ('2298', 0.06060606060606061),\n",
       "  ('3099', 0.06),\n",
       "  ('3954', 0.0),\n",
       "  ('3365', 0.0)],\n",
       " [('4885', 0.3),\n",
       "  ('2147', 0.125),\n",
       "  ('1087', 0.12),\n",
       "  ('3253', 0.041666666666666664),\n",
       "  ('2829', 0.04),\n",
       "  ('223', 0.04),\n",
       "  ('4887', 0.04)],\n",
       " [('3002', 0.6756756756756757),\n",
       "  ('29', 0.21739130434782608),\n",
       "  ('3504', 0.21333333333333335),\n",
       "  ('576', 0.08823529411764706),\n",
       "  ('99', 0.07317073170731707),\n",
       "  ('3932', 0.06060606060606061),\n",
       "  ('4887', 0.06)],\n",
       " [('808', 0.8636363636363636),\n",
       "  ('3954', 0.7916666666666666),\n",
       "  ('5388', 0.7241379310344828),\n",
       "  ('73', 0.5454545454545454),\n",
       "  ('1293', 0.4880952380952381),\n",
       "  ('1358', 0.425),\n",
       "  ('4780', 0.4189189189189189)],\n",
       " [('1040', 0.9803921568627451),\n",
       "  ('2397', 0.9387755102040817),\n",
       "  ('196', 0.8571428571428571),\n",
       "  ('4019', 0.8536585365853658),\n",
       "  ('499', 0.717391304347826),\n",
       "  ('2263', 0.6666666666666666),\n",
       "  ('3692', 0.5151515151515151)],\n",
       " [('4444', 1.0),\n",
       "  ('4979', 0.48),\n",
       "  ('3297', 0.09615384615384616),\n",
       "  ('553', 0.0196078431372549),\n",
       "  ('1040', 0.0196078431372549),\n",
       "  ('3954', 0.0),\n",
       "  ('3365', 0.0)],\n",
       " [('5823', 0.8181818181818182),\n",
       "  ('4131', 0.09090909090909091),\n",
       "  ('2829', 0.04),\n",
       "  ('369', 0.03333333333333333),\n",
       "  ('5419', 0.010416666666666666),\n",
       "  ('3954', 0.0),\n",
       "  ('3365', 0.0)],\n",
       " [('341', 0.9615384615384616),\n",
       "  ('1982', 0.8536585365853658),\n",
       "  ('1244', 0.42857142857142855),\n",
       "  ('1293', 0.39285714285714285),\n",
       "  ('2451', 0.20512820512820512),\n",
       "  ('5419', 0.1875),\n",
       "  ('1613', 0.1702127659574468)],\n",
       " [('4509', 0.9333333333333333),\n",
       "  ('1819', 0.6666666666666666),\n",
       "  ('2375', 0.58),\n",
       "  ('5368', 0.5),\n",
       "  ('196', 0.47619047619047616),\n",
       "  ('1656', 0.24),\n",
       "  ('6108', 0.1111111111111111)],\n",
       " [('1244', 0.3142857142857143),\n",
       "  ('341', 0.28846153846153844),\n",
       "  ('5898', 0.21518987341772153),\n",
       "  ('1613', 0.2127659574468085),\n",
       "  ('1393', 0.14285714285714285),\n",
       "  ('2451', 0.10256410256410256),\n",
       "  ('4887', 0.08)],\n",
       " [('1323', 0.9130434782608695),\n",
       "  ('3835', 0.7647058823529411),\n",
       "  ('2188', 0.7073170731707317),\n",
       "  ('499', 0.43478260869565216),\n",
       "  ('5730', 0.38095238095238093),\n",
       "  ('4019', 0.2926829268292683),\n",
       "  ('2375', 0.28)],\n",
       " [('5711', 0.43478260869565216),\n",
       "  ('4764', 0.39285714285714285),\n",
       "  ('4580', 0.2777777777777778),\n",
       "  ('3237', 0.22857142857142856),\n",
       "  ('4534', 0.22727272727272727),\n",
       "  ('2506', 0.20588235294117646),\n",
       "  ('223', 0.16)],\n",
       " [('341', 0.7884615384615384),\n",
       "  ('1244', 0.6571428571428571),\n",
       "  ('2610', 0.391304347826087),\n",
       "  ('5419', 0.10416666666666667),\n",
       "  ('1982', 0.0975609756097561),\n",
       "  ('3237', 0.05714285714285714),\n",
       "  ('5332', 0.022222222222222223)],\n",
       " [('3920', 1.0),\n",
       "  ('1656', 0.1),\n",
       "  ('576', 0.08823529411764706),\n",
       "  ('2397', 0.04081632653061224),\n",
       "  ('5315', 0.03571428571428571),\n",
       "  ('3002', 0.02702702702702703),\n",
       "  ('693', 0.022222222222222223)],\n",
       " [('5315', 0.6785714285714286),\n",
       "  ('29', 0.06521739130434782),\n",
       "  ('3920', 0.061224489795918366),\n",
       "  ('4887', 0.06),\n",
       "  ('3504', 0.05333333333333334),\n",
       "  ('1323', 0.043478260869565216),\n",
       "  ('576', 0.029411764705882353)],\n",
       " [('3932', 1.0),\n",
       "  ('99', 0.24390243902439024),\n",
       "  ('331', 0.19047619047619047),\n",
       "  ('3504', 0.17333333333333334),\n",
       "  ('2375', 0.16),\n",
       "  ('576', 0.14705882352941177),\n",
       "  ('259', 0.13333333333333333)],\n",
       " [('2298', 1.0),\n",
       "  ('3099', 0.08),\n",
       "  ('3504', 0.06666666666666667),\n",
       "  ('29', 0.06521739130434782),\n",
       "  ('4887', 0.02),\n",
       "  ('3954', 0.0),\n",
       "  ('3365', 0.0)],\n",
       " [('935', 0.9047619047619048),\n",
       "  ('2458', 0.7457627118644068),\n",
       "  ('693', 0.5333333333333333),\n",
       "  ('3853', 0.5111111111111111),\n",
       "  ('5730', 0.3333333333333333),\n",
       "  ('31', 0.21621621621621623),\n",
       "  ('1323', 0.13043478260869565)],\n",
       " [('889', 1.0),\n",
       "  ('553', 0.3137254901960784),\n",
       "  ('4829', 0.2608695652173913),\n",
       "  ('1157', 0.2261904761904762),\n",
       "  ('4811', 0.1794871794871795),\n",
       "  ('3108', 0.11764705882352941),\n",
       "  ('4019', 0.07317073170731707)],\n",
       " [('1613', 0.9574468085106383),\n",
       "  ('1293', 0.7976190476190477),\n",
       "  ('5288', 0.5932203389830508),\n",
       "  ('5121', 0.4090909090909091),\n",
       "  ('5898', 0.3037974683544304),\n",
       "  ('106', 0.22448979591836735),\n",
       "  ('4472', 0.15789473684210525)],\n",
       " [('259', 1.0),\n",
       "  ('576', 0.7058823529411765),\n",
       "  ('3002', 0.5135135135135135),\n",
       "  ('331', 0.47619047619047616),\n",
       "  ('3504', 0.36),\n",
       "  ('1656', 0.26),\n",
       "  ('29', 0.06521739130434782)],\n",
       " [('5898', 0.8860759493670886),\n",
       "  ('3504', 0.7866666666666666),\n",
       "  ('787', 0.75),\n",
       "  ('4472', 0.7105263157894737),\n",
       "  ('331', 0.6190476190476191),\n",
       "  ('259', 0.4888888888888889),\n",
       "  ('576', 0.4117647058823529)],\n",
       " [('99', 0.4878048780487805),\n",
       "  ('5474', 0.17142857142857143),\n",
       "  ('787', 0.03571428571428571),\n",
       "  ('3954', 0.0),\n",
       "  ('3365', 0.0),\n",
       "  ('331', 0.0),\n",
       "  ('5898', 0.0)],\n",
       " [('808', 0.8636363636363636),\n",
       "  ('3677', 0.75),\n",
       "  ('5759', 0.6666666666666666),\n",
       "  ('3714', 0.5714285714285714),\n",
       "  ('3954', 0.5),\n",
       "  ('4358', 0.20930232558139536),\n",
       "  ('4811', 0.1794871794871795)],\n",
       " [('157', 0.7924528301886793),\n",
       "  ('184', 0.11627906976744186),\n",
       "  ('2506', 0.08823529411764706),\n",
       "  ('3934', 0.06153846153846154),\n",
       "  ('5307', 0.047619047619047616),\n",
       "  ('5711', 0.043478260869565216),\n",
       "  ('5312', 0.0425531914893617)],\n",
       " [('5575', 0.4418604651162791),\n",
       "  ('4811', 0.38461538461538464),\n",
       "  ('29', 0.32608695652173914),\n",
       "  ('2867', 0.2978723404255319),\n",
       "  ('99', 0.24390243902439024),\n",
       "  ('1323', 0.21739130434782608),\n",
       "  ('5419', 0.11458333333333333)],\n",
       " [('369', 0.8),\n",
       "  ('4534', 0.4090909090909091),\n",
       "  ('4780', 0.12162162162162163),\n",
       "  ('2506', 0.11764705882352941),\n",
       "  ('4472', 0.10526315789473684),\n",
       "  ('1113', 0.10344827586206896),\n",
       "  ('5711', 0.08695652173913043)],\n",
       " [('5730', 0.8571428571428571),\n",
       "  ('106', 0.5714285714285714),\n",
       "  ('3835', 0.35294117647058826),\n",
       "  ('693', 0.26666666666666666),\n",
       "  ('5139', 0.14705882352941177),\n",
       "  ('4489', 0.07407407407407407),\n",
       "  ('1087', 0.04)],\n",
       " [('6095', 0.8918918918918919),\n",
       "  ('214', 0.8717948717948718),\n",
       "  ('791', 0.7391304347826086),\n",
       "  ('72', 0.6071428571428571),\n",
       "  ('1213', 0.5806451612903226),\n",
       "  ('3099', 0.3),\n",
       "  ('6080', 0.3)],\n",
       " [('5278', 0.5128205128205128),\n",
       "  ('3677', 0.25),\n",
       "  ('2998', 0.1),\n",
       "  ('5307', 0.047619047619047616),\n",
       "  ('3472', 0.037037037037037035),\n",
       "  ('5121', 0.030303030303030304),\n",
       "  ('5139', 0.029411764705882353)],\n",
       " [('4472', 0.47368421052631576),\n",
       "  ('2867', 0.46808510638297873),\n",
       "  ('1613', 0.3829787234042553),\n",
       "  ('5419', 0.3125),\n",
       "  ('5898', 0.3037974683544304),\n",
       "  ('3002', 0.24324324324324326),\n",
       "  ('1293', 0.21428571428571427)],\n",
       " [('4131', 0.9696969696969697),\n",
       "  ('54', 0.9583333333333334),\n",
       "  ('3253', 0.875),\n",
       "  ('5823', 0.5909090909090909),\n",
       "  ('3786', 0.45098039215686275),\n",
       "  ('2829', 0.4),\n",
       "  ('935', 0.38095238095238093)],\n",
       " [('4789', 0.5333333333333333),\n",
       "  ('3237', 0.4),\n",
       "  ('5139', 0.20588235294117646),\n",
       "  ('5419', 0.09375),\n",
       "  ('3853', 0.08888888888888889),\n",
       "  ('693', 0.06666666666666667),\n",
       "  ('1656', 0.04)],\n",
       " [('1358', 0.95),\n",
       "  ('808', 0.6363636363636364),\n",
       "  ('3954', 0.5),\n",
       "  ('5419', 0.4375),\n",
       "  ('5711', 0.34782608695652173),\n",
       "  ('5759', 0.3333333333333333),\n",
       "  ('3894', 0.3023255813953488)],\n",
       " [('72', 1.0),\n",
       "  ('4764', 0.8214285714285714),\n",
       "  ('223', 0.68),\n",
       "  ('174', 0.22727272727272727),\n",
       "  ('4829', 0.13043478260869565),\n",
       "  ('1661', 0.125),\n",
       "  ('4614', 0.10810810810810811)],\n",
       " [('3002', 0.6486486486486487),\n",
       "  ('5419', 0.5104166666666666),\n",
       "  ('4627', 0.38461538461538464),\n",
       "  ('3504', 0.32),\n",
       "  ('5121', 0.3181818181818182),\n",
       "  ('2392', 0.2692307692307692),\n",
       "  ('4780', 0.25675675675675674)],\n",
       " [('4829', 0.7391304347826086),\n",
       "  ('4614', 0.2972972972972973),\n",
       "  ('214', 0.28205128205128205),\n",
       "  ('1860', 0.2631578947368421),\n",
       "  ('6095', 0.1891891891891892),\n",
       "  ('174', 0.13636363636363635),\n",
       "  ('29', 0.08695652173913043)],\n",
       " [('2998', 0.5),\n",
       "  ('3692', 0.48484848484848486),\n",
       "  ('1650', 0.14285714285714285),\n",
       "  ('2397', 0.061224489795918366),\n",
       "  ('5278', 0.05128205128205128),\n",
       "  ('360', 0.02857142857142857),\n",
       "  ('4887', 0.02)],\n",
       " [('808', 0.9090909090909091),\n",
       "  ('3954', 0.875),\n",
       "  ('688', 0.625),\n",
       "  ('5711', 0.6086956521739131),\n",
       "  ('3894', 0.4418604651162791),\n",
       "  ('5121', 0.4090909090909091),\n",
       "  ('1358', 0.4)],\n",
       " [('11', 0.631578947368421),\n",
       "  ('1175', 0.4),\n",
       "  ('5419', 0.25),\n",
       "  ('3365', 0.22916666666666666),\n",
       "  ('935', 0.14285714285714285),\n",
       "  ('3307', 0.13333333333333333),\n",
       "  ('4131', 0.06060606060606061)],\n",
       " [('3099', 0.4),\n",
       "  ('4444', 0.19047619047619047),\n",
       "  ('3108', 0.17647058823529413),\n",
       "  ('4811', 0.1282051282051282),\n",
       "  ('4979', 0.08),\n",
       "  ('4887', 0.08),\n",
       "  ('4927', 0.07142857142857142)],\n",
       " [('214', 0.6923076923076923),\n",
       "  ('1087', 0.28),\n",
       "  ('4614', 0.24324324324324326),\n",
       "  ('791', 0.21739130434782608),\n",
       "  ('4885', 0.2),\n",
       "  ('6095', 0.1891891891891892),\n",
       "  ('1323', 0.13043478260869565)],\n",
       " [('72', 1.0),\n",
       "  ('214', 0.717948717948718),\n",
       "  ('4764', 0.5357142857142857),\n",
       "  ('6080', 0.3),\n",
       "  ('791', 0.2826086956521739),\n",
       "  ('1661', 0.21875),\n",
       "  ('6095', 0.21621621621621623)],\n",
       " [('5419', 0.8020833333333334),\n",
       "  ('5711', 0.5652173913043478),\n",
       "  ('3237', 0.4857142857142857),\n",
       "  ('3297', 0.40384615384615385),\n",
       "  ('4935', 0.3392857142857143),\n",
       "  ('4780', 0.33783783783783783),\n",
       "  ('5012', 0.2857142857142857)],\n",
       " [('1661', 0.6875),\n",
       "  ('688', 0.6666666666666666),\n",
       "  ('4789', 0.6),\n",
       "  ('4580', 0.5),\n",
       "  ('4534', 0.45454545454545453),\n",
       "  ('3894', 0.4418604651162791),\n",
       "  ('553', 0.27450980392156865)],\n",
       " [('259', 0.6888888888888889),\n",
       "  ('331', 0.5238095238095238),\n",
       "  ('3504', 0.24),\n",
       "  ('5419', 0.17708333333333334),\n",
       "  ('29', 0.15217391304347827),\n",
       "  ('99', 0.07317073170731707),\n",
       "  ('4887', 0.06)],\n",
       " [('4547', 0.6590909090909091),\n",
       "  ('5730', 0.5714285714285714),\n",
       "  ('3835', 0.5294117647058824),\n",
       "  ('2375', 0.36),\n",
       "  ('693', 0.26666666666666666),\n",
       "  ('3920', 0.12244897959183673),\n",
       "  ('1656', 0.1)],\n",
       " [('8', 1.0),\n",
       "  ('4580', 0.1111111111111111),\n",
       "  ('4829', 0.08695652173913043),\n",
       "  ('4358', 0.023255813953488372),\n",
       "  ('29', 0.021739130434782608),\n",
       "  ('4887', 0.02),\n",
       "  ('1860', 0.017543859649122806)],\n",
       " [('106', 0.9795918367346939),\n",
       "  ('1613', 0.9574468085106383),\n",
       "  ('31', 0.7837837837837838),\n",
       "  ('693', 0.28888888888888886),\n",
       "  ('1087', 0.12),\n",
       "  ('2458', 0.11864406779661017),\n",
       "  ('4885', 0.1)],\n",
       " [('223', 0.44),\n",
       "  ('553', 0.38235294117647056),\n",
       "  ('4472', 0.3684210526315789),\n",
       "  ('369', 0.3333333333333333),\n",
       "  ('5898', 0.2911392405063291),\n",
       "  ('1661', 0.28125),\n",
       "  ('1087', 0.2)],\n",
       " [('2397', 0.7959183673469388),\n",
       "  ('3297', 0.4230769230769231),\n",
       "  ('4358', 0.37209302325581395),\n",
       "  ('3237', 0.37142857142857144),\n",
       "  ('5419', 0.3541666666666667),\n",
       "  ('5711', 0.21739130434782608),\n",
       "  ('8', 0.18604651162790697)],\n",
       " [('1323', 0.30434782608695654),\n",
       "  ('5419', 0.11458333333333333),\n",
       "  ('1650', 0.10714285714285714),\n",
       "  ('2998', 0.05),\n",
       "  ('5711', 0.043478260869565216),\n",
       "  ('3954', 0.041666666666666664),\n",
       "  ('1087', 0.04)],\n",
       " [('362', 0.6486486486486487),\n",
       "  ('4534', 0.36363636363636365),\n",
       "  ('1175', 0.2),\n",
       "  ('4131', 0.18181818181818182),\n",
       "  ('3237', 0.17142857142857143),\n",
       "  ('440', 0.15789473684210525),\n",
       "  ('11', 0.10526315789473684)],\n",
       " [('3108', 0.9705882352941176),\n",
       "  ('4979', 0.44),\n",
       "  ('3099', 0.32),\n",
       "  ('3934', 0.16923076923076924),\n",
       "  ('4887', 0.16),\n",
       "  ('4444', 0.14285714285714285),\n",
       "  ('787', 0.14285714285714285)],\n",
       " [('3365', 0.9375),\n",
       "  ('4534', 0.45454545454545453),\n",
       "  ('3307', 0.2),\n",
       "  ('1175', 0.2),\n",
       "  ('73', 0.09090909090909091),\n",
       "  ('2506', 0.08823529411764706),\n",
       "  ('5711', 0.043478260869565216)],\n",
       " [('4927', 0.5714285714285714),\n",
       "  ('787', 0.5357142857142857),\n",
       "  ('4887', 0.36),\n",
       "  ('2298', 0.3333333333333333),\n",
       "  ('2392', 0.3076923076923077),\n",
       "  ('99', 0.1951219512195122),\n",
       "  ('3677', 0.15)],\n",
       " [('4873', 1.0),\n",
       "  ('2392', 0.8461538461538461),\n",
       "  ('576', 0.7647058823529411),\n",
       "  ('99', 0.2926829268292683),\n",
       "  ('196', 0.23809523809523808),\n",
       "  ('29', 0.13043478260869565),\n",
       "  ('1819', 0.1111111111111111)],\n",
       " [('3677', 0.95),\n",
       "  ('4019', 0.8048780487804879),\n",
       "  ('4358', 0.5116279069767442),\n",
       "  ('1650', 0.39285714285714285),\n",
       "  ('1323', 0.21739130434782608),\n",
       "  ('2263', 0.18518518518518517),\n",
       "  ('5759', 0.1388888888888889)],\n",
       " [('2998', 0.9),\n",
       "  ('157', 0.3584905660377358),\n",
       "  ('2397', 0.22448979591836735),\n",
       "  ('3692', 0.18181818181818182),\n",
       "  ('5278', 0.15384615384615385),\n",
       "  ('4358', 0.06976744186046512),\n",
       "  ('4887', 0.06)],\n",
       " [('5030', 0.6666666666666666),\n",
       "  ('3934', 0.13846153846153847),\n",
       "  ('4444', 0.047619047619047616),\n",
       "  ('174', 0.045454545454545456),\n",
       "  ('4829', 0.043478260869565216),\n",
       "  ('4979', 0.04),\n",
       "  ('4887', 0.04)],\n",
       " [('1323', 0.782608695652174),\n",
       "  ('693', 0.5111111111111111),\n",
       "  ('4019', 0.4146341463414634),\n",
       "  ('499', 0.17391304347826086),\n",
       "  ('2375', 0.14),\n",
       "  ('2188', 0.0975609756097561),\n",
       "  ('935', 0.09523809523809523)],\n",
       " [('4614', 0.8648648648648649),\n",
       "  ('1860', 0.5263157894736842),\n",
       "  ('8', 0.3953488372093023),\n",
       "  ('5711', 0.13043478260869565),\n",
       "  ('4829', 0.08695652173913043),\n",
       "  ('791', 0.06521739130434782),\n",
       "  ('157', 0.03773584905660377)],\n",
       " [('3714', 0.9047619047619048),\n",
       "  ('808', 0.5454545454545454),\n",
       "  ('1293', 0.42857142857142855),\n",
       "  ('3677', 0.4),\n",
       "  ('5759', 0.3888888888888889),\n",
       "  ('3894', 0.37209302325581395),\n",
       "  ('3954', 0.3333333333333333)],\n",
       " [('5139', 0.8235294117647058),\n",
       "  ('4489', 0.48148148148148145),\n",
       "  ('106', 0.3877551020408163),\n",
       "  ('3920', 0.20408163265306123),\n",
       "  ('1323', 0.13043478260869565),\n",
       "  ('3853', 0.1111111111111111),\n",
       "  ('2397', 0.08163265306122448)],\n",
       " [('3714', 0.7142857142857143),\n",
       "  ('4206', 0.43902439024390244),\n",
       "  ('808', 0.2727272727272727),\n",
       "  ('5759', 0.19444444444444445),\n",
       "  ('1293', 0.19047619047619047),\n",
       "  ('3894', 0.16279069767441862),\n",
       "  ('3954', 0.125)],\n",
       " [('1087', 0.72),\n",
       "  ('2188', 0.7073170731707317),\n",
       "  ('4811', 0.6923076923076923),\n",
       "  ('553', 0.30392156862745096),\n",
       "  ('3677', 0.2),\n",
       "  ('223', 0.16),\n",
       "  ('1323', 0.13043478260869565)],\n",
       " [('1112', 0.5277777777777778),\n",
       "  ('5419', 0.3541666666666667),\n",
       "  ('4780', 0.28378378378378377),\n",
       "  ('4649', 0.125),\n",
       "  ('2669', 0.125),\n",
       "  ('3365', 0.08333333333333333),\n",
       "  ('73', 0.06818181818181818)],\n",
       " [('1650', 0.17857142857142858),\n",
       "  ('4885', 0.1),\n",
       "  ('2147', 0.09375),\n",
       "  ('1087', 0.08),\n",
       "  ('1613', 0.06382978723404255),\n",
       "  ('4811', 0.05128205128205128),\n",
       "  ('4358', 0.046511627906976744)],\n",
       " [('72', 0.9642857142857143),\n",
       "  ('791', 0.41304347826086957),\n",
       "  ('4764', 0.35714285714285715),\n",
       "  ('1213', 0.22580645161290322),\n",
       "  ('6095', 0.1891891891891892),\n",
       "  ('214', 0.1794871794871795),\n",
       "  ('4885', 0.1)],\n",
       " [('5288', 0.5423728813559322),\n",
       "  ('4887', 0.42),\n",
       "  ('4444', 0.19047619047619047),\n",
       "  ('3714', 0.19047619047619047),\n",
       "  ('4472', 0.10526315789473684),\n",
       "  ('4979', 0.08),\n",
       "  ('553', 0.0784313725490196)],\n",
       " [('3853', 0.5777777777777777),\n",
       "  ('935', 0.3333333333333333),\n",
       "  ('31', 0.24324324324324326),\n",
       "  ('1393', 0.14285714285714285),\n",
       "  ('1087', 0.12),\n",
       "  ('2458', 0.1016949152542373),\n",
       "  ('1524', 0.05405405405405406)],\n",
       " [('935', 0.6666666666666666),\n",
       "  ('1613', 0.6170212765957447),\n",
       "  ('1393', 0.42857142857142855),\n",
       "  ('106', 0.40816326530612246),\n",
       "  ('2458', 0.3389830508474576),\n",
       "  ('5898', 0.26582278481012656),\n",
       "  ('5419', 0.10416666666666667)],\n",
       " [('3002', 0.6486486486486487),\n",
       "  ('1656', 0.3),\n",
       "  ('259', 0.26666666666666666),\n",
       "  ('29', 0.2391304347826087),\n",
       "  ('4509', 0.16666666666666666),\n",
       "  ('5419', 0.14583333333333334),\n",
       "  ('331', 0.14285714285714285)],\n",
       " [('576', 0.9705882352941176),\n",
       "  ('2392', 0.7307692307692307),\n",
       "  ('2867', 0.5319148936170213),\n",
       "  ('29', 0.5217391304347826),\n",
       "  ('4509', 0.4666666666666667),\n",
       "  ('3002', 0.2702702702702703),\n",
       "  ('2263', 0.25925925925925924)],\n",
       " [('4780', 0.7837837837837838),\n",
       "  ('73', 0.6136363636363636),\n",
       "  ('5419', 0.5833333333333334),\n",
       "  ('3237', 0.45714285714285713),\n",
       "  ('390', 0.4074074074074074),\n",
       "  ('4935', 0.375),\n",
       "  ('1157', 0.30952380952380953)],\n",
       " [('4589', 1.0),\n",
       "  ('4873', 0.673469387755102),\n",
       "  ('3504', 0.4),\n",
       "  ('5368', 0.3333333333333333),\n",
       "  ('576', 0.20588235294117646),\n",
       "  ('99', 0.14634146341463414),\n",
       "  ('259', 0.13333333333333333)],\n",
       " [('4332', 0.7777777777777778),\n",
       "  ('935', 0.42857142857142855),\n",
       "  ('2458', 0.05084745762711865),\n",
       "  ('5730', 0.047619047619047616),\n",
       "  ('3853', 0.044444444444444446),\n",
       "  ('2147', 0.03125),\n",
       "  ('693', 0.022222222222222223)],\n",
       " [('693', 0.4444444444444444),\n",
       "  ('1656', 0.16),\n",
       "  ('499', 0.10869565217391304),\n",
       "  ('2147', 0.09375),\n",
       "  ('390', 0.07407407407407407),\n",
       "  ('31', 0.05405405405405406),\n",
       "  ('1613', 0.0425531914893617)],\n",
       " [('1323', 0.6086956521739131),\n",
       "  ('4547', 0.5454545454545454),\n",
       "  ('75', 0.4117647058823529),\n",
       "  ('5730', 0.23809523809523808),\n",
       "  ('4509', 0.16666666666666666),\n",
       "  ('1819', 0.1111111111111111),\n",
       "  ('3835', 0.058823529411764705)],\n",
       " [('4131', 1.0),\n",
       "  ('5419', 0.15625),\n",
       "  ('341', 0.09615384615384616),\n",
       "  ('2829', 0.08),\n",
       "  ('2458', 0.06779661016949153),\n",
       "  ('3853', 0.044444444444444446),\n",
       "  ('5711', 0.043478260869565216)],\n",
       " [('1112', 0.5277777777777778),\n",
       "  ('5419', 0.4270833333333333),\n",
       "  ('2669', 0.375),\n",
       "  ('5388', 0.3448275862068966),\n",
       "  ('4780', 0.12162162162162163),\n",
       "  ('1656', 0.1),\n",
       "  ('1293', 0.07142857142857142)],\n",
       " [('4829', 0.5217391304347826),\n",
       "  ('223', 0.24),\n",
       "  ('553', 0.20588235294117646),\n",
       "  ('174', 0.13636363636363635),\n",
       "  ('1671', 0.10869565217391304),\n",
       "  ('72', 0.07142857142857142),\n",
       "  ('4811', 0.05128205128205128)],\n",
       " [('576', 0.38235294117647056),\n",
       "  ('787', 0.35714285714285715),\n",
       "  ('3504', 0.3333333333333333),\n",
       "  ('2867', 0.2127659574468085),\n",
       "  ('2392', 0.15384615384615385),\n",
       "  ('4887', 0.04),\n",
       "  ('5419', 0.020833333333333332)],\n",
       " [('1175', 0.88),\n",
       "  ('4534', 0.36363636363636365),\n",
       "  ('5711', 0.34782608695652173),\n",
       "  ('4580', 0.2777777777777778),\n",
       "  ('688', 0.25),\n",
       "  ('369', 0.13333333333333333),\n",
       "  ('5419', 0.125)],\n",
       " [('553', 0.18627450980392157),\n",
       "  ('1157', 0.17857142857142858),\n",
       "  ('214', 0.15384615384615385),\n",
       "  ('223', 0.12),\n",
       "  ('1661', 0.09375),\n",
       "  ('4811', 0.07692307692307693),\n",
       "  ('196', 0.047619047619047616)],\n",
       " [('4780', 0.9054054054054054),\n",
       "  ('73', 0.8409090909090909),\n",
       "  ('4534', 0.5454545454545454),\n",
       "  ('5419', 0.53125),\n",
       "  ('3237', 0.5142857142857142),\n",
       "  ('390', 0.46296296296296297),\n",
       "  ('3894', 0.27906976744186046)],\n",
       " [('3677', 0.75),\n",
       "  ('5759', 0.3611111111111111),\n",
       "  ('4358', 0.16279069767441862),\n",
       "  ('3714', 0.14285714285714285),\n",
       "  ('808', 0.13636363636363635),\n",
       "  ('2835', 0.13333333333333333),\n",
       "  ('3954', 0.125)],\n",
       " [('1860', 0.5964912280701754),\n",
       "  ('3934', 0.5230769230769231),\n",
       "  ('2147', 0.3125),\n",
       "  ('4885', 0.3),\n",
       "  ('791', 0.21739130434782608),\n",
       "  ('1671', 0.17391304347826086),\n",
       "  ('214', 0.15384615384615385)],\n",
       " [('688', 0.875),\n",
       "  ('1113', 0.2413793103448276),\n",
       "  ('4580', 0.1111111111111111),\n",
       "  ('5307', 0.09523809523809523),\n",
       "  ('4935', 0.08928571428571429),\n",
       "  ('5419', 0.0625),\n",
       "  ('5711', 0.043478260869565216)],\n",
       " [('4358', 0.7674418604651163),\n",
       "  ('3677', 0.45),\n",
       "  ('3714', 0.38095238095238093),\n",
       "  ('1650', 0.2857142857142857),\n",
       "  ('4019', 0.2682926829268293),\n",
       "  ('5139', 0.14705882352941177),\n",
       "  ('2835', 0.13333333333333333)],\n",
       " [('6080', 0.7),\n",
       "  ('5711', 0.30434782608695654),\n",
       "  ('1661', 0.25),\n",
       "  ('5121', 0.24242424242424243),\n",
       "  ('4614', 0.21621621621621623),\n",
       "  ('808', 0.13636363636363635),\n",
       "  ('1860', 0.10526315789473684)],\n",
       " [('5387', 1.0),\n",
       "  ('3253', 0.375),\n",
       "  ('3786', 0.058823529411764705),\n",
       "  ('5711', 0.043478260869565216),\n",
       "  ('1087', 0.04),\n",
       "  ('223', 0.04),\n",
       "  ('4887', 0.04)],\n",
       " [('4019', 0.8536585365853658),\n",
       "  ('1323', 0.8260869565217391),\n",
       "  ('3677', 0.7),\n",
       "  ('2188', 0.6341463414634146),\n",
       "  ('1650', 0.21428571428571427),\n",
       "  ('75', 0.17647058823529413),\n",
       "  ('5730', 0.09523809523809523)],\n",
       " [('3297', 0.7115384615384616),\n",
       "  ('8', 0.4186046511627907),\n",
       "  ('4649', 0.3),\n",
       "  ('5419', 0.22916666666666666),\n",
       "  ('5012', 0.17857142857142858),\n",
       "  ('5711', 0.17391304347826086),\n",
       "  ('4580', 0.16666666666666666)],\n",
       " [('2998', 0.35),\n",
       "  ('1650', 0.07142857142857142),\n",
       "  ('5278', 0.02564102564102564),\n",
       "  ('3954', 0.0),\n",
       "  ('3365', 0.0),\n",
       "  ('331', 0.0),\n",
       "  ('5898', 0.0)],\n",
       " [('5279', 0.6153846153846154),\n",
       "  ('5521', 0.5098039215686274),\n",
       "  ('693', 0.044444444444444446),\n",
       "  ('106', 0.02040816326530612),\n",
       "  ('3954', 0.0),\n",
       "  ('3365', 0.0),\n",
       "  ('331', 0.0)],\n",
       " [('1293', 0.8095238095238095),\n",
       "  ('2867', 0.8085106382978723),\n",
       "  ('5419', 0.375),\n",
       "  ('1613', 0.3404255319148936),\n",
       "  ('5288', 0.288135593220339),\n",
       "  ('4472', 0.2631578947368421),\n",
       "  ('1656', 0.22)],\n",
       " [('5730', 0.8571428571428571),\n",
       "  ('4547', 0.8409090909090909),\n",
       "  ('3835', 0.7058823529411765),\n",
       "  ('693', 0.6222222222222222),\n",
       "  ('5368', 0.5),\n",
       "  ('1040', 0.4117647058823529),\n",
       "  ('935', 0.14285714285714285)],\n",
       " [('1518', 1.0),\n",
       "  ('3677', 0.8),\n",
       "  ('3954', 0.6666666666666666),\n",
       "  ('1393', 0.5714285714285714),\n",
       "  ('5759', 0.5277777777777778),\n",
       "  ('3714', 0.3333333333333333),\n",
       "  ('3472', 0.2962962962962963)],\n",
       " [('3297', 0.7307692307692307),\n",
       "  ('5711', 0.6521739130434783),\n",
       "  ('3934', 0.47692307692307695),\n",
       "  ('4580', 0.4444444444444444),\n",
       "  ('4829', 0.34782608695652173),\n",
       "  ('5012', 0.25),\n",
       "  ('5419', 0.23958333333333334)],\n",
       " [('4627', 1.0),\n",
       "  ('6095', 0.7837837837837838),\n",
       "  ('29', 0.5),\n",
       "  ('214', 0.15384615384615385),\n",
       "  ('4472', 0.13157894736842105),\n",
       "  ('1860', 0.10526315789473684),\n",
       "  ('3504', 0.09333333333333334)],\n",
       " [('791', 0.9347826086956522),\n",
       "  ('72', 0.6071428571428571),\n",
       "  ('6095', 0.5945945945945946),\n",
       "  ('214', 0.5128205128205128),\n",
       "  ('1213', 0.45161290322580644),\n",
       "  ('223', 0.44),\n",
       "  ('4614', 0.2972972972972973)],\n",
       " [('4780', 0.972972972972973),\n",
       "  ('4534', 0.9090909090909091),\n",
       "  ('73', 0.8409090909090909),\n",
       "  ('369', 0.8),\n",
       "  ('1113', 0.6896551724137931),\n",
       "  ('2506', 0.6764705882352942),\n",
       "  ('3307', 0.4666666666666667)],\n",
       " [('3504', 0.6533333333333333),\n",
       "  ('5898', 0.5443037974683544),\n",
       "  ('576', 0.14705882352941177),\n",
       "  ('787', 0.14285714285714285),\n",
       "  ('4472', 0.13157894736842105),\n",
       "  ('4887', 0.12),\n",
       "  ('5474', 0.11428571428571428)],\n",
       " [('4534', 0.5454545454545454),\n",
       "  ('1113', 0.27586206896551724),\n",
       "  ('3237', 0.22857142857142856),\n",
       "  ('5388', 0.20689655172413793),\n",
       "  ('369', 0.16666666666666666),\n",
       "  ('440', 0.13157894736842105),\n",
       "  ('5419', 0.10416666666666667)],\n",
       " [('688', 0.6666666666666666),\n",
       "  ('2506', 0.5),\n",
       "  ('4580', 0.4444444444444444),\n",
       "  ('5307', 0.42857142857142855),\n",
       "  ('4935', 0.39285714285714285),\n",
       "  ('1175', 0.32),\n",
       "  ('1113', 0.3103448275862069)],\n",
       " [('1524', 0.8378378378378378),\n",
       "  ('3853', 0.5555555555555556),\n",
       "  ('935', 0.47619047619047616),\n",
       "  ('31', 0.13513513513513514),\n",
       "  ('1157', 0.10714285714285714),\n",
       "  ('11', 0.07894736842105263),\n",
       "  ('693', 0.06666666666666667)],\n",
       " [('2835', 1.0),\n",
       "  ('4206', 0.8780487804878049),\n",
       "  ('5759', 0.8333333333333334),\n",
       "  ('5711', 0.17391304347826086),\n",
       "  ('1358', 0.15),\n",
       "  ('1650', 0.10714285714285714),\n",
       "  ('3297', 0.07692307692307693)],\n",
       " [('3297', 0.9230769230769231),\n",
       "  ('1112', 0.75),\n",
       "  ('2669', 0.75),\n",
       "  ('360', 0.6571428571428571),\n",
       "  ('5711', 0.6521739130434783),\n",
       "  ('362', 0.6486486486486487),\n",
       "  ('5419', 0.6354166666666666)],\n",
       " [('3934', 0.8769230769230769),\n",
       "  ('4979', 0.84),\n",
       "  ('390', 0.6296296296296297),\n",
       "  ('5711', 0.6086956521739131),\n",
       "  ('157', 0.5471698113207547),\n",
       "  ('3297', 0.5384615384615384),\n",
       "  ('5012', 0.5357142857142857)],\n",
       " [('1671', 0.5652173913043478),\n",
       "  ('4935', 0.5357142857142857),\n",
       "  ('440', 0.23684210526315788),\n",
       "  ('5312', 0.23404255319148937),\n",
       "  ('5288', 0.11864406779661017),\n",
       "  ('341', 0.09615384615384616),\n",
       "  ('1244', 0.08571428571428572)],\n",
       " [('214', 0.3076923076923077),\n",
       "  ('6080', 0.3),\n",
       "  ('4614', 0.08108108108108109),\n",
       "  ('6095', 0.05405405405405406),\n",
       "  ('4829', 0.043478260869565216),\n",
       "  ('1860', 0.03508771929824561),\n",
       "  ('1661', 0.03125)],\n",
       " [('4789', 0.6333333333333333),\n",
       "  ('1661', 0.375),\n",
       "  ('553', 0.3431372549019608),\n",
       "  ('11', 0.2894736842105263),\n",
       "  ('390', 0.2777777777777778),\n",
       "  ('223', 0.2),\n",
       "  ('5030', 0.1388888888888889)],\n",
       " [('5419', 0.17708333333333334),\n",
       "  ('5898', 0.11392405063291139),\n",
       "  ('1087', 0.08),\n",
       "  ('4472', 0.07894736842105263),\n",
       "  ('1819', 0.07407407407407407),\n",
       "  ('787', 0.07142857142857142),\n",
       "  ('4811', 0.05128205128205128)],\n",
       " [('1613', 0.7446808510638298),\n",
       "  ('31', 0.5945945945945946),\n",
       "  ('106', 0.20408163265306123),\n",
       "  ('935', 0.19047619047619047),\n",
       "  ('2458', 0.1694915254237288),\n",
       "  ('360', 0.08571428571428572),\n",
       "  ('341', 0.07692307692307693)],\n",
       " [('4764', 0.8928571428571429),\n",
       "  ('1661', 0.875),\n",
       "  ('72', 0.75),\n",
       "  ('4829', 0.6086956521739131),\n",
       "  ('1087', 0.44),\n",
       "  ('6080', 0.4),\n",
       "  ('214', 0.38461538461538464)],\n",
       " [('29', 0.6304347826086957),\n",
       "  ('4472', 0.47368421052631576),\n",
       "  ('331', 0.38095238095238093),\n",
       "  ('3002', 0.24324324324324326),\n",
       "  ('5419', 0.22916666666666666),\n",
       "  ('3504', 0.21333333333333335),\n",
       "  ('5898', 0.13924050632911392)],\n",
       " [('5823', 0.9545454545454546),\n",
       "  ('2829', 0.92),\n",
       "  ('4131', 0.696969696969697),\n",
       "  ('341', 0.6538461538461539),\n",
       "  ('54', 0.5),\n",
       "  ('5419', 0.3333333333333333),\n",
       "  ('5332', 0.2)],\n",
       " [('174', 1.0),\n",
       "  ('4829', 0.30434782608695654),\n",
       "  ('4580', 0.2222222222222222),\n",
       "  ('223', 0.2),\n",
       "  ('3934', 0.06153846153846154),\n",
       "  ('5030', 0.05555555555555555),\n",
       "  ('214', 0.05128205128205128)],\n",
       " [('3581', 1.0),\n",
       "  ('4019', 0.36585365853658536),\n",
       "  ('29', 0.2391304347826087),\n",
       "  ('4811', 0.1794871794871795),\n",
       "  ('3677', 0.1),\n",
       "  ('4358', 0.09302325581395349),\n",
       "  ('2867', 0.0851063829787234)],\n",
       " [('2392', 0.5),\n",
       "  ('787', 0.35714285714285715),\n",
       "  ('2188', 0.17073170731707318),\n",
       "  ('331', 0.14285714285714285),\n",
       "  ('4811', 0.1282051282051282),\n",
       "  ('5419', 0.11458333333333333),\n",
       "  ('1819', 0.1111111111111111)],\n",
       " [('8', 0.9069767441860465),\n",
       "  ('4829', 0.7391304347826086),\n",
       "  ('4580', 0.6666666666666666),\n",
       "  ('5711', 0.5652173913043478),\n",
       "  ('157', 0.5094339622641509),\n",
       "  ('1661', 0.46875),\n",
       "  ('3472', 0.37037037037037035)],\n",
       " [('3198', 0.9375),\n",
       "  ('5419', 0.625),\n",
       "  ('184', 0.13953488372093023),\n",
       "  ('1358', 0.125),\n",
       "  ('3954', 0.08333333333333333),\n",
       "  ('1650', 0.03571428571428571),\n",
       "  ('5388', 0.034482758620689655)],\n",
       " [('3559', 0.2857142857142857),\n",
       "  ('5419', 0.28125),\n",
       "  ('31', 0.16216216216216217),\n",
       "  ('693', 0.08888888888888889),\n",
       "  ('4489', 0.07407407407407407),\n",
       "  ('3472', 0.07407407407407407),\n",
       "  ('1650', 0.07142857142857142)],\n",
       " [('1613', 0.8936170212765957),\n",
       "  ('106', 0.7142857142857143),\n",
       "  ('1087', 0.28),\n",
       "  ('31', 0.1891891891891892),\n",
       "  ('5139', 0.11764705882352941),\n",
       "  ('4489', 0.1111111111111111),\n",
       "  ('4885', 0.1)],\n",
       " [('4927', 0.8571428571428571),\n",
       "  ('4887', 0.64),\n",
       "  ('787', 0.6071428571428571),\n",
       "  ('3099', 0.08),\n",
       "  ('2298', 0.06060606060606061),\n",
       "  ('576', 0.058823529411764705),\n",
       "  ('3504', 0.02666666666666667)],\n",
       " [('3365', 0.75),\n",
       "  ('1175', 0.64),\n",
       "  ('4580', 0.3888888888888889),\n",
       "  ('362', 0.3783783783783784),\n",
       "  ('1112', 0.3611111111111111),\n",
       "  ('5012', 0.35714285714285715),\n",
       "  ('5419', 0.3125)],\n",
       " [('1293', 0.7857142857142857),\n",
       "  ('2451', 0.7435897435897436),\n",
       "  ('5288', 0.559322033898305),\n",
       "  ('3954', 0.5416666666666666),\n",
       "  ('808', 0.45454545454545453),\n",
       "  ('1982', 0.43902439024390244),\n",
       "  ('5419', 0.3333333333333333)],\n",
       " [('1518', 1.0),\n",
       "  ('499', 0.17391304347826086),\n",
       "  ('1323', 0.13043478260869565),\n",
       "  ('5419', 0.10416666666666667),\n",
       "  ('1656', 0.1),\n",
       "  ('3677', 0.1),\n",
       "  ('4811', 0.07692307692307693)],\n",
       " [('4649', 0.6),\n",
       "  ('3237', 0.5142857142857142),\n",
       "  ('362', 0.4864864864864865),\n",
       "  ('5419', 0.3958333333333333),\n",
       "  ('3934', 0.2153846153846154),\n",
       "  ('390', 0.2037037037037037),\n",
       "  ('184', 0.18604651162790697)],\n",
       " [('3253', 0.9583333333333334),\n",
       "  ('2147', 0.65625),\n",
       "  ('4131', 0.42424242424242425),\n",
       "  ('2829', 0.2),\n",
       "  ('935', 0.14285714285714285),\n",
       "  ('4332', 0.1111111111111111),\n",
       "  ('31', 0.05405405405405406)],\n",
       " [('29', 0.21739130434782608),\n",
       "  ('2392', 0.11538461538461539),\n",
       "  ('5419', 0.11458333333333333),\n",
       "  ('3677', 0.1),\n",
       "  ('369', 0.03333333333333333),\n",
       "  ('259', 0.022222222222222223),\n",
       "  ('4887', 0.02)],\n",
       " [('390', 0.5740740740740741),\n",
       "  ('11', 0.5),\n",
       "  ('1656', 0.42),\n",
       "  ('1157', 0.3333333333333333),\n",
       "  ('5419', 0.3020833333333333),\n",
       "  ('3853', 0.28888888888888886),\n",
       "  ('2458', 0.2711864406779661)],\n",
       " [('174', 0.5),\n",
       "  ('72', 0.35714285714285715),\n",
       "  ('4829', 0.30434782608695654),\n",
       "  ('214', 0.28205128205128205),\n",
       "  ('1087', 0.24),\n",
       "  ('4887', 0.22),\n",
       "  ('6080', 0.2)],\n",
       " [('54', 0.9583333333333334),\n",
       "  ('5823', 0.5454545454545454),\n",
       "  ('4131', 0.2727272727272727),\n",
       "  ('2829', 0.2),\n",
       "  ('5419', 0.1875),\n",
       "  ('1656', 0.1),\n",
       "  ('5332', 0.044444444444444446)],\n",
       " [('5474', 1.0),\n",
       "  ('99', 0.6097560975609756),\n",
       "  ('5575', 0.5348837209302325),\n",
       "  ('259', 0.4444444444444444),\n",
       "  ('196', 0.23809523809523808),\n",
       "  ('3504', 0.18666666666666668),\n",
       "  ('1323', 0.17391304347826086)],\n",
       " [('1040', 0.47058823529411764),\n",
       "  ('499', 0.45652173913043476),\n",
       "  ('889', 0.3695652173913043),\n",
       "  ('2263', 0.18518518518518517),\n",
       "  ('1650', 0.14285714285714285),\n",
       "  ('4019', 0.12195121951219512),\n",
       "  ('693', 0.1111111111111111)],\n",
       " [('576', 0.8823529411764706),\n",
       "  ('4472', 0.7631578947368421),\n",
       "  ('29', 0.6521739130434783),\n",
       "  ('3504', 0.6),\n",
       "  ('2867', 0.48936170212765956),\n",
       "  ('6095', 0.32432432432432434),\n",
       "  ('331', 0.2857142857142857)],\n",
       " [('6095', 0.8648648648648649),\n",
       "  ('214', 0.28205128205128205),\n",
       "  ('72', 0.14285714285714285),\n",
       "  ('29', 0.10869565217391304),\n",
       "  ('791', 0.08695652173913043),\n",
       "  ('223', 0.08),\n",
       "  ('1860', 0.05263157894736842)],\n",
       " [('4887', 0.78),\n",
       "  ('2188', 0.6097560975609756),\n",
       "  ('2867', 0.5531914893617021),\n",
       "  ('499', 0.5217391304347826),\n",
       "  ('1323', 0.34782608695652173),\n",
       "  ('4811', 0.28205128205128205),\n",
       "  ('553', 0.27450980392156865)]]"
      ]
     },
     "execution_count": 61,
     "metadata": {},
     "output_type": "execute_result"
    }
   ],
   "source": [
    "same_listList2"
   ]
  },
  {
   "cell_type": "code",
   "execution_count": null,
   "metadata": {
    "collapsed": true
   },
   "outputs": [],
   "source": []
  },
  {
   "cell_type": "code",
   "execution_count": null,
   "metadata": {
    "collapsed": true
   },
   "outputs": [],
   "source": []
  },
  {
   "cell_type": "code",
   "execution_count": 2,
   "metadata": {},
   "outputs": [
    {
     "name": "stderr",
     "output_type": "stream",
     "text": [
      "Using TensorFlow backend.\n"
     ]
    }
   ],
   "source": [
    "# coding:utf-8\n",
    "\n",
    "import pandas as pd\n",
    "import numpy as np\n",
    "import cv2\n",
    "from keras import backend as K\n",
    "from keras.preprocessing.image import array_to_img, img_to_array, load_img\n",
    "from keras.models import load_model\n",
    "\n",
    "K.set_learning_phase(1) #set learning phase\n",
    "\n",
    "\n",
    "\n",
    "def Grad_Cam(input_model, x, y, layer_name1, layer_name2):\n",
    "    '''\n",
    "    Args:\n",
    "       input_model: モデルオブジェクト\n",
    "       x: 画像(array)\n",
    "       layer_name: 畳み込み層の名前\n",
    "\n",
    "    Returns:\n",
    "       jetcam: 影響の大きい箇所を色付けした画像(array)\n",
    "\n",
    "    '''\n",
    "\n",
    "    # 前処理\n",
    "    X = np.expand_dims(x, axis=0)\n",
    "    Y = np.expand_dims(y, axis=0)\n",
    "    X = X.astype('float32')\n",
    "    X = Y.astype('float32')\n",
    "    preprocessed_X = X / 255.0\n",
    "    preprocessed_Y = Y / 255.0\n",
    "\n",
    "    # 予測クラスの算出\n",
    "\n",
    "    predictions = model.predict([preprocessed_X, preprocessed_Y])\n",
    "    class_idx = np.argmax(predictions[0])\n",
    "    class_output = model.output[:, class_idx]\n",
    "\n",
    "\n",
    "    #  Xの勾配を取得\n",
    "\n",
    "    conv_output_X = model.get_layer(layer_name1).output   # layer_name1のレイヤーのアウトプット\n",
    "    grads_X = K.gradients(class_output, conv_output_X)[0]  # gradients(loss, variables) で、variablesのlossに関しての勾配を返す\n",
    "    gradient_function = K.function([model.layers[0].input], [conv_output_X, grads_X])  # model.inputを入力すると、conv_output_Xとgradsを出力する関数\n",
    "\n",
    "    output1, grads_val1 = gradient_function([preprocessed_X])\n",
    "    output1, grads_val1 = output1[0], grads_val1[0]\n",
    "\n",
    "    #  Yの勾配を取得\n",
    "\n",
    "    conv_output_Y = model.get_layer(layer_name2).output   # layer_name2のレイヤーのアウトプット\n",
    "    grads_Y = K.gradients(class_output, conv_output_Y)[0]  # gradients(loss, variables) で、variablesのlossに関しての勾配を返す\n",
    "    gradient_function = K.function([model.layers[1].input], [conv_output_Y, grads_Y])  # model.inputを入力すると、conv_output_Xとgradsを出力する関数\n",
    "\n",
    "    output2, grads_val2 = gradient_function([preprocessed_Y])\n",
    "    output2, grads_val2 = output2[0], grads_val2[0]\n",
    "\n",
    "    # それぞれ重みを平均化して、レイヤーのアウトプットに乗じる\n",
    "    weights1 = np.mean(grads_val1, axis=(0, 1))\n",
    "    cam1 = np.dot(output1, weights1)\n",
    "\n",
    "    # それぞれ重みを平均化して、レイヤーのアウトプットに乗じる\n",
    "    weights2 = np.mean(grads_val2, axis=(0, 1))\n",
    "    cam2 = np.dot(output2, weights2)\n",
    "\n",
    "\n",
    "    # それぞれ画像化してヒートマップにして合成\n",
    "\n",
    "    cam1 = cv2.resize(cam1, (200, 200), cv2.INTER_LINEAR) # 画像サイズは200で処理したので\n",
    "    cam1 = np.maximum(cam1, 0)\n",
    "    cam1 = cam1 / cam1.max()\n",
    "\n",
    "    jetcam1 = cv2.applyColorMap(np.uint8(255 * cam1), cv2.COLORMAP_JET)  # モノクロ画像に疑似的に色をつける\n",
    "    jetcam1 = cv2.cvtColor(jetcam1, cv2.COLOR_BGR2RGB)  # 色をRGBに変換\n",
    "    jetcam1 = (np.float32(jetcam1) + x / 2)   # もとの画像に合成\n",
    "\n",
    "    # それぞれ画像化してヒートマップにして合成\n",
    "\n",
    "    cam2 = cv2.resize(cam2, (200, 200), cv2.INTER_LINEAR) # 画像サイズは200で処理したので\n",
    "    cam2 = np.maximum(cam2, 0)\n",
    "    cam2 = cam2 / cam2.max()\n",
    "\n",
    "    jetcam2 = cv2.applyColorMap(np.uint8(255 * cam2), cv2.COLORMAP_JET)  # モノクロ画像に疑似的に色をつける\n",
    "    jetcam2 = cv2.cvtColor(jetcam2, cv2.COLOR_BGR2RGB)  # 色をRGBに変換\n",
    "    jetcam2 = (np.float32(jetcam2) + y / 2)   # もとの画像に合成\n",
    "\n",
    "    return jetcam1, jetcam2"
   ]
  },
  {
   "cell_type": "code",
   "execution_count": 4,
   "metadata": {},
   "outputs": [
    {
     "ename": "FailedPreconditionError",
     "evalue": "Error while reading resource variable dense_1/bias from Container: localhost. This could mean that the variable was uninitialized. Not found: Container localhost does not exist. (Could not find resource: localhost/dense_1/bias)\n\t [[{{node dense_1/BiasAdd/ReadVariableOp}} = ReadVariableOp[dtype=DT_FLOAT, _device=\"/job:localhost/replica:0/task:0/device:CPU:0\"](dense_1/bias)]]",
     "output_type": "error",
     "traceback": [
      "\u001b[0;31m---------------------------------------------------------------------------\u001b[0m",
      "\u001b[0;31mFailedPreconditionError\u001b[0m                   Traceback (most recent call last)",
      "\u001b[0;32m<ipython-input-4-3b8a569cac49>\u001b[0m in \u001b[0;36m<module>\u001b[0;34m()\u001b[0m\n\u001b[1;32m      2\u001b[0m \u001b[0mimg2\u001b[0m \u001b[0;34m=\u001b[0m \u001b[0mload_img\u001b[0m\u001b[0;34m(\u001b[0m\u001b[0;34m'test/13735.png'\u001b[0m\u001b[0;34m,\u001b[0m \u001b[0mtarget_size\u001b[0m\u001b[0;34m=\u001b[0m\u001b[0;34m(\u001b[0m\u001b[0;36m160\u001b[0m\u001b[0;34m,\u001b[0m \u001b[0;36m60\u001b[0m\u001b[0;34m)\u001b[0m\u001b[0;34m)\u001b[0m\u001b[0;34m\u001b[0m\u001b[0m\n\u001b[1;32m      3\u001b[0m \u001b[0;34m\u001b[0m\u001b[0m\n\u001b[0;32m----> 4\u001b[0;31m \u001b[0mg1\u001b[0m\u001b[0;34m,\u001b[0m \u001b[0mg2\u001b[0m \u001b[0;34m=\u001b[0m \u001b[0mGrad_Cam\u001b[0m\u001b[0;34m(\u001b[0m\u001b[0mmodel\u001b[0m\u001b[0;34m,\u001b[0m \u001b[0mimg1\u001b[0m\u001b[0;34m,\u001b[0m \u001b[0mimg2\u001b[0m\u001b[0;34m,\u001b[0m \u001b[0;34m'conv_4_1'\u001b[0m\u001b[0;34m,\u001b[0m \u001b[0;34m'conv_4_2'\u001b[0m\u001b[0;34m)\u001b[0m\u001b[0;34m\u001b[0m\u001b[0m\n\u001b[0m",
      "\u001b[0;32m<ipython-input-2-f7813abca09e>\u001b[0m in \u001b[0;36mGrad_Cam\u001b[0;34m(input_model, x, y, layer_name1, layer_name2)\u001b[0m\n\u001b[1;32m     45\u001b[0m     \u001b[0mgradient_function\u001b[0m \u001b[0;34m=\u001b[0m \u001b[0mK\u001b[0m\u001b[0;34m.\u001b[0m\u001b[0mfunction\u001b[0m\u001b[0;34m(\u001b[0m\u001b[0;34m[\u001b[0m\u001b[0mmodel\u001b[0m\u001b[0;34m.\u001b[0m\u001b[0mlayers\u001b[0m\u001b[0;34m[\u001b[0m\u001b[0;36m0\u001b[0m\u001b[0;34m]\u001b[0m\u001b[0;34m.\u001b[0m\u001b[0minput\u001b[0m\u001b[0;34m]\u001b[0m\u001b[0;34m,\u001b[0m \u001b[0;34m[\u001b[0m\u001b[0mconv_output_X\u001b[0m\u001b[0;34m,\u001b[0m \u001b[0mgrads_X\u001b[0m\u001b[0;34m]\u001b[0m\u001b[0;34m)\u001b[0m  \u001b[0;31m# model.inputを入力すると、conv_output_Xとgradsを出力する関数\u001b[0m\u001b[0;34m\u001b[0m\u001b[0m\n\u001b[1;32m     46\u001b[0m \u001b[0;34m\u001b[0m\u001b[0m\n\u001b[0;32m---> 47\u001b[0;31m     \u001b[0moutput1\u001b[0m\u001b[0;34m,\u001b[0m \u001b[0mgrads_val1\u001b[0m \u001b[0;34m=\u001b[0m \u001b[0mgradient_function\u001b[0m\u001b[0;34m(\u001b[0m\u001b[0;34m[\u001b[0m\u001b[0mpreprocessed_X\u001b[0m\u001b[0;34m]\u001b[0m\u001b[0;34m)\u001b[0m\u001b[0;34m\u001b[0m\u001b[0m\n\u001b[0m\u001b[1;32m     48\u001b[0m     \u001b[0moutput1\u001b[0m\u001b[0;34m,\u001b[0m \u001b[0mgrads_val1\u001b[0m \u001b[0;34m=\u001b[0m \u001b[0moutput1\u001b[0m\u001b[0;34m[\u001b[0m\u001b[0;36m0\u001b[0m\u001b[0;34m]\u001b[0m\u001b[0;34m,\u001b[0m \u001b[0mgrads_val1\u001b[0m\u001b[0;34m[\u001b[0m\u001b[0;36m0\u001b[0m\u001b[0;34m]\u001b[0m\u001b[0;34m\u001b[0m\u001b[0m\n\u001b[1;32m     49\u001b[0m \u001b[0;34m\u001b[0m\u001b[0m\n",
      "\u001b[0;32m~/.pyenv/versions/anaconda3-5.2.0/lib/python3.6/site-packages/keras/backend/tensorflow_backend.py\u001b[0m in \u001b[0;36m__call__\u001b[0;34m(self, inputs)\u001b[0m\n\u001b[1;32m   2713\u001b[0m                 \u001b[0;32mreturn\u001b[0m \u001b[0mself\u001b[0m\u001b[0;34m.\u001b[0m\u001b[0m_legacy_call\u001b[0m\u001b[0;34m(\u001b[0m\u001b[0minputs\u001b[0m\u001b[0;34m)\u001b[0m\u001b[0;34m\u001b[0m\u001b[0m\n\u001b[1;32m   2714\u001b[0m \u001b[0;34m\u001b[0m\u001b[0m\n\u001b[0;32m-> 2715\u001b[0;31m             \u001b[0;32mreturn\u001b[0m \u001b[0mself\u001b[0m\u001b[0;34m.\u001b[0m\u001b[0m_call\u001b[0m\u001b[0;34m(\u001b[0m\u001b[0minputs\u001b[0m\u001b[0;34m)\u001b[0m\u001b[0;34m\u001b[0m\u001b[0m\n\u001b[0m\u001b[1;32m   2716\u001b[0m         \u001b[0;32melse\u001b[0m\u001b[0;34m:\u001b[0m\u001b[0;34m\u001b[0m\u001b[0m\n\u001b[1;32m   2717\u001b[0m             \u001b[0;32mif\u001b[0m \u001b[0mpy_any\u001b[0m\u001b[0;34m(\u001b[0m\u001b[0mis_tensor\u001b[0m\u001b[0;34m(\u001b[0m\u001b[0mx\u001b[0m\u001b[0;34m)\u001b[0m \u001b[0;32mfor\u001b[0m \u001b[0mx\u001b[0m \u001b[0;32min\u001b[0m \u001b[0minputs\u001b[0m\u001b[0;34m)\u001b[0m\u001b[0;34m:\u001b[0m\u001b[0;34m\u001b[0m\u001b[0m\n",
      "\u001b[0;32m~/.pyenv/versions/anaconda3-5.2.0/lib/python3.6/site-packages/keras/backend/tensorflow_backend.py\u001b[0m in \u001b[0;36m_call\u001b[0;34m(self, inputs)\u001b[0m\n\u001b[1;32m   2673\u001b[0m             \u001b[0mfetched\u001b[0m \u001b[0;34m=\u001b[0m \u001b[0mself\u001b[0m\u001b[0;34m.\u001b[0m\u001b[0m_callable_fn\u001b[0m\u001b[0;34m(\u001b[0m\u001b[0;34m*\u001b[0m\u001b[0marray_vals\u001b[0m\u001b[0;34m,\u001b[0m \u001b[0mrun_metadata\u001b[0m\u001b[0;34m=\u001b[0m\u001b[0mself\u001b[0m\u001b[0;34m.\u001b[0m\u001b[0mrun_metadata\u001b[0m\u001b[0;34m)\u001b[0m\u001b[0;34m\u001b[0m\u001b[0m\n\u001b[1;32m   2674\u001b[0m         \u001b[0;32melse\u001b[0m\u001b[0;34m:\u001b[0m\u001b[0;34m\u001b[0m\u001b[0m\n\u001b[0;32m-> 2675\u001b[0;31m             \u001b[0mfetched\u001b[0m \u001b[0;34m=\u001b[0m \u001b[0mself\u001b[0m\u001b[0;34m.\u001b[0m\u001b[0m_callable_fn\u001b[0m\u001b[0;34m(\u001b[0m\u001b[0;34m*\u001b[0m\u001b[0marray_vals\u001b[0m\u001b[0;34m)\u001b[0m\u001b[0;34m\u001b[0m\u001b[0m\n\u001b[0m\u001b[1;32m   2676\u001b[0m         \u001b[0;32mreturn\u001b[0m \u001b[0mfetched\u001b[0m\u001b[0;34m[\u001b[0m\u001b[0;34m:\u001b[0m\u001b[0mlen\u001b[0m\u001b[0;34m(\u001b[0m\u001b[0mself\u001b[0m\u001b[0;34m.\u001b[0m\u001b[0moutputs\u001b[0m\u001b[0;34m)\u001b[0m\u001b[0;34m]\u001b[0m\u001b[0;34m\u001b[0m\u001b[0m\n\u001b[1;32m   2677\u001b[0m \u001b[0;34m\u001b[0m\u001b[0m\n",
      "\u001b[0;32m~/.pyenv/versions/anaconda3-5.2.0/lib/python3.6/site-packages/tensorflow/python/client/session.py\u001b[0m in \u001b[0;36m__call__\u001b[0;34m(self, *args, **kwargs)\u001b[0m\n\u001b[1;32m   1397\u001b[0m           ret = tf_session.TF_SessionRunCallable(\n\u001b[1;32m   1398\u001b[0m               \u001b[0mself\u001b[0m\u001b[0;34m.\u001b[0m\u001b[0m_session\u001b[0m\u001b[0;34m.\u001b[0m\u001b[0m_session\u001b[0m\u001b[0;34m,\u001b[0m \u001b[0mself\u001b[0m\u001b[0;34m.\u001b[0m\u001b[0m_handle\u001b[0m\u001b[0;34m,\u001b[0m \u001b[0margs\u001b[0m\u001b[0;34m,\u001b[0m \u001b[0mstatus\u001b[0m\u001b[0;34m,\u001b[0m\u001b[0;34m\u001b[0m\u001b[0m\n\u001b[0;32m-> 1399\u001b[0;31m               run_metadata_ptr)\n\u001b[0m\u001b[1;32m   1400\u001b[0m         \u001b[0;32mif\u001b[0m \u001b[0mrun_metadata\u001b[0m\u001b[0;34m:\u001b[0m\u001b[0;34m\u001b[0m\u001b[0m\n\u001b[1;32m   1401\u001b[0m           \u001b[0mproto_data\u001b[0m \u001b[0;34m=\u001b[0m \u001b[0mtf_session\u001b[0m\u001b[0;34m.\u001b[0m\u001b[0mTF_GetBuffer\u001b[0m\u001b[0;34m(\u001b[0m\u001b[0mrun_metadata_ptr\u001b[0m\u001b[0;34m)\u001b[0m\u001b[0;34m\u001b[0m\u001b[0m\n",
      "\u001b[0;32m~/.pyenv/versions/anaconda3-5.2.0/lib/python3.6/site-packages/tensorflow/python/framework/errors_impl.py\u001b[0m in \u001b[0;36m__exit__\u001b[0;34m(self, type_arg, value_arg, traceback_arg)\u001b[0m\n\u001b[1;32m    524\u001b[0m             \u001b[0;32mNone\u001b[0m\u001b[0;34m,\u001b[0m \u001b[0;32mNone\u001b[0m\u001b[0;34m,\u001b[0m\u001b[0;34m\u001b[0m\u001b[0m\n\u001b[1;32m    525\u001b[0m             \u001b[0mcompat\u001b[0m\u001b[0;34m.\u001b[0m\u001b[0mas_text\u001b[0m\u001b[0;34m(\u001b[0m\u001b[0mc_api\u001b[0m\u001b[0;34m.\u001b[0m\u001b[0mTF_Message\u001b[0m\u001b[0;34m(\u001b[0m\u001b[0mself\u001b[0m\u001b[0;34m.\u001b[0m\u001b[0mstatus\u001b[0m\u001b[0;34m.\u001b[0m\u001b[0mstatus\u001b[0m\u001b[0;34m)\u001b[0m\u001b[0;34m)\u001b[0m\u001b[0;34m,\u001b[0m\u001b[0;34m\u001b[0m\u001b[0m\n\u001b[0;32m--> 526\u001b[0;31m             c_api.TF_GetCode(self.status.status))\n\u001b[0m\u001b[1;32m    527\u001b[0m     \u001b[0;31m# Delete the underlying status object from memory otherwise it stays alive\u001b[0m\u001b[0;34m\u001b[0m\u001b[0;34m\u001b[0m\u001b[0m\n\u001b[1;32m    528\u001b[0m     \u001b[0;31m# as there is a reference to status from this from the traceback due to\u001b[0m\u001b[0;34m\u001b[0m\u001b[0;34m\u001b[0m\u001b[0m\n",
      "\u001b[0;31mFailedPreconditionError\u001b[0m: Error while reading resource variable dense_1/bias from Container: localhost. This could mean that the variable was uninitialized. Not found: Container localhost does not exist. (Could not find resource: localhost/dense_1/bias)\n\t [[{{node dense_1/BiasAdd/ReadVariableOp}} = ReadVariableOp[dtype=DT_FLOAT, _device=\"/job:localhost/replica:0/task:0/device:CPU:0\"](dense_1/bias)]]"
     ]
    }
   ],
   "source": [
    "img1 = load_img('test/17550.png', target_size=(160, 60))\n",
    "img2 = load_img('test/13735.png', target_size=(160, 60))\n",
    "\n",
    "g1, g2 = Grad_Cam(model, img1, img2, 'conv_4_1', 'conv_4_2')"
   ]
  },
  {
   "cell_type": "code",
   "execution_count": 8,
   "metadata": {},
   "outputs": [
    {
     "data": {
      "text/plain": [
       "[<tf.Tensor 'x1_input:0' shape=(?, 160, 60, 3) dtype=float32>,\n",
       " <tf.Tensor 'x2_input:0' shape=(?, 160, 60, 3) dtype=float32>]"
      ]
     },
     "execution_count": 8,
     "metadata": {},
     "output_type": "execute_result"
    }
   ],
   "source": [
    "model.input"
   ]
  },
  {
   "cell_type": "code",
   "execution_count": 12,
   "metadata": {},
   "outputs": [
    {
     "data": {
      "text/plain": [
       "<tf.Tensor 'x1_input:0' shape=(?, 160, 60, 3) dtype=float32>"
      ]
     },
     "execution_count": 12,
     "metadata": {},
     "output_type": "execute_result"
    }
   ],
   "source": [
    "model.layers[0].input"
   ]
  },
  {
   "cell_type": "code",
   "execution_count": 21,
   "metadata": {},
   "outputs": [
    {
     "name": "stdout",
     "output_type": "stream",
     "text": [
      "Downloading data from https://github.com/fchollet/deep-learning-models/releases/download/v0.1/vgg16_weights_tf_dim_ordering_tf_kernels.h5\n",
      "553467904/553467096 [==============================] - 347s 1us/step\n"
     ]
    }
   ],
   "source": [
    "from keras.applications.vgg16 import (\n",
    "    VGG16, preprocess_input, decode_predictions)\n",
    "\n",
    "model = VGG16(weights='imagenet')"
   ]
  },
  {
   "cell_type": "code",
   "execution_count": 25,
   "metadata": {},
   "outputs": [
    {
     "name": "stdout",
     "output_type": "stream",
     "text": [
      "_________________________________________________________________\n",
      "Layer (type)                 Output Shape              Param #   \n",
      "=================================================================\n",
      "input_1 (InputLayer)         (None, 224, 224, 3)       0         \n",
      "_________________________________________________________________\n",
      "block1_conv1 (Conv2D)        (None, 224, 224, 64)      1792      \n",
      "_________________________________________________________________\n",
      "block1_conv2 (Conv2D)        (None, 224, 224, 64)      36928     \n",
      "_________________________________________________________________\n",
      "block1_pool (MaxPooling2D)   (None, 112, 112, 64)      0         \n",
      "_________________________________________________________________\n",
      "block2_conv1 (Conv2D)        (None, 112, 112, 128)     73856     \n",
      "_________________________________________________________________\n",
      "block2_conv2 (Conv2D)        (None, 112, 112, 128)     147584    \n",
      "_________________________________________________________________\n",
      "block2_pool (MaxPooling2D)   (None, 56, 56, 128)       0         \n",
      "_________________________________________________________________\n",
      "block3_conv1 (Conv2D)        (None, 56, 56, 256)       295168    \n",
      "_________________________________________________________________\n",
      "block3_conv2 (Conv2D)        (None, 56, 56, 256)       590080    \n",
      "_________________________________________________________________\n",
      "block3_conv3 (Conv2D)        (None, 56, 56, 256)       590080    \n",
      "_________________________________________________________________\n",
      "block3_pool (MaxPooling2D)   (None, 28, 28, 256)       0         \n",
      "_________________________________________________________________\n",
      "block4_conv1 (Conv2D)        (None, 28, 28, 512)       1180160   \n",
      "_________________________________________________________________\n",
      "block4_conv2 (Conv2D)        (None, 28, 28, 512)       2359808   \n",
      "_________________________________________________________________\n",
      "block4_conv3 (Conv2D)        (None, 28, 28, 512)       2359808   \n",
      "_________________________________________________________________\n",
      "block4_pool (MaxPooling2D)   (None, 14, 14, 512)       0         \n",
      "_________________________________________________________________\n",
      "block5_conv1 (Conv2D)        (None, 14, 14, 512)       2359808   \n",
      "_________________________________________________________________\n",
      "block5_conv2 (Conv2D)        (None, 14, 14, 512)       2359808   \n",
      "_________________________________________________________________\n",
      "block5_conv3 (Conv2D)        (None, 14, 14, 512)       2359808   \n",
      "_________________________________________________________________\n",
      "block5_pool (MaxPooling2D)   (None, 7, 7, 512)         0         \n",
      "_________________________________________________________________\n",
      "flatten (Flatten)            (None, 25088)             0         \n",
      "_________________________________________________________________\n",
      "fc1 (Dense)                  (None, 4096)              102764544 \n",
      "_________________________________________________________________\n",
      "fc2 (Dense)                  (None, 4096)              16781312  \n",
      "_________________________________________________________________\n",
      "predictions (Dense)          (None, 1000)              4097000   \n",
      "=================================================================\n",
      "Total params: 138,357,544\n",
      "Trainable params: 138,357,544\n",
      "Non-trainable params: 0\n",
      "_________________________________________________________________\n"
     ]
    }
   ],
   "source": [
    "model.summary()"
   ]
  },
  {
   "cell_type": "code",
   "execution_count": null,
   "metadata": {
    "collapsed": true
   },
   "outputs": [],
   "source": []
  }
 ],
 "metadata": {
  "hide_input": false,
  "kernelspec": {
   "display_name": "Python 3",
   "language": "python",
   "name": "python3"
  },
  "language_info": {
   "codemirror_mode": {
    "name": "ipython",
    "version": 3
   },
   "file_extension": ".py",
   "mimetype": "text/x-python",
   "name": "python",
   "nbconvert_exporter": "python",
   "pygments_lexer": "ipython3",
   "version": "3.6.8"
  }
 },
 "nbformat": 4,
 "nbformat_minor": 2
}
