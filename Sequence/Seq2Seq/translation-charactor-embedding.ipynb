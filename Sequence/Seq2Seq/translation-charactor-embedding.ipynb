{
 "cells": [
  {
   "cell_type": "markdown",
   "metadata": {},
   "source": [
    "# [Lstm seq2seq - Keras Documentation](https://keras.io/examples/lstm_seq2seq/)\n",
    "~Sequence to sequence example in Keras <b>(character-level).</b>~"
   ]
  },
  {
   "cell_type": "markdown",
   "metadata": {},
   "source": [
    "<div style=\"border: solid 1px; padding: 0.5em 1em;\">\n",
    "<h3>Note:</h3>\n",
    "It is not usefull to do <b>character-level</b> machine translation, as <b>word-level</b> models are more common in this domain.\n",
    "</div>"
   ]
  },
  {
   "cell_type": "markdown",
   "metadata": {},
   "source": [
    "## Overview\n",
    "***"
   ]
  },
  {
   "cell_type": "markdown",
   "metadata": {},
   "source": [
    "## Data Download\n",
    "English to French sentence pairs are available at [Tab-delimited Bilingual Sentence Pairs](http://www.manythings.org/anki/), and set it to `./data/`"
   ]
  },
  {
   "cell_type": "markdown",
   "metadata": {},
   "source": [
    "```sh\n",
    "# データをダウンロードする。\n",
    "$ wget http://www.manythings.org/anki/fra-eng.zip\n",
    "\n",
    "# 解凍する。\n",
    "$ unzip fra-eng.zip\n",
    "\n",
    "# 指定の場所に移動する。\n",
    "$ mv fra.txt ./data/\n",
    "\n",
    "# いらないデータを削除する。\n",
    "$ rm -rf _about.txt fra-eng.zip\n",
    "```"
   ]
  },
  {
   "cell_type": "code",
   "execution_count": 1,
   "metadata": {},
   "outputs": [
    {
     "name": "stdout",
     "output_type": "stream",
     "text": [
      "Go.\tVa !\r\n",
      "Hi.\tSalut !\r\n",
      "Run!\tCours !\r\n",
      "Run!\tCourez !\r\n",
      "Who?\tQui ?\r\n"
     ]
    }
   ],
   "source": [
    "# ファイルの中身を確認する。\n",
    "! sed -n 1,5p ./data/fra.txt"
   ]
  },
  {
   "cell_type": "code",
   "execution_count": 2,
   "metadata": {},
   "outputs": [
    {
     "name": "stdout",
     "output_type": "stream",
     "text": [
      "  167130 ./data/fra.txt\r\n"
     ]
    }
   ],
   "source": [
    "# ファイルの行数を調べる。\n",
    "! wc -l ./data/fra.txt"
   ]
  },
  {
   "cell_type": "markdown",
   "metadata": {},
   "source": [
    "### Vectorize the data.\n",
    "単語をベクトル化するために、語彙のデータを取得する。なお、\n",
    "- \\t を `<sos>`\n",
    "- \\n を `<eos>`\n",
    "\n",
    "として利用する。（今回は end of character と言うべきかもしれないが笑）"
   ]
  },
  {
   "cell_type": "code",
   "execution_count": 3,
   "metadata": {
    "collapsed": true
   },
   "outputs": [],
   "source": [
    "import numpy as np"
   ]
  },
  {
   "cell_type": "code",
   "execution_count": 4,
   "metadata": {
    "collapsed": true
   },
   "outputs": [],
   "source": [
    "num_samples = 10000  # 使用する例文の数。\n",
    "data_path = './data/fra.txt'"
   ]
  },
  {
   "cell_type": "code",
   "execution_count": 5,
   "metadata": {
    "collapsed": true
   },
   "outputs": [],
   "source": [
    "input_texts = []\n",
    "target_texts = []\n",
    "input_characters = set()\n",
    "target_characters = set()\n",
    "with open(data_path, 'r', encoding='utf-8') as f:\n",
    "    lines = f.read().split('\\n')\n",
    "for line in lines[: num_samples]:\n",
    "    # 「英語 tab フラ語」という構成なので、そこで分ける。\n",
    "    input_text, target_text = line.split('\\t')\n",
    "    # 「\\t」が <sos>, 「\\n」が <eos>の役割（今回は end of character だが笑） \n",
    "    target_text = '\\t' + target_text + '\\n'\n",
    "    \n",
    "    # それぞれの文章をリストに格納する。\n",
    "    input_texts.append(input_text);\n",
    "    target_texts.append(target_text)\n",
    "    \n",
    "    # 使われている文字を記録する。\n",
    "    for char in input_text:\n",
    "        if char not in input_characters:\n",
    "            input_characters.add(char)\n",
    "\n",
    "    for char in target_text:\n",
    "        if char not in target_characters:\n",
    "            target_characters.add(char)"
   ]
  },
  {
   "cell_type": "code",
   "execution_count": 6,
   "metadata": {
    "collapsed": true
   },
   "outputs": [],
   "source": [
    "input_characters = sorted(list(input_characters))\n",
    "target_characters = sorted(list(target_characters))\n",
    "num_encoder_tokens = len(input_characters)\n",
    "num_decoder_tokens = len(target_characters)\n",
    "max_encoder_seq_length = max([len(txt) for txt in input_texts])\n",
    "max_decoder_seq_length = max([len(txt) for txt in target_texts])"
   ]
  },
  {
   "cell_type": "code",
   "execution_count": 7,
   "metadata": {},
   "outputs": [
    {
     "name": "stdout",
     "output_type": "stream",
     "text": [
      "Number of samples: 10000\n",
      "Number of unique input tokens : 70\n",
      "Number of unique output tokens: 93\n",
      "Max sequence length for inputs : 16\n",
      "Max sequence length for outputs: 59\n"
     ]
    }
   ],
   "source": [
    "print('Number of samples:', len(input_texts))\n",
    "print('Number of unique input tokens :', num_encoder_tokens)\n",
    "print('Number of unique output tokens:', num_decoder_tokens)\n",
    "print('Max sequence length for inputs :', max_encoder_seq_length)\n",
    "print('Max sequence length for outputs:', max_decoder_seq_length)"
   ]
  },
  {
   "cell_type": "code",
   "execution_count": 8,
   "metadata": {
    "collapsed": true
   },
   "outputs": [],
   "source": [
    "# 各文字に番号を振っていく。\n",
    "input_token_index  = dict([(char, i) for i, char in enumerate(input_characters)])\n",
    "target_token_index = dict([(char, i) for i, char in enumerate(target_characters)])"
   ]
  },
  {
   "cell_type": "code",
   "execution_count": 9,
   "metadata": {
    "collapsed": true
   },
   "outputs": [],
   "source": [
    "# データを格納する箱を用意しておく。\n",
    "# エンコーダーで使われる (データ数, 文章の最大長, 文字の種類)\n",
    "encoder_input_data  = np.zeros((len(input_texts), max_encoder_seq_length, num_encoder_tokens), dtype='float32')\n",
    "# デコーダーで使われる (データ数, 文章の最大長, 文字の種類)\n",
    "decoder_input_data  = np.zeros((len(input_texts), max_decoder_seq_length, num_decoder_tokens), dtype='float32')\n",
    "decoder_target_data = np.zeros((len(input_texts), max_decoder_seq_length, num_decoder_tokens), dtype='float32')"
   ]
  },
  {
   "cell_type": "code",
   "execution_count": 10,
   "metadata": {
    "collapsed": true
   },
   "outputs": [],
   "source": [
    "for i, (input_text, target_text) in enumerate(zip(input_texts, target_texts)):\n",
    "    for t, char in enumerate(input_text):\n",
    "        # i 番目のデータの t 文字目が index 表記だと input_token_index[char] なので、そこを 1 にする。\n",
    "        encoder_input_data[i, t, input_token_index[char]] = 1.\n",
    "        \n",
    "    for t, char in enumerate(target_text):\n",
    "        # 同様の処理をデコーダー側でも行う。\n",
    "        decoder_input_data[i, t, target_token_index[char]] = 1.\n",
    "        if t > 0:\n",
    "            # デコーダ側の正解データは入力文字の一つ後の文字なので、一文字ずらす。\n",
    "            decoder_target_data[i, t-1, target_token_index[char]] = 1."
   ]
  },
  {
   "cell_type": "markdown",
   "metadata": {},
   "source": [
    "***"
   ]
  },
  {
   "cell_type": "markdown",
   "metadata": {},
   "source": [
    "## Model"
   ]
  },
  {
   "cell_type": "code",
   "execution_count": 11,
   "metadata": {},
   "outputs": [
    {
     "name": "stderr",
     "output_type": "stream",
     "text": [
      "Using TensorFlow backend.\n"
     ]
    }
   ],
   "source": [
    "import keras"
   ]
  },
  {
   "cell_type": "code",
   "execution_count": 12,
   "metadata": {
    "collapsed": true
   },
   "outputs": [],
   "source": [
    "# パラメータの指定。\n",
    "batch_size = 64\n",
    "epochs = 100\n",
    "latent_dim = 256  # 隠れ層(e)の次元。単語をベクトル化した時の特徴空間の次元数。"
   ]
  },
  {
   "cell_type": "markdown",
   "metadata": {},
   "source": [
    "### Encoder"
   ]
  },
  {
   "cell_type": "markdown",
   "metadata": {},
   "source": [
    "<img src=\"./img/vanilla-encoder.svg\" width=40%>"
   ]
  },
  {
   "cell_type": "code",
   "execution_count": 13,
   "metadata": {},
   "outputs": [
    {
     "name": "stdout",
     "output_type": "stream",
     "text": [
      "WARNING:tensorflow:From /Users/iwasakishuto/.pyenv/versions/anaconda3-5.0.1/lib/python3.6/site-packages/tensorflow/python/framework/op_def_library.py:263: colocate_with (from tensorflow.python.framework.ops) is deprecated and will be removed in a future version.\n",
      "Instructions for updating:\n",
      "Colocations handled automatically by placer.\n"
     ]
    }
   ],
   "source": [
    "encoder_inputs = keras.layers.Input(shape=(None, num_encoder_tokens), name=\"encoder-input\")\n",
    "# \"return_state=True\" にして、毎時刻の出力を得る。\n",
    "encoder = keras.layers.LSTM(units=latent_dim, return_state=True, name=\"encoder-lstm\")\n",
    "encoder_outputs, state_h, state_c = encoder(encoder_inputs)\n",
    "\n",
    "# `encoder_outputs` を無視し、それ以外を取得する。\n",
    "encoder_states = [state_h, state_c]"
   ]
  },
  {
   "cell_type": "markdown",
   "metadata": {},
   "source": [
    "### Decoder"
   ]
  },
  {
   "cell_type": "markdown",
   "metadata": {},
   "source": [
    "<img src=\"./img/vanilla-decoder.svg\" width=40%>"
   ]
  },
  {
   "cell_type": "code",
   "execution_count": 14,
   "metadata": {
    "collapsed": true
   },
   "outputs": [],
   "source": [
    "# `encoder_states` を初期状態としたデコーダを作成。\n",
    "decoder_inputs = keras.layers.Input(shape=(None, num_decoder_tokens), name=\"decoder-input\")\n",
    "\n",
    "# 訓練時にはデコーダーの出力を次の入力に使用せず、正解データを入力に使う。\n",
    "# これを行わないと学習が完了しない、遅い、などの問題がある。\n",
    "# もちろん推論時には一つ前のデコーダーの出力を入力として使う。\n",
    "decoder_lstm = keras.layers.LSTM(latent_dim, return_sequences=True, return_state=True, name=\"decoder-lstm\")\n",
    "decoder_outputs, _, _ = decoder_lstm(decoder_inputs, initial_state=encoder_states)\n",
    "decoder_dense = keras.layers.Dense(num_decoder_tokens, activation='softmax', name=\"output\")\n",
    "decoder_outputs = decoder_dense(decoder_outputs)"
   ]
  },
  {
   "cell_type": "markdown",
   "metadata": {},
   "source": [
    "### Full-Model\n",
    "`encoder_input_data` と `decoder_input_data` を受け取って `decoder_target_data` を出力するモデルを作成する。"
   ]
  },
  {
   "cell_type": "code",
   "execution_count": 15,
   "metadata": {},
   "outputs": [],
   "source": [
    "model = keras.models.Model([encoder_inputs, decoder_inputs], decoder_outputs)"
   ]
  },
  {
   "cell_type": "code",
   "execution_count": 16,
   "metadata": {},
   "outputs": [],
   "source": [
    "from keras.utils.vis_utils import plot_model\n",
    "plot_model(model, \"./img/training-model.png\")"
   ]
  },
  {
   "cell_type": "markdown",
   "metadata": {},
   "source": [
    "<img src=\"./img/training-model.png\" width=30%>"
   ]
  },
  {
   "cell_type": "markdown",
   "metadata": {},
   "source": [
    "### Training"
   ]
  },
  {
   "cell_type": "code",
   "execution_count": 17,
   "metadata": {},
   "outputs": [],
   "source": [
    "model.compile(optimizer='rmsprop', loss='categorical_crossentropy')"
   ]
  },
  {
   "cell_type": "markdown",
   "metadata": {},
   "source": [
    "```python\n",
    "model.fit([encoder_input_data, decoder_input_data], \n",
    "          decoder_target_data,\n",
    "          batch_size=batch_size,\n",
    "          epochs=epochs,\n",
    "          validation_split=0.2)\n",
    "```"
   ]
  },
  {
   "cell_type": "markdown",
   "metadata": {},
   "source": [
    "```python\n",
    "# Save model\n",
    "model.save('./weights/s2s.h5')\n",
    "```"
   ]
  },
  {
   "cell_type": "code",
   "execution_count": 18,
   "metadata": {},
   "outputs": [],
   "source": [
    "model.load_weights('./weights/s2s.h5')"
   ]
  },
  {
   "cell_type": "markdown",
   "metadata": {},
   "source": [
    "### Inference\n",
    "学習時と推論時のモデルは少し異なるので、定義する。流れとしては、\n",
    "1. 入力文字列をエンコードし、デコード時の初期状態(e)を取得する。\n",
    "2. デコード時の初期状態 `<sos>` と e を入力として受け取り出力する。\n",
    "3. 一つ前のデコーダーの出力とその時点のターゲット文字を入力として受け取り出力する、を繰り返す。"
   ]
  },
  {
   "cell_type": "code",
   "execution_count": 19,
   "metadata": {},
   "outputs": [],
   "source": [
    "# encoder\n",
    "encoder_model = keras.models.Model(encoder_inputs, encoder_states)"
   ]
  },
  {
   "cell_type": "code",
   "execution_count": 20,
   "metadata": {
    "collapsed": true
   },
   "outputs": [],
   "source": [
    "from keras.utils.vis_utils import plot_model\n",
    "plot_model(encoder_model, \"./img/inference-encoder-model.png\")"
   ]
  },
  {
   "cell_type": "markdown",
   "metadata": {},
   "source": [
    "<img src=\"./img/inference-encoder-model.png\" width=20%>"
   ]
  },
  {
   "cell_type": "code",
   "execution_count": 21,
   "metadata": {},
   "outputs": [],
   "source": [
    "# decoder\n",
    "decoder_state_input_h = keras.layers.Input(shape=(latent_dim,), name=\"hidden-input\")\n",
    "decoder_state_input_c = keras.layers.Input(shape=(latent_dim,), name=\"source-input\")\n",
    "decoder_states_inputs = [decoder_state_input_h, decoder_state_input_c]"
   ]
  },
  {
   "cell_type": "code",
   "execution_count": 22,
   "metadata": {},
   "outputs": [],
   "source": [
    "decoder_outputs, state_h, state_c = decoder_lstm(decoder_inputs, initial_state=decoder_states_inputs)\n",
    "decoder_states = [state_h, state_c]\n",
    "decoder_outputs = decoder_dense(decoder_outputs)"
   ]
  },
  {
   "cell_type": "code",
   "execution_count": 23,
   "metadata": {},
   "outputs": [],
   "source": [
    "decoder_model = keras.models.Model([decoder_inputs] + decoder_states_inputs, [decoder_outputs] + decoder_states)"
   ]
  },
  {
   "cell_type": "code",
   "execution_count": 24,
   "metadata": {
    "collapsed": true
   },
   "outputs": [],
   "source": [
    "from keras.utils.vis_utils import plot_model\n",
    "plot_model(decoder_model, \"./img/inference-decoder-model.png\")"
   ]
  },
  {
   "cell_type": "markdown",
   "metadata": {},
   "source": [
    "<img src=\"./img/inference-decoder-model.png\" width=50%>"
   ]
  },
  {
   "cell_type": "markdown",
   "metadata": {},
   "source": [
    "***\n",
    "|Training|Inference|\n",
    "|:--:|:--:|\n",
    "|<img src=\"./img/training-model.png\">|<img src=\"./img/inference-encoder-model.png\"><img src=\"./img/inference-decoder-model.png\">|\n",
    "***"
   ]
  },
  {
   "cell_type": "code",
   "execution_count": 25,
   "metadata": {},
   "outputs": [],
   "source": [
    "# 逆引き用の辞書。インデックスからcharacterを出力する。\n",
    "reverse_input_char_index  = dict((i, char) for char, i in input_token_index.items())\n",
    "reverse_target_char_index = dict((i, char) for char, i in target_token_index.items())"
   ]
  },
  {
   "cell_type": "code",
   "execution_count": 26,
   "metadata": {
    "collapsed": true
   },
   "outputs": [],
   "source": [
    "# ビームサーチを行わず、各ステップで最も予測確率が高いものを選択する。\n",
    "def decode_sequence(input_seq):\n",
    "    # デコード時の隠れ層の初期状態を求める。 [(1, 256), (1, 256)]\n",
    "    states_value = encoder_model.predict(input_seq)\n",
    "\n",
    "    # デコーダーの入力（ターゲットトークン）は、同じものを使い続ける。\n",
    "    target_seq = np.zeros((1, 1, num_decoder_tokens))\n",
    "    # <sos> を定義する。\n",
    "    target_seq[0, 0, target_token_index['\\t']] = 1.\n",
    "\n",
    "    decoded_sentence = '' # デコードされた文字をつなげていく。\n",
    "    while True:\n",
    "        output_tokens, h, c = decoder_model.predict([target_seq] + states_value)\n",
    "\n",
    "        # 最も予測確率が高いものを出力とする。\n",
    "        sampled_token_index = np.argmax(output_tokens[0, -1, :])\n",
    "        sampled_char = reverse_target_char_index[sampled_token_index]\n",
    "        decoded_sentence += sampled_char\n",
    "\n",
    "        # <eos>を出力するか、最大長を超えたら終了する。\n",
    "        if (sampled_char == '\\n' or len(decoded_sentence) > max_decoder_seq_length):\n",
    "            break\n",
    "\n",
    "        # 前のデコーダーの出力結果を入力にする。\n",
    "        target_seq = np.zeros((1, 1, num_decoder_tokens))\n",
    "        target_seq[0, 0, sampled_token_index] = 1.\n",
    "\n",
    "        # 状態も更新する。\n",
    "        states_value = [h, c]\n",
    "\n",
    "    return decoded_sentence"
   ]
  },
  {
   "cell_type": "code",
   "execution_count": 27,
   "metadata": {},
   "outputs": [
    {
     "name": "stdout",
     "output_type": "stream",
     "text": [
      "--------------------\n",
      "Input sentence: Go.\n",
      "Decoded sentence: Va !\n",
      "\n",
      "--------------------\n",
      "Input sentence: Hi.\n",
      "Decoded sentence: Salut !\n",
      "\n",
      "--------------------\n",
      "Input sentence: Run!\n",
      "Decoded sentence: Courez !\n",
      "\n",
      "--------------------\n",
      "Input sentence: Run!\n",
      "Decoded sentence: Courez !\n",
      "\n",
      "--------------------\n",
      "Input sentence: Who?\n",
      "Decoded sentence: Qui ?\n",
      "\n"
     ]
    }
   ],
   "source": [
    "# 確認(とはいえこれは訓練データ)\n",
    "for seq_index in range(5):\n",
    "    input_seq = encoder_input_data[seq_index: seq_index + 1]\n",
    "    decoded_sentence = decode_sequence(input_seq)\n",
    "    print('-'*20)\n",
    "    print('Input sentence:', input_texts[seq_index])\n",
    "    print('Decoded sentence:', decoded_sentence)"
   ]
  },
  {
   "cell_type": "code",
   "execution_count": null,
   "metadata": {
    "collapsed": true
   },
   "outputs": [],
   "source": []
  }
 ],
 "metadata": {
  "hide_input": false,
  "kernelspec": {
   "display_name": "Python 3",
   "language": "python",
   "name": "python3"
  },
  "language_info": {
   "codemirror_mode": {
    "name": "ipython",
    "version": 3
   },
   "file_extension": ".py",
   "mimetype": "text/x-python",
   "name": "python",
   "nbconvert_exporter": "python",
   "pygments_lexer": "ipython3",
   "version": "3.6.8"
  }
 },
 "nbformat": 4,
 "nbformat_minor": 2
}
